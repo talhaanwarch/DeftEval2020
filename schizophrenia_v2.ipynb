{
  "nbformat": 4,
  "nbformat_minor": 0,
  "metadata": {
    "colab": {
      "name": "schizo14final",
      "provenance": [],
      "collapsed_sections": [
        "nAZkeuKAh84E",
        "M49QbDhkDHIT",
        "xePQjKQ-pHqh"
      ],
      "include_colab_link": true
    },
    "kernelspec": {
      "name": "python3",
      "display_name": "Python 3"
    }
  },
  "cells": [
    {
      "cell_type": "markdown",
      "metadata": {
        "id": "view-in-github",
        "colab_type": "text"
      },
      "source": [
        "<a href=\"https://colab.research.google.com/github/talhaanwarch/DeftEval2020/blob/master/schizophrenia_v2.ipynb\" target=\"_parent\"><img src=\"https://colab.research.google.com/assets/colab-badge.svg\" alt=\"Open In Colab\"/></a>"
      ]
    },
    {
      "cell_type": "markdown",
      "metadata": {
        "id": "nAZkeuKAh84E",
        "colab_type": "text"
      },
      "source": [
        "# Install Packages"
      ]
    },
    {
      "cell_type": "markdown",
      "metadata": {
        "id": "gZTedeQ8kjcX",
        "colab_type": "text"
      },
      "source": [
        "In this approach data is segmented and feature are calculated for each segment. Then these features are averaged"
      ]
    },
    {
      "cell_type": "code",
      "metadata": {
        "id": "E2dWHVU6--Do",
        "colab_type": "code",
        "colab": {}
      },
      "source": [
        "import warnings\n",
        "warnings.filterwarnings(\"ignore\", category=DeprecationWarning)"
      ],
      "execution_count": 0,
      "outputs": []
    },
    {
      "cell_type": "code",
      "metadata": {
        "id": "T9bXPLMDCobm",
        "colab_type": "code",
        "outputId": "a2899e91-6244-4e94-a532-78e9cafe3049",
        "colab": {
          "base_uri": "https://localhost:8080/",
          "height": 0
        }
      },
      "source": [
        "!pip install wfdb\n",
        "!pip install mne\n",
        "!pip install nitime\n",
        "!pip install nolds"
      ],
      "execution_count": 2,
      "outputs": [
        {
          "output_type": "stream",
          "text": [
            "Requirement already satisfied: wfdb in /usr/local/lib/python3.6/dist-packages (2.2.1)\n",
            "Requirement already satisfied: sklearn>=0.0 in /usr/local/lib/python3.6/dist-packages (from wfdb) (0.0)\n",
            "Requirement already satisfied: scipy>=0.19.0 in /usr/local/lib/python3.6/dist-packages (from wfdb) (1.3.2)\n",
            "Requirement already satisfied: pandas>=0.19.1 in /usr/local/lib/python3.6/dist-packages (from wfdb) (0.25.3)\n",
            "Requirement already satisfied: numpy>=1.11.0 in /usr/local/lib/python3.6/dist-packages (from wfdb) (1.17.4)\n",
            "Requirement already satisfied: nose>=1.3.7 in /usr/local/lib/python3.6/dist-packages (from wfdb) (1.3.7)\n",
            "Requirement already satisfied: requests>=2.10.0 in /usr/local/lib/python3.6/dist-packages (from wfdb) (2.21.0)\n",
            "Requirement already satisfied: matplotlib>=1.5.1 in /usr/local/lib/python3.6/dist-packages (from wfdb) (3.1.1)\n",
            "Requirement already satisfied: scikit-learn in /usr/local/lib/python3.6/dist-packages (from sklearn>=0.0->wfdb) (0.21.3)\n",
            "Requirement already satisfied: pytz>=2017.2 in /usr/local/lib/python3.6/dist-packages (from pandas>=0.19.1->wfdb) (2018.9)\n",
            "Requirement already satisfied: python-dateutil>=2.6.1 in /usr/local/lib/python3.6/dist-packages (from pandas>=0.19.1->wfdb) (2.6.1)\n",
            "Requirement already satisfied: chardet<3.1.0,>=3.0.2 in /usr/local/lib/python3.6/dist-packages (from requests>=2.10.0->wfdb) (3.0.4)\n",
            "Requirement already satisfied: urllib3<1.25,>=1.21.1 in /usr/local/lib/python3.6/dist-packages (from requests>=2.10.0->wfdb) (1.24.3)\n",
            "Requirement already satisfied: idna<2.9,>=2.5 in /usr/local/lib/python3.6/dist-packages (from requests>=2.10.0->wfdb) (2.8)\n",
            "Requirement already satisfied: certifi>=2017.4.17 in /usr/local/lib/python3.6/dist-packages (from requests>=2.10.0->wfdb) (2019.9.11)\n",
            "Requirement already satisfied: pyparsing!=2.0.4,!=2.1.2,!=2.1.6,>=2.0.1 in /usr/local/lib/python3.6/dist-packages (from matplotlib>=1.5.1->wfdb) (2.4.5)\n",
            "Requirement already satisfied: kiwisolver>=1.0.1 in /usr/local/lib/python3.6/dist-packages (from matplotlib>=1.5.1->wfdb) (1.1.0)\n",
            "Requirement already satisfied: cycler>=0.10 in /usr/local/lib/python3.6/dist-packages (from matplotlib>=1.5.1->wfdb) (0.10.0)\n",
            "Requirement already satisfied: joblib>=0.11 in /usr/local/lib/python3.6/dist-packages (from scikit-learn->sklearn>=0.0->wfdb) (0.14.0)\n",
            "Requirement already satisfied: six>=1.5 in /usr/local/lib/python3.6/dist-packages (from python-dateutil>=2.6.1->pandas>=0.19.1->wfdb) (1.12.0)\n",
            "Requirement already satisfied: setuptools in /usr/local/lib/python3.6/dist-packages (from kiwisolver>=1.0.1->matplotlib>=1.5.1->wfdb) (41.4.0)\n",
            "Requirement already satisfied: mne in /usr/local/lib/python3.6/dist-packages (0.19.1)\n",
            "Requirement already satisfied: scipy>=0.17.1 in /usr/local/lib/python3.6/dist-packages (from mne) (1.3.2)\n",
            "Requirement already satisfied: numpy>=1.11.3 in /usr/local/lib/python3.6/dist-packages (from mne) (1.17.4)\n",
            "Requirement already satisfied: nitime in /usr/local/lib/python3.6/dist-packages (0.8.1)\n",
            "Requirement already satisfied: matplotlib in /usr/local/lib/python3.6/dist-packages (from nitime) (3.1.1)\n",
            "Requirement already satisfied: nibabel in /usr/local/lib/python3.6/dist-packages (from nitime) (2.3.3)\n",
            "Requirement already satisfied: cython in /usr/local/lib/python3.6/dist-packages (from nitime) (0.29.14)\n",
            "Requirement already satisfied: numpy in /usr/local/lib/python3.6/dist-packages (from nitime) (1.17.4)\n",
            "Requirement already satisfied: scipy in /usr/local/lib/python3.6/dist-packages (from nitime) (1.3.2)\n",
            "Requirement already satisfied: networkx in /usr/local/lib/python3.6/dist-packages (from nitime) (2.4)\n",
            "Requirement already satisfied: python-dateutil>=2.1 in /usr/local/lib/python3.6/dist-packages (from matplotlib->nitime) (2.6.1)\n",
            "Requirement already satisfied: pyparsing!=2.0.4,!=2.1.2,!=2.1.6,>=2.0.1 in /usr/local/lib/python3.6/dist-packages (from matplotlib->nitime) (2.4.5)\n",
            "Requirement already satisfied: kiwisolver>=1.0.1 in /usr/local/lib/python3.6/dist-packages (from matplotlib->nitime) (1.1.0)\n",
            "Requirement already satisfied: cycler>=0.10 in /usr/local/lib/python3.6/dist-packages (from matplotlib->nitime) (0.10.0)\n",
            "Requirement already satisfied: bz2file in /usr/local/lib/python3.6/dist-packages (from nibabel->nitime) (0.98)\n",
            "Requirement already satisfied: six>=1.3 in /usr/local/lib/python3.6/dist-packages (from nibabel->nitime) (1.12.0)\n",
            "Requirement already satisfied: decorator>=4.3.0 in /usr/local/lib/python3.6/dist-packages (from networkx->nitime) (4.4.1)\n",
            "Requirement already satisfied: setuptools in /usr/local/lib/python3.6/dist-packages (from kiwisolver>=1.0.1->matplotlib->nitime) (41.4.0)\n",
            "Requirement already satisfied: nolds in /usr/local/lib/python3.6/dist-packages (0.5.2)\n",
            "Requirement already satisfied: setuptools in /usr/local/lib/python3.6/dist-packages (from nolds) (41.4.0)\n",
            "Requirement already satisfied: numpy in /usr/local/lib/python3.6/dist-packages (from nolds) (1.17.4)\n",
            "Requirement already satisfied: future in /usr/local/lib/python3.6/dist-packages (from nolds) (0.16.0)\n"
          ],
          "name": "stdout"
        }
      ]
    },
    {
      "cell_type": "code",
      "metadata": {
        "id": "wN2iOjELEkWh",
        "colab_type": "code",
        "outputId": "2e8860a7-dc59-4988-bad0-31c6ab190c6d",
        "colab": {
          "base_uri": "https://localhost:8080/",
          "height": 0
        }
      },
      "source": [
        "!pip install git+https://github.com/forrestbao/pyeeg.git\n",
        "!pip install git+https://github.com/raphaelvallat/entropy.git"
      ],
      "execution_count": 3,
      "outputs": [
        {
          "output_type": "stream",
          "text": [
            "Collecting git+https://github.com/forrestbao/pyeeg.git\n",
            "  Cloning https://github.com/forrestbao/pyeeg.git to /tmp/pip-req-build-6e7dz64k\n",
            "  Running command git clone -q https://github.com/forrestbao/pyeeg.git /tmp/pip-req-build-6e7dz64k\n",
            "Requirement already satisfied (use --upgrade to upgrade): pyeeg==0.4.4 from git+https://github.com/forrestbao/pyeeg.git in /usr/local/lib/python3.6/dist-packages\n",
            "Requirement already satisfied: numpy>=1.9.2 in /usr/local/lib/python3.6/dist-packages (from pyeeg==0.4.4) (1.17.4)\n",
            "Building wheels for collected packages: pyeeg\n",
            "  Building wheel for pyeeg (setup.py) ... \u001b[?25l\u001b[?25hdone\n",
            "  Created wheel for pyeeg: filename=pyeeg-0.4.4-py2.py3-none-any.whl size=28121 sha256=4bc38108a4d20e8d7366d9fb7b63d92c44bf398439ebac833e97ac343049b651\n",
            "  Stored in directory: /tmp/pip-ephem-wheel-cache-gciehvq_/wheels/2d/3f/ad/106d4fc80b61d1ea1fc18e76e7439fd98aa043d83d58eae741\n",
            "Successfully built pyeeg\n",
            "Collecting git+https://github.com/raphaelvallat/entropy.git\n",
            "  Cloning https://github.com/raphaelvallat/entropy.git to /tmp/pip-req-build-7kcck5te\n",
            "  Running command git clone -q https://github.com/raphaelvallat/entropy.git /tmp/pip-req-build-7kcck5te\n",
            "Requirement already satisfied (use --upgrade to upgrade): entropy==0.1.0 from git+https://github.com/raphaelvallat/entropy.git in /usr/local/lib/python3.6/dist-packages\n",
            "Building wheels for collected packages: entropy\n",
            "  Building wheel for entropy (setup.py) ... \u001b[?25l\u001b[?25hdone\n",
            "  Created wheel for entropy: filename=entropy-0.1.0-cp36-none-any.whl size=14098 sha256=e44f7421730130cd89aa164290ede9be04566338478286b5f6c187efcda78a8f\n",
            "  Stored in directory: /tmp/pip-ephem-wheel-cache-tl73wloj/wheels/60/ed/d3/b715e38438f1f39edb1383aea79c578073953b25fa576fc71e\n",
            "Successfully built entropy\n"
          ],
          "name": "stdout"
        }
      ]
    },
    {
      "cell_type": "markdown",
      "metadata": {
        "id": "M49QbDhkDHIT",
        "colab_type": "text"
      },
      "source": [
        "# Download data"
      ]
    },
    {
      "cell_type": "code",
      "metadata": {
        "id": "DJx67zwDEJjM",
        "colab_type": "code",
        "colab": {
          "base_uri": "https://localhost:8080/",
          "height": 0
        },
        "outputId": "7326dea1-75d7-494e-aaaf-71640cc03d72"
      },
      "source": [
        "from google.colab import drive\n",
        "drive.mount('/content/drive',force_remount=True)"
      ],
      "execution_count": 4,
      "outputs": [
        {
          "output_type": "stream",
          "text": [
            "Mounted at /content/drive\n"
          ],
          "name": "stdout"
        }
      ]
    },
    {
      "cell_type": "code",
      "metadata": {
        "id": "OJiEQY2LCZ4f",
        "colab_type": "code",
        "colab": {
          "base_uri": "https://localhost:8080/",
          "height": 0
        },
        "outputId": "e90e656c-3521-43f6-8b81-fd547f5d50b3"
      },
      "source": [
        "cd /content/drive/My Drive/dataset/SchizoPhrenia 14"
      ],
      "execution_count": 5,
      "outputs": [
        {
          "output_type": "stream",
          "text": [
            "/content/drive/My Drive/dataset/SchizoPhrenia 14\n"
          ],
          "name": "stdout"
        }
      ]
    },
    {
      "cell_type": "markdown",
      "metadata": {
        "id": "rCn0gh3kDMOI",
        "colab_type": "text"
      },
      "source": [
        "# Read data"
      ]
    },
    {
      "cell_type": "code",
      "metadata": {
        "id": "CfgtZg96ER8W",
        "colab_type": "code",
        "colab": {
          "base_uri": "https://localhost:8080/",
          "height": 70
        },
        "outputId": "cddbc783-253f-4051-fd2f-b8f09fac5b1c"
      },
      "source": [
        "import glob\n",
        "import os\n",
        "import mne\n",
        "import re\n",
        "import numpy as np\n",
        "from sklearn.preprocessing import MaxAbsScaler"
      ],
      "execution_count": 6,
      "outputs": [
        {
          "output_type": "stream",
          "text": [
            "/usr/local/lib/python3.6/dist-packages/numba/decorators.py:146: RuntimeWarning: Caching is not available when the 'parallel' target is in use. Caching is now being disabled to allow execution to continue.\n",
            "  warnings.warn(msg, RuntimeWarning)\n"
          ],
          "name": "stderr"
        }
      ]
    },
    {
      "cell_type": "code",
      "metadata": {
        "id": "Fx9M98nnyfak",
        "colab_type": "code",
        "colab": {}
      },
      "source": [
        "from scipy import signal\n",
        "nyq = 0.5 * 250\n",
        "l=0.2\n",
        "low = l / nyq\n",
        "high = 45 / nyq\n",
        "b, a = signal.butter(4, [low,high], 'band')"
      ],
      "execution_count": 0,
      "outputs": []
    },
    {
      "cell_type": "code",
      "metadata": {
        "id": "i9B7Fx9tCGyW",
        "colab_type": "code",
        "colab": {
          "base_uri": "https://localhost:8080/",
          "height": 1000
        },
        "outputId": "85448eb2-f3ed-40d6-fb62-8b479bb5542d"
      },
      "source": [
        "HC_files=glob.glob('HC/*.edf')    \n",
        "HC=[]\n",
        "for i in HC_files:\n",
        "    data=mne.io.read_raw_edf(i,preload=True)\n",
        "    #data.set_eeg_reference('average')\n",
        "    data=data.get_data()\n",
        "    data=signal.filtfilt(b, a, data)\n",
        "   # data=mne.filter.filter_data(data, sfreq=250, l_freq=0.1, h_freq=45)\n",
        "    #scaler=StandardScaler()        \n",
        "    #data=scaler.fit_transform(data.T)     \n",
        "    #data=maxabs_scale(data.T)\n",
        "    HC.append(data.T)"
      ],
      "execution_count": 8,
      "outputs": [
        {
          "output_type": "stream",
          "text": [
            "Extracting EDF parameters from /content/drive/My Drive/dataset/SchizoPhrenia 14/HC/h01.edf...\n",
            "EDF file detected\n",
            "Setting channel info structure...\n",
            "Creating raw.info structure...\n",
            "Reading 0 ... 231249  =      0.000 ...   924.996 secs...\n",
            "Extracting EDF parameters from /content/drive/My Drive/dataset/SchizoPhrenia 14/HC/h02.edf...\n",
            "EDF file detected\n",
            "Setting channel info structure...\n",
            "Creating raw.info structure...\n",
            "Reading 0 ... 227499  =      0.000 ...   909.996 secs...\n",
            "Extracting EDF parameters from /content/drive/My Drive/dataset/SchizoPhrenia 14/HC/h03.edf...\n",
            "EDF file detected\n",
            "Setting channel info structure...\n",
            "Creating raw.info structure...\n",
            "Reading 0 ... 227499  =      0.000 ...   909.996 secs...\n",
            "Extracting EDF parameters from /content/drive/My Drive/dataset/SchizoPhrenia 14/HC/h04.edf...\n",
            "EDF file detected\n",
            "Setting channel info structure...\n",
            "Creating raw.info structure...\n",
            "Reading 0 ... 231249  =      0.000 ...   924.996 secs...\n",
            "Extracting EDF parameters from /content/drive/My Drive/dataset/SchizoPhrenia 14/HC/h05.edf...\n",
            "EDF file detected\n",
            "Setting channel info structure...\n",
            "Creating raw.info structure...\n",
            "Reading 0 ... 236249  =      0.000 ...   944.996 secs...\n",
            "Extracting EDF parameters from /content/drive/My Drive/dataset/SchizoPhrenia 14/HC/h06.edf...\n",
            "EDF file detected\n",
            "Setting channel info structure...\n",
            "Creating raw.info structure...\n",
            "Reading 0 ... 232499  =      0.000 ...   929.996 secs...\n",
            "Extracting EDF parameters from /content/drive/My Drive/dataset/SchizoPhrenia 14/HC/h07.edf...\n",
            "EDF file detected\n",
            "Setting channel info structure...\n",
            "Creating raw.info structure...\n",
            "Reading 0 ... 227499  =      0.000 ...   909.996 secs...\n",
            "Extracting EDF parameters from /content/drive/My Drive/dataset/SchizoPhrenia 14/HC/h08.edf...\n",
            "EDF file detected\n",
            "Setting channel info structure...\n",
            "Creating raw.info structure...\n",
            "Reading 0 ... 227499  =      0.000 ...   909.996 secs...\n",
            "Extracting EDF parameters from /content/drive/My Drive/dataset/SchizoPhrenia 14/HC/h09.edf...\n",
            "EDF file detected\n",
            "Setting channel info structure...\n",
            "Creating raw.info structure...\n",
            "Reading 0 ... 226249  =      0.000 ...   904.996 secs...\n",
            "Extracting EDF parameters from /content/drive/My Drive/dataset/SchizoPhrenia 14/HC/h10.edf...\n",
            "EDF file detected\n",
            "Setting channel info structure...\n",
            "Creating raw.info structure...\n",
            "Reading 0 ... 278749  =      0.000 ...  1114.996 secs...\n",
            "Extracting EDF parameters from /content/drive/My Drive/dataset/SchizoPhrenia 14/HC/h11.edf...\n",
            "EDF file detected\n",
            "Setting channel info structure...\n",
            "Creating raw.info structure...\n",
            "Reading 0 ... 228749  =      0.000 ...   914.996 secs...\n",
            "Extracting EDF parameters from /content/drive/My Drive/dataset/SchizoPhrenia 14/HC/h12.edf...\n",
            "EDF file detected\n",
            "Setting channel info structure...\n",
            "Creating raw.info structure...\n",
            "Reading 0 ... 224999  =      0.000 ...   899.996 secs...\n",
            "Extracting EDF parameters from /content/drive/My Drive/dataset/SchizoPhrenia 14/HC/h13.edf...\n",
            "EDF file detected\n",
            "Setting channel info structure...\n",
            "Creating raw.info structure...\n",
            "Reading 0 ... 241249  =      0.000 ...   964.996 secs...\n",
            "Extracting EDF parameters from /content/drive/My Drive/dataset/SchizoPhrenia 14/HC/h14.edf...\n",
            "EDF file detected\n",
            "Setting channel info structure...\n",
            "Creating raw.info structure...\n",
            "Reading 0 ... 216249  =      0.000 ...   864.996 secs...\n"
          ],
          "name": "stdout"
        }
      ]
    },
    {
      "cell_type": "code",
      "metadata": {
        "id": "zAfS6jH9CQtg",
        "colab_type": "code",
        "colab": {
          "base_uri": "https://localhost:8080/",
          "height": 1000
        },
        "outputId": "97a30cc1-6bfe-458d-85d3-323fbaaa03e0"
      },
      "source": [
        "SZ_files=glob.glob('SZ/*.edf')\n",
        "SZ=[]\n",
        "for i in SZ_files:\n",
        "    data=mne.io.read_raw_edf(i,preload=True)\n",
        "    #data.set_eeg_reference('average')\n",
        "    data=data.get_data()\n",
        "    data=signal.filtfilt(b, a, data)\n",
        "    #data=mne.filter.filter_data(data, sfreq=250, l_freq=0.1, h_freq=45)\n",
        "    #data=maxabs_scale(data.T)\n",
        "    SZ.append(data.T)"
      ],
      "execution_count": 9,
      "outputs": [
        {
          "output_type": "stream",
          "text": [
            "Extracting EDF parameters from /content/drive/My Drive/dataset/SchizoPhrenia 14/SZ/s01.edf...\n",
            "EDF file detected\n",
            "Setting channel info structure...\n",
            "Creating raw.info structure...\n",
            "Reading 0 ... 211249  =      0.000 ...   844.996 secs...\n",
            "Extracting EDF parameters from /content/drive/My Drive/dataset/SchizoPhrenia 14/SZ/s02.edf...\n",
            "EDF file detected\n",
            "Setting channel info structure...\n",
            "Creating raw.info structure...\n",
            "Reading 0 ... 286249  =      0.000 ...  1144.996 secs...\n",
            "Extracting EDF parameters from /content/drive/My Drive/dataset/SchizoPhrenia 14/SZ/s03.edf...\n",
            "EDF file detected\n",
            "Setting channel info structure...\n",
            "Creating raw.info structure...\n",
            "Reading 0 ... 240999  =      0.000 ...   963.996 secs...\n",
            "Extracting EDF parameters from /content/drive/My Drive/dataset/SchizoPhrenia 14/SZ/s04.edf...\n",
            "EDF file detected\n",
            "Setting channel info structure...\n",
            "Creating raw.info structure...\n",
            "Reading 0 ... 301249  =      0.000 ...  1204.996 secs...\n",
            "Extracting EDF parameters from /content/drive/My Drive/dataset/SchizoPhrenia 14/SZ/s05.edf...\n",
            "EDF file detected\n",
            "Setting channel info structure...\n",
            "Creating raw.info structure...\n",
            "Reading 0 ... 222499  =      0.000 ...   889.996 secs...\n",
            "Extracting EDF parameters from /content/drive/My Drive/dataset/SchizoPhrenia 14/SZ/s06.edf...\n",
            "EDF file detected\n",
            "Setting channel info structure...\n",
            "Creating raw.info structure...\n",
            "Reading 0 ... 184999  =      0.000 ...   739.996 secs...\n",
            "Extracting EDF parameters from /content/drive/My Drive/dataset/SchizoPhrenia 14/SZ/s07.edf...\n",
            "EDF file detected\n",
            "Setting channel info structure...\n",
            "Creating raw.info structure...\n",
            "Reading 0 ... 336499  =      0.000 ...  1345.996 secs...\n",
            "Extracting EDF parameters from /content/drive/My Drive/dataset/SchizoPhrenia 14/SZ/s08.edf...\n",
            "EDF file detected\n",
            "Setting channel info structure...\n",
            "Creating raw.info structure...\n",
            "Reading 0 ... 227749  =      0.000 ...   910.996 secs...\n",
            "Extracting EDF parameters from /content/drive/My Drive/dataset/SchizoPhrenia 14/SZ/s09.edf...\n",
            "EDF file detected\n",
            "Setting channel info structure...\n",
            "Creating raw.info structure...\n",
            "Reading 0 ... 296249  =      0.000 ...  1184.996 secs...\n",
            "Extracting EDF parameters from /content/drive/My Drive/dataset/SchizoPhrenia 14/SZ/s10.edf...\n",
            "EDF file detected\n",
            "Setting channel info structure...\n",
            "Creating raw.info structure...\n",
            "Reading 0 ... 212499  =      0.000 ...   849.996 secs...\n",
            "Extracting EDF parameters from /content/drive/My Drive/dataset/SchizoPhrenia 14/SZ/s11.edf...\n",
            "EDF file detected\n",
            "Setting channel info structure...\n",
            "Creating raw.info structure...\n",
            "Reading 0 ... 339999  =      0.000 ...  1359.996 secs...\n",
            "Extracting EDF parameters from /content/drive/My Drive/dataset/SchizoPhrenia 14/SZ/s12.edf...\n",
            "EDF file detected\n",
            "Setting channel info structure...\n",
            "Creating raw.info structure...\n",
            "Reading 0 ... 271749  =      0.000 ...  1086.996 secs...\n",
            "Extracting EDF parameters from /content/drive/My Drive/dataset/SchizoPhrenia 14/SZ/s13.edf...\n",
            "EDF file detected\n",
            "Setting channel info structure...\n",
            "Creating raw.info structure...\n",
            "Reading 0 ... 283749  =      0.000 ...  1134.996 secs...\n",
            "Extracting EDF parameters from /content/drive/My Drive/dataset/SchizoPhrenia 14/SZ/s14.edf...\n",
            "EDF file detected\n",
            "Setting channel info structure...\n",
            "Creating raw.info structure...\n",
            "Reading 0 ... 542499  =      0.000 ...  2169.996 secs...\n"
          ],
          "name": "stdout"
        }
      ]
    },
    {
      "cell_type": "code",
      "metadata": {
        "id": "7woBh5ZlEbRe",
        "colab_type": "code",
        "colab": {}
      },
      "source": [
        "def reshape(data):   \n",
        "    shape=data.ravel().shape[0]\n",
        "    s=shape%19000\n",
        "    if s!=0:\n",
        "        d=data.ravel()[s//2:-s//2].reshape(-1,1000,19)\n",
        "        #return np.swapaxes(d,1,2)   \n",
        "        return d\n",
        "    else: \n",
        "        d1=data.reshape(-1,1000,19)\n",
        "        #return np.swapaxes(d1,1,2)   \n",
        "        return d1\n",
        "        "
      ],
      "execution_count": 0,
      "outputs": []
    },
    {
      "cell_type": "code",
      "metadata": {
        "id": "SFKvvEyvEcC4",
        "colab_type": "code",
        "colab": {}
      },
      "source": [
        "HC_reshaped=[]\n",
        "for i in HC:\n",
        "    HC_reshaped.append(reshape(i))\n",
        "    \n",
        "    \n",
        "SZ_reshaped=[]\n",
        "for i in SZ:\n",
        "    SZ_reshaped.append(reshape(i))   "
      ],
      "execution_count": 0,
      "outputs": []
    },
    {
      "cell_type": "code",
      "metadata": {
        "id": "_8rXI4sQEe_p",
        "colab_type": "code",
        "colab": {}
      },
      "source": [
        ""
      ],
      "execution_count": 0,
      "outputs": []
    },
    {
      "cell_type": "markdown",
      "metadata": {
        "id": "FVH5rTmQDPZ4",
        "colab_type": "text"
      },
      "source": [
        "# Feature Extraction"
      ]
    },
    {
      "cell_type": "code",
      "metadata": {
        "id": "6vHod_4gETis",
        "colab_type": "code",
        "colab": {}
      },
      "source": [
        "from scipy import stats\n",
        "import pyeeg\n",
        "from entropy import *\n",
        "import pywt\n",
        "from nitime import algorithms as alg\n",
        "from sklearn import metrics\n",
        "from sklearn.model_selection import train_test_split\n",
        "from sklearn.preprocessing import StandardScaler,MaxAbsScaler\n",
        "from sklearn.preprocessing import StandardScaler,MaxAbsScaler\n",
        "from sklearn.svm import SVC\n",
        "from sklearn.linear_model import LogisticRegression\n",
        "from sklearn.neighbors import KNeighborsClassifier\n",
        "\n",
        "import nolds\n",
        "np.warnings.filterwarnings('ignore')"
      ],
      "execution_count": 0,
      "outputs": []
    },
    {
      "cell_type": "markdown",
      "metadata": {
        "id": "l6U_hSTce8Yn",
        "colab_type": "text"
      },
      "source": [
        "# Welch Features"
      ]
    },
    {
      "cell_type": "code",
      "metadata": {
        "id": "6vKQLI7YAggi",
        "colab_type": "code",
        "colab": {}
      },
      "source": [
        "#coming data shape 3000,18\n",
        "#incoming data shape should be 18,3000\n",
        "\n",
        "fs=250\n",
        "#low freq =0.3\n",
        "win = 2/0.2 * fs\n",
        "def welch_feature(data):\n",
        "  freq, Pxx_den = signal.welch(data.T,fs,nperseg=win )\n",
        "  # Define EEG bands\n",
        "  eeg_bands = {'Delta': (0, 4),\n",
        "              'Theta': (4, 8),\n",
        "              'Alpha': (8, 12),\n",
        "              'Beta': (12, 30),\n",
        "              'Gamma': (30, 40)}\n",
        "\n",
        "  # Take the mean of the fft amplitude for each EEG band\n",
        "  eeg_band_wlech = dict()\n",
        "  for band in eeg_bands:  \n",
        "      freq_ix = np.where((freq >= eeg_bands[band][0]) & \n",
        "                        (freq <= eeg_bands[band][1]))[0]\n",
        "      eeg_band_wlech[band] = (Pxx_den[:,freq_ix])\n",
        "      li=list(eeg_band_wlech.values())\n",
        "      \n",
        "  return li\n",
        "#li contain five element, each represent one frequency band"
      ],
      "execution_count": 0,
      "outputs": []
    },
    {
      "cell_type": "code",
      "metadata": {
        "id": "xgl0GJmMENTV",
        "colab_type": "code",
        "colab": {}
      },
      "source": [
        "#https://github.com/TNTLFreiburg/brainfeatures/blob/master/brainfeatures/feature_generation/features_frequency.py\n",
        "def welch_features_ext(feature):\n",
        " # print('shape of data ',feature.shape)\n",
        "  mean=[]\n",
        "  ptp=[]\n",
        "  power=[]\n",
        "  maxim=[]\n",
        "  minim=[]\n",
        "  peak=[] #peak freq\n",
        "  \n",
        "  for i in range(5): #total freq band is 5\n",
        "    mean.append(np.mean(welch_feature(feature)[i],axis=1))\n",
        "    ptp.append(np.mean(welch_feature(feature)[i],axis=1))\n",
        "    power.append(np.sum(np.power(welch_feature(feature)[i],2),axis=1))# there is no option for axis\n",
        "    maxim.append(np.max(welch_feature(feature)[i],axis=1))\n",
        "    minim.append(np.min(welch_feature(feature)[i],axis=1))\n",
        "    peak.append(np.argmax(welch_feature(feature)[i],axis=1))\n",
        "    feat=np.concatenate((mean,ptp,power,maxim,minim,peak),axis=1)\n",
        "    #feat=np.concatenate((mean,ptp),axis=1)\n",
        "  return feat.ravel()"
      ],
      "execution_count": 0,
      "outputs": []
    },
    {
      "cell_type": "code",
      "metadata": {
        "id": "ulgSFKo7AsVK",
        "colab_type": "code",
        "colab": {}
      },
      "source": [
        "features1=[]\n",
        "for f in HC_reshaped:\n",
        "    feature=[]\n",
        "    for i in f:\n",
        "        feature.append(welch_features_ext(i))\n",
        "    features1.append(np.mean(np.array(feature),axis=0))"
      ],
      "execution_count": 0,
      "outputs": []
    },
    {
      "cell_type": "code",
      "metadata": {
        "id": "C7n8uTP2f_1m",
        "colab_type": "code",
        "colab": {
          "base_uri": "https://localhost:8080/",
          "height": 33
        },
        "outputId": "4eab9a16-ab88-42c8-d567-8a1320322f5e"
      },
      "source": [
        "features1[0].shape"
      ],
      "execution_count": 16,
      "outputs": [
        {
          "output_type": "execute_result",
          "data": {
            "text/plain": [
              "(570,)"
            ]
          },
          "metadata": {
            "tags": []
          },
          "execution_count": 16
        }
      ]
    },
    {
      "cell_type": "code",
      "metadata": {
        "id": "z_3pJBmrNOU1",
        "colab_type": "code",
        "colab": {}
      },
      "source": [
        "features2=[]\n",
        "for f in SZ_reshaped:\n",
        "    feature=[]\n",
        "    for i in f:\n",
        "        feature.append(welch_features_ext(i))\n",
        "    features2.append(np.mean(np.array(feature),axis=0))"
      ],
      "execution_count": 0,
      "outputs": []
    },
    {
      "cell_type": "code",
      "metadata": {
        "id": "KjSUBu6kfG1_",
        "colab_type": "code",
        "colab": {
          "base_uri": "https://localhost:8080/",
          "height": 33
        },
        "outputId": "9c6c7447-bf38-4523-cd9c-5a6e4db6e315"
      },
      "source": [
        "x1=np.array(features1)        \n",
        "x2=np.array(features2)      \n",
        "\n",
        "X=np.concatenate((x1,x2),axis=0)\n",
        "\n",
        "y=np.concatenate(((np.zeros(x1.shape[0])),(np.ones(x2.shape[0]))))\n",
        "X.shape"
      ],
      "execution_count": 18,
      "outputs": [
        {
          "output_type": "execute_result",
          "data": {
            "text/plain": [
              "(28, 570)"
            ]
          },
          "metadata": {
            "tags": []
          },
          "execution_count": 18
        }
      ]
    },
    {
      "cell_type": "code",
      "metadata": {
        "id": "ncfU11aVgWOo",
        "colab_type": "code",
        "colab": {}
      },
      "source": [
        "col=['mean','ptp','power','maxim','minim','peak','var','std']\n"
      ],
      "execution_count": 0,
      "outputs": []
    },
    {
      "cell_type": "code",
      "metadata": {
        "id": "7pIKsNGNWrRA",
        "colab_type": "code",
        "colab": {
          "base_uri": "https://localhost:8080/",
          "height": 1000
        },
        "outputId": "c72cfc03-8930-458c-b44f-809859e0194d"
      },
      "source": [
        "feature_welch_selected=[]\n",
        "for i in range(28):\n",
        "  randomize = np.arange(len(X))\n",
        "  np.random.shuffle(randomize)\n",
        "  X = X[randomize]\n",
        "  y = y[randomize]\n",
        "  for i,j in zip(range(0,570,95),col):\n",
        "    X_new=X[:,i:i+95]\n",
        "    X_train, X_test, y_train, y_test = train_test_split(X_new, y,test_size=0.2, random_state=42,stratify=y)\n",
        "    sc=StandardScaler()\n",
        "    X_train=sc.fit_transform(X_train)\n",
        "    X_test=sc.transform(X_test)\n",
        "    clf=SVC(kernel='rbf')\n",
        "    clf.fit(X_train,y_train)\n",
        "    y_pred = clf.predict(X_test)  \n",
        "    acc=metrics.accuracy_score(y_test, y_pred)\n",
        "    print(\"Accuracy of \",j,acc)\n",
        "    if acc>0.7:\n",
        "      feature_welch_selected.append(j)\n",
        "  print('-------------------------------------------------------------------')\n"
      ],
      "execution_count": 20,
      "outputs": [
        {
          "output_type": "stream",
          "text": [
            "Accuracy of  mean 0.5\n",
            "Accuracy of  ptp 0.8333333333333334\n",
            "Accuracy of  power 0.8333333333333334\n",
            "Accuracy of  maxim 0.8333333333333334\n",
            "Accuracy of  minim 0.5\n",
            "Accuracy of  peak 0.6666666666666666\n",
            "-------------------------------------------------------------------\n",
            "Accuracy of  mean 0.6666666666666666\n",
            "Accuracy of  ptp 0.6666666666666666\n",
            "Accuracy of  power 0.6666666666666666\n",
            "Accuracy of  maxim 0.8333333333333334\n",
            "Accuracy of  minim 0.5\n",
            "Accuracy of  peak 0.3333333333333333\n",
            "-------------------------------------------------------------------\n",
            "Accuracy of  mean 0.6666666666666666\n",
            "Accuracy of  ptp 0.6666666666666666\n",
            "Accuracy of  power 0.8333333333333334\n",
            "Accuracy of  maxim 0.8333333333333334\n",
            "Accuracy of  minim 0.5\n",
            "Accuracy of  peak 0.5\n",
            "-------------------------------------------------------------------\n",
            "Accuracy of  mean 0.8333333333333334\n",
            "Accuracy of  ptp 0.8333333333333334\n",
            "Accuracy of  power 0.5\n",
            "Accuracy of  maxim 0.6666666666666666\n",
            "Accuracy of  minim 0.5\n",
            "Accuracy of  peak 0.6666666666666666\n",
            "-------------------------------------------------------------------\n",
            "Accuracy of  mean 0.5\n",
            "Accuracy of  ptp 0.5\n",
            "Accuracy of  power 0.6666666666666666\n",
            "Accuracy of  maxim 0.5\n",
            "Accuracy of  minim 0.3333333333333333\n",
            "Accuracy of  peak 0.3333333333333333\n",
            "-------------------------------------------------------------------\n",
            "Accuracy of  mean 0.5\n",
            "Accuracy of  ptp 0.6666666666666666\n",
            "Accuracy of  power 0.5\n",
            "Accuracy of  maxim 0.6666666666666666\n",
            "Accuracy of  minim 0.5\n",
            "Accuracy of  peak 0.5\n",
            "-------------------------------------------------------------------\n",
            "Accuracy of  mean 0.6666666666666666\n",
            "Accuracy of  ptp 0.3333333333333333\n",
            "Accuracy of  power 0.3333333333333333\n",
            "Accuracy of  maxim 0.16666666666666666\n",
            "Accuracy of  minim 0.5\n",
            "Accuracy of  peak 0.5\n",
            "-------------------------------------------------------------------\n",
            "Accuracy of  mean 0.6666666666666666\n",
            "Accuracy of  ptp 0.8333333333333334\n",
            "Accuracy of  power 0.8333333333333334\n",
            "Accuracy of  maxim 0.5\n",
            "Accuracy of  minim 0.6666666666666666\n",
            "Accuracy of  peak 0.5\n",
            "-------------------------------------------------------------------\n",
            "Accuracy of  mean 0.6666666666666666\n",
            "Accuracy of  ptp 0.5\n",
            "Accuracy of  power 0.6666666666666666\n",
            "Accuracy of  maxim 0.6666666666666666\n",
            "Accuracy of  minim 0.5\n",
            "Accuracy of  peak 0.3333333333333333\n",
            "-------------------------------------------------------------------\n",
            "Accuracy of  mean 0.5\n",
            "Accuracy of  ptp 0.6666666666666666\n",
            "Accuracy of  power 0.5\n",
            "Accuracy of  maxim 0.3333333333333333\n",
            "Accuracy of  minim 0.5\n",
            "Accuracy of  peak 0.5\n",
            "-------------------------------------------------------------------\n",
            "Accuracy of  mean 0.6666666666666666\n",
            "Accuracy of  ptp 0.6666666666666666\n",
            "Accuracy of  power 0.6666666666666666\n",
            "Accuracy of  maxim 0.5\n",
            "Accuracy of  minim 0.6666666666666666\n",
            "Accuracy of  peak 0.5\n",
            "-------------------------------------------------------------------\n",
            "Accuracy of  mean 0.8333333333333334\n",
            "Accuracy of  ptp 0.6666666666666666\n",
            "Accuracy of  power 0.8333333333333334\n",
            "Accuracy of  maxim 0.6666666666666666\n",
            "Accuracy of  minim 0.5\n",
            "Accuracy of  peak 0.6666666666666666\n",
            "-------------------------------------------------------------------\n",
            "Accuracy of  mean 0.5\n",
            "Accuracy of  ptp 0.6666666666666666\n",
            "Accuracy of  power 0.6666666666666666\n",
            "Accuracy of  maxim 0.16666666666666666\n",
            "Accuracy of  minim 0.5\n",
            "Accuracy of  peak 0.5\n",
            "-------------------------------------------------------------------\n",
            "Accuracy of  mean 0.6666666666666666\n",
            "Accuracy of  ptp 0.6666666666666666\n",
            "Accuracy of  power 0.6666666666666666\n",
            "Accuracy of  maxim 0.3333333333333333\n",
            "Accuracy of  minim 0.16666666666666666\n",
            "Accuracy of  peak 0.5\n",
            "-------------------------------------------------------------------\n",
            "Accuracy of  mean 0.5\n",
            "Accuracy of  ptp 0.6666666666666666\n",
            "Accuracy of  power 0.5\n",
            "Accuracy of  maxim 0.0\n",
            "Accuracy of  minim 0.3333333333333333\n",
            "Accuracy of  peak 0.3333333333333333\n",
            "-------------------------------------------------------------------\n",
            "Accuracy of  mean 0.8333333333333334\n",
            "Accuracy of  ptp 0.5\n",
            "Accuracy of  power 0.5\n",
            "Accuracy of  maxim 0.5\n",
            "Accuracy of  minim 0.5\n",
            "Accuracy of  peak 0.5\n",
            "-------------------------------------------------------------------\n",
            "Accuracy of  mean 0.6666666666666666\n",
            "Accuracy of  ptp 0.8333333333333334\n",
            "Accuracy of  power 0.6666666666666666\n",
            "Accuracy of  maxim 0.6666666666666666\n",
            "Accuracy of  minim 0.5\n",
            "Accuracy of  peak 0.5\n",
            "-------------------------------------------------------------------\n",
            "Accuracy of  mean 0.5\n",
            "Accuracy of  ptp 0.6666666666666666\n",
            "Accuracy of  power 0.5\n",
            "Accuracy of  maxim 0.3333333333333333\n",
            "Accuracy of  minim 0.5\n",
            "Accuracy of  peak 0.0\n",
            "-------------------------------------------------------------------\n",
            "Accuracy of  mean 0.5\n",
            "Accuracy of  ptp 0.5\n",
            "Accuracy of  power 0.5\n",
            "Accuracy of  maxim 0.5\n",
            "Accuracy of  minim 0.3333333333333333\n",
            "Accuracy of  peak 0.3333333333333333\n",
            "-------------------------------------------------------------------\n",
            "Accuracy of  mean 0.8333333333333334\n",
            "Accuracy of  ptp 0.8333333333333334\n",
            "Accuracy of  power 0.8333333333333334\n",
            "Accuracy of  maxim 0.8333333333333334\n",
            "Accuracy of  minim 0.6666666666666666\n",
            "Accuracy of  peak 0.5\n",
            "-------------------------------------------------------------------\n",
            "Accuracy of  mean 0.5\n",
            "Accuracy of  ptp 0.5\n",
            "Accuracy of  power 0.6666666666666666\n",
            "Accuracy of  maxim 0.6666666666666666\n",
            "Accuracy of  minim 0.5\n",
            "Accuracy of  peak 0.5\n",
            "-------------------------------------------------------------------\n",
            "Accuracy of  mean 0.6666666666666666\n",
            "Accuracy of  ptp 0.6666666666666666\n",
            "Accuracy of  power 0.6666666666666666\n",
            "Accuracy of  maxim 1.0\n",
            "Accuracy of  minim 0.5\n",
            "Accuracy of  peak 0.5\n",
            "-------------------------------------------------------------------\n",
            "Accuracy of  mean 0.6666666666666666\n",
            "Accuracy of  ptp 0.8333333333333334\n",
            "Accuracy of  power 0.8333333333333334\n",
            "Accuracy of  maxim 0.6666666666666666\n",
            "Accuracy of  minim 0.16666666666666666\n",
            "Accuracy of  peak 0.5\n",
            "-------------------------------------------------------------------\n",
            "Accuracy of  mean 0.5\n",
            "Accuracy of  ptp 0.8333333333333334\n",
            "Accuracy of  power 0.5\n",
            "Accuracy of  maxim 0.16666666666666666\n",
            "Accuracy of  minim 0.3333333333333333\n",
            "Accuracy of  peak 0.5\n",
            "-------------------------------------------------------------------\n",
            "Accuracy of  mean 0.5\n",
            "Accuracy of  ptp 0.5\n",
            "Accuracy of  power 0.8333333333333334\n",
            "Accuracy of  maxim 0.6666666666666666\n",
            "Accuracy of  minim 0.5\n",
            "Accuracy of  peak 0.5\n",
            "-------------------------------------------------------------------\n",
            "Accuracy of  mean 0.5\n",
            "Accuracy of  ptp 0.5\n",
            "Accuracy of  power 0.8333333333333334\n",
            "Accuracy of  maxim 0.6666666666666666\n",
            "Accuracy of  minim 0.6666666666666666\n",
            "Accuracy of  peak 0.5\n",
            "-------------------------------------------------------------------\n",
            "Accuracy of  mean 0.6666666666666666\n",
            "Accuracy of  ptp 0.8333333333333334\n",
            "Accuracy of  power 0.6666666666666666\n",
            "Accuracy of  maxim 0.6666666666666666\n",
            "Accuracy of  minim 0.5\n",
            "Accuracy of  peak 0.5\n",
            "-------------------------------------------------------------------\n",
            "Accuracy of  mean 0.5\n",
            "Accuracy of  ptp 0.6666666666666666\n",
            "Accuracy of  power 0.8333333333333334\n",
            "Accuracy of  maxim 0.5\n",
            "Accuracy of  minim 0.3333333333333333\n",
            "Accuracy of  peak 0.3333333333333333\n",
            "-------------------------------------------------------------------\n"
          ],
          "name": "stdout"
        }
      ]
    },
    {
      "cell_type": "code",
      "metadata": {
        "id": "2quueqdIXh70",
        "colab_type": "code",
        "colab": {}
      },
      "source": [
        ""
      ],
      "execution_count": 0,
      "outputs": []
    },
    {
      "cell_type": "code",
      "metadata": {
        "colab_type": "code",
        "id": "Bs4uiHtgXiIe",
        "colab": {}
      },
      "source": [
        "count_welch= {x:feature_welch_selected.count(x) for x in feature_welch_selected}"
      ],
      "execution_count": 0,
      "outputs": []
    },
    {
      "cell_type": "code",
      "metadata": {
        "colab_type": "code",
        "outputId": "7e12b546-bf20-490a-ec46-513daf8c7df8",
        "id": "xUGklvMsXiIj",
        "colab": {
          "base_uri": "https://localhost:8080/",
          "height": 33
        }
      },
      "source": [
        "from collections import Counter\n",
        "c = Counter(count_welch)\n",
        "print(c.most_common())"
      ],
      "execution_count": 22,
      "outputs": [
        {
          "output_type": "stream",
          "text": [
            "[('power', 9), ('ptp', 8), ('maxim', 5), ('mean', 4)]\n"
          ],
          "name": "stdout"
        }
      ]
    },
    {
      "cell_type": "markdown",
      "metadata": {
        "id": "2Xist7_qeYRH",
        "colab_type": "text"
      },
      "source": [
        "# Wavelet feature"
      ]
    },
    {
      "cell_type": "code",
      "metadata": {
        "id": "6o4Q7SquTVPL",
        "colab_type": "code",
        "colab": {}
      },
      "source": [
        "def teager(x):\n",
        "    for i in range(len(x)-1):\n",
        "        return x[i]**2 - (x[i-1]*x[i+1])\n",
        "\n",
        "def wavelet_features(data):\n",
        "    dwt={}\n",
        "    for i in range(19):\n",
        "        dwt[i]=pywt.wavedec(data.T[i],\"db1\", level=4)\n",
        "    mean=[]\n",
        "    std=[]\n",
        "    ptp=[]\n",
        "    minimum=[]\n",
        "    maximum=[]\n",
        "    tkeo=[]\n",
        "    for i in dwt.values():\n",
        "        for j in range(4):\n",
        "            mean.append(i[j].mean())\n",
        "            std.append(i[j].std())\n",
        "            ptp.append(np.ptp(i[j]))\n",
        "            minimum.append(np.min(i[j]))\n",
        "            maximum.append(np.max(i[j]))\n",
        "            tkeo.append(teager(i[j]))\n",
        "    feat=np.concatenate((mean,std,ptp,minimum,maximum,tkeo))        \n",
        "    return feat.ravel()\n",
        "\n",
        "\n",
        "        "
      ],
      "execution_count": 0,
      "outputs": []
    },
    {
      "cell_type": "code",
      "metadata": {
        "colab_type": "code",
        "id": "JFEyN0y0bQ2F",
        "colab": {}
      },
      "source": [
        "features1=[]\n",
        "for f in HC_reshaped:\n",
        "    feature=[]\n",
        "    for i in f:\n",
        "        feature.append(wavelet_features(i))\n",
        "    features1.append(np.mean(np.array(feature),axis=0))"
      ],
      "execution_count": 0,
      "outputs": []
    },
    {
      "cell_type": "code",
      "metadata": {
        "id": "xIZJrEoBb6XO",
        "colab_type": "code",
        "outputId": "5c1348df-b3e4-4af0-ad3e-31f7a0551ed0",
        "colab": {
          "base_uri": "https://localhost:8080/",
          "height": 33
        }
      },
      "source": [
        "features1[0].shape"
      ],
      "execution_count": 25,
      "outputs": [
        {
          "output_type": "execute_result",
          "data": {
            "text/plain": [
              "(456,)"
            ]
          },
          "metadata": {
            "tags": []
          },
          "execution_count": 25
        }
      ]
    },
    {
      "cell_type": "code",
      "metadata": {
        "colab_type": "code",
        "id": "czHZGfv_bQ2H",
        "colab": {}
      },
      "source": [
        "features2=[]\n",
        "for f in SZ_reshaped:\n",
        "    feature=[]\n",
        "    for i in f:\n",
        "        feature.append(wavelet_features(i))\n",
        "    features2.append(np.mean(np.array(feature),axis=0))"
      ],
      "execution_count": 0,
      "outputs": []
    },
    {
      "cell_type": "code",
      "metadata": {
        "id": "PZtVtORfclvk",
        "colab_type": "code",
        "outputId": "961a0f13-32bc-41c1-9c2b-243598c9af4c",
        "colab": {
          "base_uri": "https://localhost:8080/",
          "height": 33
        }
      },
      "source": [
        "x1=np.array(features1)        \n",
        "x2=np.array(features2)      \n",
        "\n",
        "X=np.concatenate((x1,x2),axis=0)\n",
        "\n",
        "y=np.concatenate(((np.zeros(x1.shape[0])),(np.ones(x2.shape[0]))))\n",
        "X.shape"
      ],
      "execution_count": 27,
      "outputs": [
        {
          "output_type": "execute_result",
          "data": {
            "text/plain": [
              "(28, 456)"
            ]
          },
          "metadata": {
            "tags": []
          },
          "execution_count": 27
        }
      ]
    },
    {
      "cell_type": "code",
      "metadata": {
        "id": "2ib7kapBHOTw",
        "colab_type": "code",
        "colab": {}
      },
      "source": [
        "feature=['mean','std','ptp','minimum','maximum','tkeo']\n"
      ],
      "execution_count": 0,
      "outputs": []
    },
    {
      "cell_type": "code",
      "metadata": {
        "id": "3OzvaUTpcW4p",
        "colab_type": "code",
        "outputId": "fe81570f-d786-4642-e823-65dedc9b83d0",
        "colab": {
          "base_uri": "https://localhost:8080/",
          "height": 1000
        }
      },
      "source": [
        "feature_wavelet_selected=[]\n",
        "for i in range(28):\n",
        "  randomize = np.arange(len(X))\n",
        "  np.random.shuffle(randomize)\n",
        "  X = X[randomize]\n",
        "  y = y[randomize]\n",
        "  for i,j in zip(range(0,456,76),feature):\n",
        "    X_new=X[:,i:i+76]\n",
        "    X_train, X_test, y_train, y_test = train_test_split(X_new, y,test_size=0.2, random_state=42,stratify=y)\n",
        "    sc=StandardScaler()\n",
        "    X_train=sc.fit_transform(X_train)\n",
        "    X_test=sc.transform(X_test)\n",
        "    clf=SVC(kernel='rbf')\n",
        "    clf.fit(X_train,y_train)\n",
        "    y_pred = clf.predict(X_test)  \n",
        "    acc=metrics.accuracy_score(y_test, y_pred)\n",
        "    print(\"Accuracy of \",j,acc)\n",
        "    if acc>0.7:\n",
        "      feature_wavelet_selected.append(j)\n",
        "  print('-------------------------------------------------------------------')\n"
      ],
      "execution_count": 29,
      "outputs": [
        {
          "output_type": "stream",
          "text": [
            "Accuracy of  mean 0.8333333333333334\n",
            "Accuracy of  std 0.8333333333333334\n",
            "Accuracy of  ptp 0.8333333333333334\n",
            "Accuracy of  minimum 0.8333333333333334\n",
            "Accuracy of  maximum 0.6666666666666666\n",
            "Accuracy of  tkeo 0.8333333333333334\n",
            "-------------------------------------------------------------------\n",
            "Accuracy of  mean 0.6666666666666666\n",
            "Accuracy of  std 0.5\n",
            "Accuracy of  ptp 0.5\n",
            "Accuracy of  minimum 0.5\n",
            "Accuracy of  maximum 0.5\n",
            "Accuracy of  tkeo 0.3333333333333333\n",
            "-------------------------------------------------------------------\n",
            "Accuracy of  mean 0.6666666666666666\n",
            "Accuracy of  std 0.3333333333333333\n",
            "Accuracy of  ptp 0.5\n",
            "Accuracy of  minimum 0.5\n",
            "Accuracy of  maximum 0.5\n",
            "Accuracy of  tkeo 0.3333333333333333\n",
            "-------------------------------------------------------------------\n",
            "Accuracy of  mean 0.6666666666666666\n",
            "Accuracy of  std 0.8333333333333334\n",
            "Accuracy of  ptp 0.8333333333333334\n",
            "Accuracy of  minimum 0.8333333333333334\n",
            "Accuracy of  maximum 0.8333333333333334\n",
            "Accuracy of  tkeo 1.0\n",
            "-------------------------------------------------------------------\n",
            "Accuracy of  mean 0.6666666666666666\n",
            "Accuracy of  std 0.8333333333333334\n",
            "Accuracy of  ptp 0.8333333333333334\n",
            "Accuracy of  minimum 0.8333333333333334\n",
            "Accuracy of  maximum 0.8333333333333334\n",
            "Accuracy of  tkeo 0.5\n",
            "-------------------------------------------------------------------\n",
            "Accuracy of  mean 0.16666666666666666\n",
            "Accuracy of  std 0.3333333333333333\n",
            "Accuracy of  ptp 0.3333333333333333\n",
            "Accuracy of  minimum 0.3333333333333333\n",
            "Accuracy of  maximum 0.3333333333333333\n",
            "Accuracy of  tkeo 0.6666666666666666\n",
            "-------------------------------------------------------------------\n",
            "Accuracy of  mean 0.5\n",
            "Accuracy of  std 0.6666666666666666\n",
            "Accuracy of  ptp 0.6666666666666666\n",
            "Accuracy of  minimum 0.6666666666666666\n",
            "Accuracy of  maximum 0.5\n",
            "Accuracy of  tkeo 0.5\n",
            "-------------------------------------------------------------------\n",
            "Accuracy of  mean 0.6666666666666666\n",
            "Accuracy of  std 0.8333333333333334\n",
            "Accuracy of  ptp 0.6666666666666666\n",
            "Accuracy of  minimum 0.6666666666666666\n",
            "Accuracy of  maximum 0.6666666666666666\n",
            "Accuracy of  tkeo 0.3333333333333333\n",
            "-------------------------------------------------------------------\n",
            "Accuracy of  mean 0.6666666666666666\n",
            "Accuracy of  std 0.6666666666666666\n",
            "Accuracy of  ptp 0.5\n",
            "Accuracy of  minimum 0.5\n",
            "Accuracy of  maximum 0.5\n",
            "Accuracy of  tkeo 0.3333333333333333\n",
            "-------------------------------------------------------------------\n",
            "Accuracy of  mean 0.8333333333333334\n",
            "Accuracy of  std 0.6666666666666666\n",
            "Accuracy of  ptp 0.6666666666666666\n",
            "Accuracy of  minimum 0.6666666666666666\n",
            "Accuracy of  maximum 0.6666666666666666\n",
            "Accuracy of  tkeo 0.6666666666666666\n",
            "-------------------------------------------------------------------\n",
            "Accuracy of  mean 0.6666666666666666\n",
            "Accuracy of  std 0.6666666666666666\n",
            "Accuracy of  ptp 1.0\n",
            "Accuracy of  minimum 0.8333333333333334\n",
            "Accuracy of  maximum 0.8333333333333334\n",
            "Accuracy of  tkeo 0.6666666666666666\n",
            "-------------------------------------------------------------------\n",
            "Accuracy of  mean 0.6666666666666666\n",
            "Accuracy of  std 0.6666666666666666\n",
            "Accuracy of  ptp 0.5\n",
            "Accuracy of  minimum 0.5\n",
            "Accuracy of  maximum 0.5\n",
            "Accuracy of  tkeo 0.5\n",
            "-------------------------------------------------------------------\n",
            "Accuracy of  mean 0.6666666666666666\n",
            "Accuracy of  std 0.3333333333333333\n",
            "Accuracy of  ptp 0.5\n",
            "Accuracy of  minimum 0.3333333333333333\n",
            "Accuracy of  maximum 0.5\n",
            "Accuracy of  tkeo 0.5\n",
            "-------------------------------------------------------------------\n",
            "Accuracy of  mean 0.5\n",
            "Accuracy of  std 0.5\n",
            "Accuracy of  ptp 0.5\n",
            "Accuracy of  minimum 0.5\n",
            "Accuracy of  maximum 0.5\n",
            "Accuracy of  tkeo 0.6666666666666666\n",
            "-------------------------------------------------------------------\n",
            "Accuracy of  mean 0.6666666666666666\n",
            "Accuracy of  std 0.8333333333333334\n",
            "Accuracy of  ptp 0.6666666666666666\n",
            "Accuracy of  minimum 0.6666666666666666\n",
            "Accuracy of  maximum 0.6666666666666666\n",
            "Accuracy of  tkeo 0.8333333333333334\n",
            "-------------------------------------------------------------------\n",
            "Accuracy of  mean 0.6666666666666666\n",
            "Accuracy of  std 0.6666666666666666\n",
            "Accuracy of  ptp 0.6666666666666666\n",
            "Accuracy of  minimum 0.6666666666666666\n",
            "Accuracy of  maximum 0.6666666666666666\n",
            "Accuracy of  tkeo 0.5\n",
            "-------------------------------------------------------------------\n",
            "Accuracy of  mean 0.5\n",
            "Accuracy of  std 0.6666666666666666\n",
            "Accuracy of  ptp 0.5\n",
            "Accuracy of  minimum 0.5\n",
            "Accuracy of  maximum 0.5\n",
            "Accuracy of  tkeo 0.6666666666666666\n",
            "-------------------------------------------------------------------\n",
            "Accuracy of  mean 0.5\n",
            "Accuracy of  std 0.8333333333333334\n",
            "Accuracy of  ptp 0.6666666666666666\n",
            "Accuracy of  minimum 0.6666666666666666\n",
            "Accuracy of  maximum 0.6666666666666666\n",
            "Accuracy of  tkeo 0.8333333333333334\n",
            "-------------------------------------------------------------------\n",
            "Accuracy of  mean 0.8333333333333334\n",
            "Accuracy of  std 0.8333333333333334\n",
            "Accuracy of  ptp 0.8333333333333334\n",
            "Accuracy of  minimum 1.0\n",
            "Accuracy of  maximum 0.8333333333333334\n",
            "Accuracy of  tkeo 1.0\n",
            "-------------------------------------------------------------------\n",
            "Accuracy of  mean 0.6666666666666666\n",
            "Accuracy of  std 0.6666666666666666\n",
            "Accuracy of  ptp 0.6666666666666666\n",
            "Accuracy of  minimum 0.6666666666666666\n",
            "Accuracy of  maximum 0.6666666666666666\n",
            "Accuracy of  tkeo 0.6666666666666666\n",
            "-------------------------------------------------------------------\n",
            "Accuracy of  mean 0.5\n",
            "Accuracy of  std 0.6666666666666666\n",
            "Accuracy of  ptp 0.6666666666666666\n",
            "Accuracy of  minimum 0.5\n",
            "Accuracy of  maximum 0.6666666666666666\n",
            "Accuracy of  tkeo 0.8333333333333334\n",
            "-------------------------------------------------------------------\n",
            "Accuracy of  mean 0.8333333333333334\n",
            "Accuracy of  std 0.5\n",
            "Accuracy of  ptp 0.5\n",
            "Accuracy of  minimum 0.5\n",
            "Accuracy of  maximum 0.6666666666666666\n",
            "Accuracy of  tkeo 0.5\n",
            "-------------------------------------------------------------------\n",
            "Accuracy of  mean 0.6666666666666666\n",
            "Accuracy of  std 0.8333333333333334\n",
            "Accuracy of  ptp 0.8333333333333334\n",
            "Accuracy of  minimum 0.8333333333333334\n",
            "Accuracy of  maximum 0.6666666666666666\n",
            "Accuracy of  tkeo 0.6666666666666666\n",
            "-------------------------------------------------------------------\n",
            "Accuracy of  mean 0.6666666666666666\n",
            "Accuracy of  std 0.3333333333333333\n",
            "Accuracy of  ptp 0.3333333333333333\n",
            "Accuracy of  minimum 0.3333333333333333\n",
            "Accuracy of  maximum 0.3333333333333333\n",
            "Accuracy of  tkeo 0.5\n",
            "-------------------------------------------------------------------\n",
            "Accuracy of  mean 0.6666666666666666\n",
            "Accuracy of  std 0.3333333333333333\n",
            "Accuracy of  ptp 0.3333333333333333\n",
            "Accuracy of  minimum 0.3333333333333333\n",
            "Accuracy of  maximum 0.3333333333333333\n",
            "Accuracy of  tkeo 0.5\n",
            "-------------------------------------------------------------------\n",
            "Accuracy of  mean 0.6666666666666666\n",
            "Accuracy of  std 0.3333333333333333\n",
            "Accuracy of  ptp 0.3333333333333333\n",
            "Accuracy of  minimum 0.3333333333333333\n",
            "Accuracy of  maximum 0.3333333333333333\n",
            "Accuracy of  tkeo 0.3333333333333333\n",
            "-------------------------------------------------------------------\n",
            "Accuracy of  mean 0.6666666666666666\n",
            "Accuracy of  std 0.5\n",
            "Accuracy of  ptp 0.6666666666666666\n",
            "Accuracy of  minimum 0.6666666666666666\n",
            "Accuracy of  maximum 0.6666666666666666\n",
            "Accuracy of  tkeo 0.5\n",
            "-------------------------------------------------------------------\n",
            "Accuracy of  mean 0.5\n",
            "Accuracy of  std 0.5\n",
            "Accuracy of  ptp 0.3333333333333333\n",
            "Accuracy of  minimum 0.3333333333333333\n",
            "Accuracy of  maximum 0.3333333333333333\n",
            "Accuracy of  tkeo 0.3333333333333333\n",
            "-------------------------------------------------------------------\n"
          ],
          "name": "stdout"
        }
      ]
    },
    {
      "cell_type": "code",
      "metadata": {
        "id": "ZftmT_58WCo9",
        "colab_type": "code",
        "colab": {}
      },
      "source": [
        ""
      ],
      "execution_count": 0,
      "outputs": []
    },
    {
      "cell_type": "code",
      "metadata": {
        "colab_type": "code",
        "id": "qd4xmhTEWco0",
        "colab": {}
      },
      "source": [
        "count_wav= {x:feature_wavelet_selected.count(x) for x in feature_wavelet_selected}"
      ],
      "execution_count": 0,
      "outputs": []
    },
    {
      "cell_type": "code",
      "metadata": {
        "colab_type": "code",
        "outputId": "82f08047-7914-4b93-c404-8c42e99502cd",
        "id": "kmg2C5RWWco7",
        "colab": {
          "base_uri": "https://localhost:8080/",
          "height": 33
        }
      },
      "source": [
        "from collections import Counter\n",
        "c = Counter(count_wav)\n",
        "print(c.most_common())"
      ],
      "execution_count": 31,
      "outputs": [
        {
          "output_type": "stream",
          "text": [
            "[('std', 8), ('ptp', 6), ('minimum', 6), ('tkeo', 6), ('mean', 4), ('maximum', 4)]\n"
          ],
          "name": "stdout"
        }
      ]
    },
    {
      "cell_type": "markdown",
      "metadata": {
        "id": "XA0ZCARWd6T3",
        "colab_type": "text"
      },
      "source": [
        "# Main Features"
      ]
    },
    {
      "cell_type": "code",
      "metadata": {
        "id": "LacFqUQwFbZg",
        "colab_type": "code",
        "colab": {}
      },
      "source": [
        "def mean(data):\n",
        "    return np.mean(data,axis=0)\n",
        "    \n",
        "def std(data):\n",
        "    return np.std(data,axis=0)\n",
        "\n",
        "def ptp(data):\n",
        "    return np.ptp(data,axis=0)\n",
        "\n",
        "def var(data):\n",
        "        return np.var(data,axis=0)\n",
        "\n",
        "def minim(data):\n",
        "  return np.min(data,axis=0)\n",
        "\n",
        "\n",
        "def maxim(data):\n",
        "  return np.max(data,axis=0)\n",
        "\n",
        "\n",
        "def mean_square(data):\n",
        "  return np.mean(data**2,axis=0)\n",
        "\n",
        "def rms(data): #root mean square\n",
        "  return  np.sqrt(np.mean(data**2,axis=0))  \n",
        "\n",
        "def abs_diffs_signal(data):\n",
        "    return np.sum(np.abs(np.diff(data,axis=0)),axis=0)\n",
        "\n",
        "\n",
        "def skewness(data):\n",
        "    return stats.skew(data,axis=0)\n",
        "\n",
        "def kurtosis(data):\n",
        "    return stats.kurtosis(data,axis=0)\n",
        "\n",
        "def zero_crossing(data):\n",
        "    return np.argmax(np.diff(np.sign(data),axis=0),axis=0)\n",
        "\n",
        "def app_epy(data):\n",
        "    result=[]\n",
        "    for i in data.T:\n",
        "        result.append(app_entropy(i, order=2, metric='chebyshev'))\n",
        "    return np.array(result)\n",
        "\n",
        "def perm_epy(data):\n",
        "    result=[]\n",
        "    for i in data.T:\n",
        "        result.append(perm_entropy(i, order=3, normalize=True))\n",
        "    return np.array(result)\n",
        "\n",
        "def svd_epy(data):\n",
        "    result=[]\n",
        "    for i in data.T:\n",
        "        result.append(svd_entropy(i, order=3, delay=1, normalize=True))\n",
        "    return np.array(result)\n",
        "\n",
        "def spectral_epy(data):\n",
        "    result=[]\n",
        "    for i in data.T:\n",
        "        result.append(spectral_entropy(i, 100, method='welch', normalize=True))\n",
        "    return np.array(result)\n",
        "\n",
        "def sample_epy(data):\n",
        "    result=[]\n",
        "    for i in data.T:\n",
        "        result.append(sample_entropy(i, order=2, metric='chebyshev'))\n",
        "    return np.array(result)\n",
        "\n",
        "\n",
        "def katz(data):\n",
        "    result=[]\n",
        "    for i in data.T:\n",
        "        result.append(katz_fd(i))\n",
        "    return np.array(result)\n",
        "\n",
        "def higuchi(data):\n",
        "    result=[]\n",
        "    for i in data.T:\n",
        "        result.append(higuchi_fd(i))\n",
        "    return np.array(result)\n",
        "\n",
        "\n",
        "def petrosian(data):\n",
        "    result=[]\n",
        "    for i in data.T:\n",
        "        result.append(petrosian_fd(i))\n",
        "    return np.array(result)\n",
        "\n",
        "def autogressiveModelParameters(data):\n",
        "    feature = []\n",
        "    for i in data.T:\n",
        "        coeff, sig = alg.AR_est_YW(i, order=5)\n",
        "        feature.append(np.mean(coeff))\n",
        "    return np.array(feature)\n",
        "\n",
        "def teager(x):\n",
        "    for i in range(len(x)-1):\n",
        "        return x[i]**2 - (x[i-1]*x[i+1])\n",
        "\n",
        "def wavelet_features(data):\n",
        "    dwt={}\n",
        "    for i in range(19):\n",
        "        dwt[i]=pywt.wavedec(data.T[i],\"db1\", level=4)\n",
        "    mean=[]\n",
        "    tkeo=[]\n",
        "    std=[]\n",
        "    for i in dwt.values():\n",
        "        for j in range(5):\n",
        "            mean.append(i[j].mean())\n",
        "            tkeo.append(teager(i[j]))\n",
        "    return np.array(tkeo),np.array(mean)\n",
        "\n",
        "def dwt_mean(data):\n",
        "    _,mean= wavelet_features(data)\n",
        "    return mean\n",
        "    \n",
        "def dwt_tkeo(data):\n",
        "    tkeo,_= wavelet_features(data) \n",
        "    return tkeo\n",
        "        \n",
        "def hjorth_mobility(data):\n",
        "    return np.divide(np.std(np.diff(data,axis=0),axis=0),np.std(data,axis=0))\n",
        "\n",
        "def hjorth_complexity(data):\n",
        "    return np.divide(hjorth_mobility(np.diff(data,axis=0)),  hjorth_mobility(data))      \n",
        "\n",
        "\n",
        "\n",
        "def concatenate(data):\n",
        "    return np.concatenate((mean(data),std(data),ptp(data),var(data),abs_diffs_signal(data),minim(data),maxim(data),mean_square(data),rms(data),\n",
        "                           skewness(data),kurtosis(data),hjorth_mobility(data),hjorth_complexity(data),teager(data),zero_crossing(data),\n",
        "                           app_epy(data),perm_epy(data),svd_epy(data),spectral_epy(data),sample_epy(data),\n",
        "                           katz(data),higuchi(data),petrosian(data)),axis=0)"
      ],
      "execution_count": 0,
      "outputs": []
    },
    {
      "cell_type": "code",
      "metadata": {
        "id": "723cSvCgDbF8",
        "colab_type": "code",
        "colab": {}
      },
      "source": [
        "features1=[]\n",
        "for f in HC_reshaped:\n",
        "    feature=[]\n",
        "    for i in f:\n",
        "        feature.append(concatenate(i))\n",
        "    features1.append(np.mean(np.array(feature),axis=0))"
      ],
      "execution_count": 0,
      "outputs": []
    },
    {
      "cell_type": "code",
      "metadata": {
        "id": "6SpzCQEiDY8o",
        "colab_type": "code",
        "colab": {}
      },
      "source": [
        "features2=[]\n",
        "for f in SZ_reshaped:\n",
        "    feature=[]\n",
        "    for i in f:\n",
        "        feature.append(concatenate(i))\n",
        "    features2.append(np.mean(np.array(feature),axis=0))"
      ],
      "execution_count": 0,
      "outputs": []
    },
    {
      "cell_type": "code",
      "metadata": {
        "id": "HcW6QDhqNV9i",
        "colab_type": "code",
        "outputId": "e7b56e03-bafb-4005-c446-cef04b4fb1c5",
        "colab": {
          "base_uri": "https://localhost:8080/",
          "height": 33
        }
      },
      "source": [
        "len(features1),len(features2)"
      ],
      "execution_count": 35,
      "outputs": [
        {
          "output_type": "execute_result",
          "data": {
            "text/plain": [
              "(14, 14)"
            ]
          },
          "metadata": {
            "tags": []
          },
          "execution_count": 35
        }
      ]
    },
    {
      "cell_type": "code",
      "metadata": {
        "id": "A76Gw1jcy5YQ",
        "colab_type": "code",
        "outputId": "b3721524-3dbc-423e-b868-f925ee6e0ea0",
        "colab": {
          "base_uri": "https://localhost:8080/",
          "height": 33
        }
      },
      "source": [
        "features1[0].shape\n"
      ],
      "execution_count": 36,
      "outputs": [
        {
          "output_type": "execute_result",
          "data": {
            "text/plain": [
              "(437,)"
            ]
          },
          "metadata": {
            "tags": []
          },
          "execution_count": 36
        }
      ]
    },
    {
      "cell_type": "code",
      "metadata": {
        "id": "sAPOxoAksgp_",
        "colab_type": "code",
        "outputId": "41880f5c-e388-4ce6-86d6-3313dee68642",
        "colab": {
          "base_uri": "https://localhost:8080/",
          "height": 33
        }
      },
      "source": [
        "feature[14].dtype"
      ],
      "execution_count": 37,
      "outputs": [
        {
          "output_type": "execute_result",
          "data": {
            "text/plain": [
              "dtype('float64')"
            ]
          },
          "metadata": {
            "tags": []
          },
          "execution_count": 37
        }
      ]
    },
    {
      "cell_type": "code",
      "metadata": {
        "id": "-FNFG_XEEfdq",
        "colab_type": "code",
        "colab": {}
      },
      "source": [
        "x1_all=np.array(features1)        \n",
        "x2_all=np.array(features2)      \n",
        "\n"
      ],
      "execution_count": 0,
      "outputs": []
    },
    {
      "cell_type": "code",
      "metadata": {
        "id": "B6JK-sLk88jF",
        "colab_type": "code",
        "colab": {}
      },
      "source": [
        "X=np.concatenate((x1_all,x2_all),axis=0)\n",
        "\n",
        "y=np.concatenate(((np.zeros(x1.shape[0])),(np.ones(x2.shape[0]))))"
      ],
      "execution_count": 0,
      "outputs": []
    },
    {
      "cell_type": "code",
      "metadata": {
        "id": "ekhIuZyNNz19",
        "colab_type": "code",
        "outputId": "2d6fd4fe-d4c5-4f04-9402-c5a62959fe67",
        "colab": {
          "base_uri": "https://localhost:8080/",
          "height": 33
        }
      },
      "source": [
        "X.shape,y.shape"
      ],
      "execution_count": 40,
      "outputs": [
        {
          "output_type": "execute_result",
          "data": {
            "text/plain": [
              "((28, 437), (28,))"
            ]
          },
          "metadata": {
            "tags": []
          },
          "execution_count": 40
        }
      ]
    },
    {
      "cell_type": "markdown",
      "metadata": {
        "id": "63CwWsKHSzE1",
        "colab_type": "text"
      },
      "source": [
        "### Main Feature Selection"
      ]
    },
    {
      "cell_type": "code",
      "metadata": {
        "id": "Hvu_oArBS1Ow",
        "colab_type": "code",
        "colab": {}
      },
      "source": [
        "feature=['mean','std','ptp','var','abs_diffs_signal','minim','maxim','mean_square','rms',\n",
        "'skewness','kurtosis','hjorth_mobility','hjorth_complexity','teager','zero_crossing',\n",
        "'app_epy','perm_epy','svd_epy','spectral_epy','sample_epy',\n",
        "'katz','higuchi','petrosian']"
      ],
      "execution_count": 0,
      "outputs": []
    },
    {
      "cell_type": "code",
      "metadata": {
        "id": "2g5B-7mQ8A-i",
        "colab_type": "code",
        "colab": {
          "base_uri": "https://localhost:8080/",
          "height": 33
        },
        "outputId": "67b4e578-ecf6-4498-8f68-4bb7017e9509"
      },
      "source": [
        "len(feature),len(feature)*19"
      ],
      "execution_count": 42,
      "outputs": [
        {
          "output_type": "execute_result",
          "data": {
            "text/plain": [
              "(23, 437)"
            ]
          },
          "metadata": {
            "tags": []
          },
          "execution_count": 42
        }
      ]
    },
    {
      "cell_type": "code",
      "metadata": {
        "id": "FZKvV2dUOmYe",
        "colab_type": "code",
        "colab": {}
      },
      "source": [
        ""
      ],
      "execution_count": 0,
      "outputs": []
    },
    {
      "cell_type": "code",
      "metadata": {
        "id": "7kb_CHHiTypP",
        "colab_type": "code",
        "outputId": "be5ba715-0813-4f7e-e74b-f5f210fbbd49",
        "colab": {
          "base_uri": "https://localhost:8080/",
          "height": 1000
        }
      },
      "source": [
        "feature_selected=[]\n",
        "for i in range(28):\n",
        "  clf=LogisticRegression()\n",
        "  randomize = np.arange(len(X))\n",
        "  np.random.shuffle(randomize)\n",
        "  X = X[randomize]\n",
        "  y = y[randomize]\n",
        "  for i,j in zip(range(0,437,19),feature):\n",
        "    X_new=X[:,i:i+19]\n",
        "    X_train, X_test, y_train, y_test = train_test_split(X_new, y,test_size=0.2, random_state=42,stratify=y)\n",
        "    sc=StandardScaler()\n",
        "    X_train=sc.fit_transform(X_train)\n",
        "    X_test=sc.transform(X_test)\n",
        "    \n",
        "    clf.fit(X_train,y_train)\n",
        "    y_pred = clf.predict(X_test)  \n",
        "    acc=metrics.accuracy_score(y_test, y_pred)\n",
        "    print(\"Accuracy of \",j,metrics.accuracy_score(y_test, y_pred))\n",
        "    if acc>0.7:\n",
        "      feature_selected.append(j)\n",
        "  print('-------------------------------------------------------------------')\n"
      ],
      "execution_count": 43,
      "outputs": [
        {
          "output_type": "stream",
          "text": [
            "Accuracy of  mean 0.6666666666666666\n",
            "Accuracy of  std 0.8333333333333334\n",
            "Accuracy of  ptp 0.8333333333333334\n",
            "Accuracy of  var 0.8333333333333334\n",
            "Accuracy of  abs_diffs_signal 0.8333333333333334\n",
            "Accuracy of  minim 0.8333333333333334\n",
            "Accuracy of  maxim 0.8333333333333334\n",
            "Accuracy of  mean_square 0.8333333333333334\n",
            "Accuracy of  rms 0.8333333333333334\n",
            "Accuracy of  skewness 0.5\n",
            "Accuracy of  kurtosis 0.5\n",
            "Accuracy of  hjorth_mobility 0.3333333333333333\n",
            "Accuracy of  hjorth_complexity 0.5\n",
            "Accuracy of  teager 0.6666666666666666\n",
            "Accuracy of  zero_crossing 0.16666666666666666\n",
            "Accuracy of  app_epy 0.5\n",
            "Accuracy of  perm_epy 0.8333333333333334\n",
            "Accuracy of  svd_epy 0.3333333333333333\n",
            "Accuracy of  spectral_epy 0.3333333333333333\n",
            "Accuracy of  sample_epy 0.6666666666666666\n",
            "Accuracy of  katz 0.5\n",
            "Accuracy of  higuchi 0.5\n",
            "Accuracy of  petrosian 0.8333333333333334\n",
            "-------------------------------------------------------------------\n",
            "Accuracy of  mean 0.6666666666666666\n",
            "Accuracy of  std 0.6666666666666666\n",
            "Accuracy of  ptp 0.5\n",
            "Accuracy of  var 0.6666666666666666\n",
            "Accuracy of  abs_diffs_signal 0.6666666666666666\n",
            "Accuracy of  minim 0.6666666666666666\n",
            "Accuracy of  maxim 0.6666666666666666\n",
            "Accuracy of  mean_square 0.6666666666666666\n",
            "Accuracy of  rms 0.6666666666666666\n",
            "Accuracy of  skewness 0.5\n",
            "Accuracy of  kurtosis 0.6666666666666666\n",
            "Accuracy of  hjorth_mobility 0.5\n",
            "Accuracy of  hjorth_complexity 0.5\n",
            "Accuracy of  teager 0.6666666666666666\n",
            "Accuracy of  zero_crossing 0.3333333333333333\n",
            "Accuracy of  app_epy 0.5\n",
            "Accuracy of  perm_epy 0.8333333333333334\n",
            "Accuracy of  svd_epy 0.3333333333333333\n",
            "Accuracy of  spectral_epy 0.5\n",
            "Accuracy of  sample_epy 0.3333333333333333\n",
            "Accuracy of  katz 0.5\n",
            "Accuracy of  higuchi 0.5\n",
            "Accuracy of  petrosian 0.8333333333333334\n",
            "-------------------------------------------------------------------\n",
            "Accuracy of  mean 0.5\n",
            "Accuracy of  std 0.3333333333333333\n",
            "Accuracy of  ptp 0.3333333333333333\n",
            "Accuracy of  var 0.3333333333333333\n",
            "Accuracy of  abs_diffs_signal 0.5\n",
            "Accuracy of  minim 0.3333333333333333\n",
            "Accuracy of  maxim 0.3333333333333333\n",
            "Accuracy of  mean_square 0.3333333333333333\n",
            "Accuracy of  rms 0.3333333333333333\n",
            "Accuracy of  skewness 0.8333333333333334\n",
            "Accuracy of  kurtosis 0.3333333333333333\n",
            "Accuracy of  hjorth_mobility 0.3333333333333333\n",
            "Accuracy of  hjorth_complexity 0.6666666666666666\n",
            "Accuracy of  teager 0.3333333333333333\n",
            "Accuracy of  zero_crossing 0.3333333333333333\n",
            "Accuracy of  app_epy 0.5\n",
            "Accuracy of  perm_epy 1.0\n",
            "Accuracy of  svd_epy 0.16666666666666666\n",
            "Accuracy of  spectral_epy 0.5\n",
            "Accuracy of  sample_epy 0.6666666666666666\n",
            "Accuracy of  katz 0.6666666666666666\n",
            "Accuracy of  higuchi 0.3333333333333333\n",
            "Accuracy of  petrosian 1.0\n",
            "-------------------------------------------------------------------\n",
            "Accuracy of  mean 0.5\n",
            "Accuracy of  std 1.0\n",
            "Accuracy of  ptp 1.0\n",
            "Accuracy of  var 0.6666666666666666\n",
            "Accuracy of  abs_diffs_signal 0.8333333333333334\n",
            "Accuracy of  minim 1.0\n",
            "Accuracy of  maxim 1.0\n",
            "Accuracy of  mean_square 0.6666666666666666\n",
            "Accuracy of  rms 1.0\n",
            "Accuracy of  skewness 0.3333333333333333\n",
            "Accuracy of  kurtosis 0.5\n",
            "Accuracy of  hjorth_mobility 0.5\n",
            "Accuracy of  hjorth_complexity 0.5\n",
            "Accuracy of  teager 0.8333333333333334\n",
            "Accuracy of  zero_crossing 0.5\n",
            "Accuracy of  app_epy 0.5\n",
            "Accuracy of  perm_epy 0.5\n",
            "Accuracy of  svd_epy 0.3333333333333333\n",
            "Accuracy of  spectral_epy 0.6666666666666666\n",
            "Accuracy of  sample_epy 0.5\n",
            "Accuracy of  katz 0.5\n",
            "Accuracy of  higuchi 0.5\n",
            "Accuracy of  petrosian 0.6666666666666666\n",
            "-------------------------------------------------------------------\n",
            "Accuracy of  mean 0.6666666666666666\n",
            "Accuracy of  std 1.0\n",
            "Accuracy of  ptp 0.8333333333333334\n",
            "Accuracy of  var 0.8333333333333334\n",
            "Accuracy of  abs_diffs_signal 1.0\n",
            "Accuracy of  minim 0.8333333333333334\n",
            "Accuracy of  maxim 0.8333333333333334\n",
            "Accuracy of  mean_square 0.8333333333333334\n",
            "Accuracy of  rms 1.0\n",
            "Accuracy of  skewness 1.0\n",
            "Accuracy of  kurtosis 0.5\n",
            "Accuracy of  hjorth_mobility 0.16666666666666666\n",
            "Accuracy of  hjorth_complexity 0.6666666666666666\n",
            "Accuracy of  teager 0.8333333333333334\n",
            "Accuracy of  zero_crossing 0.3333333333333333\n",
            "Accuracy of  app_epy 0.6666666666666666\n",
            "Accuracy of  perm_epy 1.0\n",
            "Accuracy of  svd_epy 0.5\n",
            "Accuracy of  spectral_epy 0.5\n",
            "Accuracy of  sample_epy 0.5\n",
            "Accuracy of  katz 0.6666666666666666\n",
            "Accuracy of  higuchi 0.5\n",
            "Accuracy of  petrosian 1.0\n",
            "-------------------------------------------------------------------\n",
            "Accuracy of  mean 0.3333333333333333\n",
            "Accuracy of  std 0.6666666666666666\n",
            "Accuracy of  ptp 0.3333333333333333\n",
            "Accuracy of  var 0.6666666666666666\n",
            "Accuracy of  abs_diffs_signal 0.6666666666666666\n",
            "Accuracy of  minim 0.3333333333333333\n",
            "Accuracy of  maxim 0.5\n",
            "Accuracy of  mean_square 0.6666666666666666\n",
            "Accuracy of  rms 0.6666666666666666\n",
            "Accuracy of  skewness 0.5\n",
            "Accuracy of  kurtosis 0.5\n",
            "Accuracy of  hjorth_mobility 0.6666666666666666\n",
            "Accuracy of  hjorth_complexity 0.5\n",
            "Accuracy of  teager 0.5\n",
            "Accuracy of  zero_crossing 0.6666666666666666\n",
            "Accuracy of  app_epy 0.8333333333333334\n",
            "Accuracy of  perm_epy 1.0\n",
            "Accuracy of  svd_epy 0.6666666666666666\n",
            "Accuracy of  spectral_epy 0.5\n",
            "Accuracy of  sample_epy 0.6666666666666666\n",
            "Accuracy of  katz 0.6666666666666666\n",
            "Accuracy of  higuchi 1.0\n",
            "Accuracy of  petrosian 1.0\n",
            "-------------------------------------------------------------------\n",
            "Accuracy of  mean 0.5\n",
            "Accuracy of  std 0.8333333333333334\n",
            "Accuracy of  ptp 0.8333333333333334\n",
            "Accuracy of  var 0.5\n",
            "Accuracy of  abs_diffs_signal 0.8333333333333334\n",
            "Accuracy of  minim 0.8333333333333334\n",
            "Accuracy of  maxim 0.8333333333333334\n",
            "Accuracy of  mean_square 0.5\n",
            "Accuracy of  rms 0.8333333333333334\n",
            "Accuracy of  skewness 0.5\n",
            "Accuracy of  kurtosis 0.6666666666666666\n",
            "Accuracy of  hjorth_mobility 0.6666666666666666\n",
            "Accuracy of  hjorth_complexity 0.5\n",
            "Accuracy of  teager 0.5\n",
            "Accuracy of  zero_crossing 0.3333333333333333\n",
            "Accuracy of  app_epy 0.6666666666666666\n",
            "Accuracy of  perm_epy 0.6666666666666666\n",
            "Accuracy of  svd_epy 0.6666666666666666\n",
            "Accuracy of  spectral_epy 0.6666666666666666\n",
            "Accuracy of  sample_epy 0.6666666666666666\n",
            "Accuracy of  katz 0.6666666666666666\n",
            "Accuracy of  higuchi 0.6666666666666666\n",
            "Accuracy of  petrosian 0.5\n",
            "-------------------------------------------------------------------\n",
            "Accuracy of  mean 0.5\n",
            "Accuracy of  std 0.8333333333333334\n",
            "Accuracy of  ptp 0.8333333333333334\n",
            "Accuracy of  var 0.6666666666666666\n",
            "Accuracy of  abs_diffs_signal 0.8333333333333334\n",
            "Accuracy of  minim 0.8333333333333334\n",
            "Accuracy of  maxim 0.6666666666666666\n",
            "Accuracy of  mean_square 0.6666666666666666\n",
            "Accuracy of  rms 0.8333333333333334\n",
            "Accuracy of  skewness 0.5\n",
            "Accuracy of  kurtosis 0.5\n",
            "Accuracy of  hjorth_mobility 0.5\n",
            "Accuracy of  hjorth_complexity 0.6666666666666666\n",
            "Accuracy of  teager 0.6666666666666666\n",
            "Accuracy of  zero_crossing 0.6666666666666666\n",
            "Accuracy of  app_epy 0.6666666666666666\n",
            "Accuracy of  perm_epy 0.6666666666666666\n",
            "Accuracy of  svd_epy 0.3333333333333333\n",
            "Accuracy of  spectral_epy 0.6666666666666666\n",
            "Accuracy of  sample_epy 0.6666666666666666\n",
            "Accuracy of  katz 0.6666666666666666\n",
            "Accuracy of  higuchi 0.3333333333333333\n",
            "Accuracy of  petrosian 0.6666666666666666\n",
            "-------------------------------------------------------------------\n",
            "Accuracy of  mean 0.6666666666666666\n",
            "Accuracy of  std 1.0\n",
            "Accuracy of  ptp 0.6666666666666666\n",
            "Accuracy of  var 0.5\n",
            "Accuracy of  abs_diffs_signal 0.6666666666666666\n",
            "Accuracy of  minim 0.8333333333333334\n",
            "Accuracy of  maxim 0.6666666666666666\n",
            "Accuracy of  mean_square 0.5\n",
            "Accuracy of  rms 1.0\n",
            "Accuracy of  skewness 0.6666666666666666\n",
            "Accuracy of  kurtosis 0.6666666666666666\n",
            "Accuracy of  hjorth_mobility 0.6666666666666666\n",
            "Accuracy of  hjorth_complexity 0.5\n",
            "Accuracy of  teager 0.5\n",
            "Accuracy of  zero_crossing 0.3333333333333333\n",
            "Accuracy of  app_epy 0.6666666666666666\n",
            "Accuracy of  perm_epy 0.8333333333333334\n",
            "Accuracy of  svd_epy 0.6666666666666666\n",
            "Accuracy of  spectral_epy 0.5\n",
            "Accuracy of  sample_epy 0.6666666666666666\n",
            "Accuracy of  katz 0.6666666666666666\n",
            "Accuracy of  higuchi 0.6666666666666666\n",
            "Accuracy of  petrosian 0.8333333333333334\n",
            "-------------------------------------------------------------------\n",
            "Accuracy of  mean 0.3333333333333333\n",
            "Accuracy of  std 0.8333333333333334\n",
            "Accuracy of  ptp 0.5\n",
            "Accuracy of  var 0.6666666666666666\n",
            "Accuracy of  abs_diffs_signal 0.6666666666666666\n",
            "Accuracy of  minim 0.5\n",
            "Accuracy of  maxim 0.6666666666666666\n",
            "Accuracy of  mean_square 0.6666666666666666\n",
            "Accuracy of  rms 0.8333333333333334\n",
            "Accuracy of  skewness 0.5\n",
            "Accuracy of  kurtosis 0.5\n",
            "Accuracy of  hjorth_mobility 0.8333333333333334\n",
            "Accuracy of  hjorth_complexity 0.6666666666666666\n",
            "Accuracy of  teager 0.5\n",
            "Accuracy of  zero_crossing 0.3333333333333333\n",
            "Accuracy of  app_epy 0.8333333333333334\n",
            "Accuracy of  perm_epy 0.8333333333333334\n",
            "Accuracy of  svd_epy 0.8333333333333334\n",
            "Accuracy of  spectral_epy 0.8333333333333334\n",
            "Accuracy of  sample_epy 0.8333333333333334\n",
            "Accuracy of  katz 0.8333333333333334\n",
            "Accuracy of  higuchi 0.8333333333333334\n",
            "Accuracy of  petrosian 0.8333333333333334\n",
            "-------------------------------------------------------------------\n",
            "Accuracy of  mean 0.6666666666666666\n",
            "Accuracy of  std 0.8333333333333334\n",
            "Accuracy of  ptp 0.8333333333333334\n",
            "Accuracy of  var 0.6666666666666666\n",
            "Accuracy of  abs_diffs_signal 0.8333333333333334\n",
            "Accuracy of  minim 0.6666666666666666\n",
            "Accuracy of  maxim 0.8333333333333334\n",
            "Accuracy of  mean_square 0.6666666666666666\n",
            "Accuracy of  rms 0.8333333333333334\n",
            "Accuracy of  skewness 0.8333333333333334\n",
            "Accuracy of  kurtosis 0.5\n",
            "Accuracy of  hjorth_mobility 0.5\n",
            "Accuracy of  hjorth_complexity 0.8333333333333334\n",
            "Accuracy of  teager 0.5\n",
            "Accuracy of  zero_crossing 0.3333333333333333\n",
            "Accuracy of  app_epy 0.6666666666666666\n",
            "Accuracy of  perm_epy 0.8333333333333334\n",
            "Accuracy of  svd_epy 0.5\n",
            "Accuracy of  spectral_epy 0.5\n",
            "Accuracy of  sample_epy 0.8333333333333334\n",
            "Accuracy of  katz 0.6666666666666666\n",
            "Accuracy of  higuchi 0.5\n",
            "Accuracy of  petrosian 0.8333333333333334\n",
            "-------------------------------------------------------------------\n",
            "Accuracy of  mean 0.5\n",
            "Accuracy of  std 0.6666666666666666\n",
            "Accuracy of  ptp 0.5\n",
            "Accuracy of  var 0.3333333333333333\n",
            "Accuracy of  abs_diffs_signal 0.6666666666666666\n",
            "Accuracy of  minim 0.3333333333333333\n",
            "Accuracy of  maxim 0.6666666666666666\n",
            "Accuracy of  mean_square 0.3333333333333333\n",
            "Accuracy of  rms 0.6666666666666666\n",
            "Accuracy of  skewness 0.6666666666666666\n",
            "Accuracy of  kurtosis 0.3333333333333333\n",
            "Accuracy of  hjorth_mobility 0.5\n",
            "Accuracy of  hjorth_complexity 0.3333333333333333\n",
            "Accuracy of  teager 0.5\n",
            "Accuracy of  zero_crossing 0.3333333333333333\n",
            "Accuracy of  app_epy 0.8333333333333334\n",
            "Accuracy of  perm_epy 1.0\n",
            "Accuracy of  svd_epy 0.6666666666666666\n",
            "Accuracy of  spectral_epy 0.6666666666666666\n",
            "Accuracy of  sample_epy 0.8333333333333334\n",
            "Accuracy of  katz 0.3333333333333333\n",
            "Accuracy of  higuchi 0.6666666666666666\n",
            "Accuracy of  petrosian 1.0\n",
            "-------------------------------------------------------------------\n",
            "Accuracy of  mean 0.6666666666666666\n",
            "Accuracy of  std 0.8333333333333334\n",
            "Accuracy of  ptp 0.6666666666666666\n",
            "Accuracy of  var 0.5\n",
            "Accuracy of  abs_diffs_signal 0.6666666666666666\n",
            "Accuracy of  minim 0.6666666666666666\n",
            "Accuracy of  maxim 0.6666666666666666\n",
            "Accuracy of  mean_square 0.5\n",
            "Accuracy of  rms 1.0\n",
            "Accuracy of  skewness 0.8333333333333334\n",
            "Accuracy of  kurtosis 0.6666666666666666\n",
            "Accuracy of  hjorth_mobility 0.6666666666666666\n",
            "Accuracy of  hjorth_complexity 0.3333333333333333\n",
            "Accuracy of  teager 0.5\n",
            "Accuracy of  zero_crossing 0.6666666666666666\n",
            "Accuracy of  app_epy 0.6666666666666666\n",
            "Accuracy of  perm_epy 0.8333333333333334\n",
            "Accuracy of  svd_epy 0.6666666666666666\n",
            "Accuracy of  spectral_epy 0.3333333333333333\n",
            "Accuracy of  sample_epy 0.6666666666666666\n",
            "Accuracy of  katz 0.5\n",
            "Accuracy of  higuchi 0.6666666666666666\n",
            "Accuracy of  petrosian 0.6666666666666666\n",
            "-------------------------------------------------------------------\n",
            "Accuracy of  mean 0.5\n",
            "Accuracy of  std 0.8333333333333334\n",
            "Accuracy of  ptp 0.8333333333333334\n",
            "Accuracy of  var 0.5\n",
            "Accuracy of  abs_diffs_signal 1.0\n",
            "Accuracy of  minim 0.8333333333333334\n",
            "Accuracy of  maxim 0.8333333333333334\n",
            "Accuracy of  mean_square 0.5\n",
            "Accuracy of  rms 0.8333333333333334\n",
            "Accuracy of  skewness 0.6666666666666666\n",
            "Accuracy of  kurtosis 0.5\n",
            "Accuracy of  hjorth_mobility 0.8333333333333334\n",
            "Accuracy of  hjorth_complexity 0.3333333333333333\n",
            "Accuracy of  teager 0.5\n",
            "Accuracy of  zero_crossing 0.16666666666666666\n",
            "Accuracy of  app_epy 0.8333333333333334\n",
            "Accuracy of  perm_epy 0.8333333333333334\n",
            "Accuracy of  svd_epy 0.8333333333333334\n",
            "Accuracy of  spectral_epy 0.3333333333333333\n",
            "Accuracy of  sample_epy 0.6666666666666666\n",
            "Accuracy of  katz 0.6666666666666666\n",
            "Accuracy of  higuchi 0.8333333333333334\n",
            "Accuracy of  petrosian 0.8333333333333334\n",
            "-------------------------------------------------------------------\n",
            "Accuracy of  mean 0.5\n",
            "Accuracy of  std 0.8333333333333334\n",
            "Accuracy of  ptp 0.6666666666666666\n",
            "Accuracy of  var 0.5\n",
            "Accuracy of  abs_diffs_signal 0.6666666666666666\n",
            "Accuracy of  minim 0.6666666666666666\n",
            "Accuracy of  maxim 0.6666666666666666\n",
            "Accuracy of  mean_square 0.5\n",
            "Accuracy of  rms 0.8333333333333334\n",
            "Accuracy of  skewness 0.6666666666666666\n",
            "Accuracy of  kurtosis 0.5\n",
            "Accuracy of  hjorth_mobility 0.8333333333333334\n",
            "Accuracy of  hjorth_complexity 0.8333333333333334\n",
            "Accuracy of  teager 0.3333333333333333\n",
            "Accuracy of  zero_crossing 0.6666666666666666\n",
            "Accuracy of  app_epy 0.8333333333333334\n",
            "Accuracy of  perm_epy 0.8333333333333334\n",
            "Accuracy of  svd_epy 0.8333333333333334\n",
            "Accuracy of  spectral_epy 0.6666666666666666\n",
            "Accuracy of  sample_epy 0.8333333333333334\n",
            "Accuracy of  katz 0.8333333333333334\n",
            "Accuracy of  higuchi 0.6666666666666666\n",
            "Accuracy of  petrosian 0.8333333333333334\n",
            "-------------------------------------------------------------------\n",
            "Accuracy of  mean 0.5\n",
            "Accuracy of  std 0.8333333333333334\n",
            "Accuracy of  ptp 0.6666666666666666\n",
            "Accuracy of  var 0.6666666666666666\n",
            "Accuracy of  abs_diffs_signal 0.8333333333333334\n",
            "Accuracy of  minim 0.6666666666666666\n",
            "Accuracy of  maxim 0.8333333333333334\n",
            "Accuracy of  mean_square 0.6666666666666666\n",
            "Accuracy of  rms 0.8333333333333334\n",
            "Accuracy of  skewness 0.3333333333333333\n",
            "Accuracy of  kurtosis 0.5\n",
            "Accuracy of  hjorth_mobility 0.5\n",
            "Accuracy of  hjorth_complexity 0.6666666666666666\n",
            "Accuracy of  teager 0.5\n",
            "Accuracy of  zero_crossing 0.8333333333333334\n",
            "Accuracy of  app_epy 0.5\n",
            "Accuracy of  perm_epy 0.5\n",
            "Accuracy of  svd_epy 0.5\n",
            "Accuracy of  spectral_epy 0.3333333333333333\n",
            "Accuracy of  sample_epy 0.5\n",
            "Accuracy of  katz 0.6666666666666666\n",
            "Accuracy of  higuchi 0.5\n",
            "Accuracy of  petrosian 0.5\n",
            "-------------------------------------------------------------------\n",
            "Accuracy of  mean 0.8333333333333334\n",
            "Accuracy of  std 0.5\n",
            "Accuracy of  ptp 0.5\n",
            "Accuracy of  var 0.6666666666666666\n",
            "Accuracy of  abs_diffs_signal 0.3333333333333333\n",
            "Accuracy of  minim 0.5\n",
            "Accuracy of  maxim 0.5\n",
            "Accuracy of  mean_square 0.6666666666666666\n",
            "Accuracy of  rms 0.5\n",
            "Accuracy of  skewness 0.8333333333333334\n",
            "Accuracy of  kurtosis 0.5\n",
            "Accuracy of  hjorth_mobility 0.3333333333333333\n",
            "Accuracy of  hjorth_complexity 0.6666666666666666\n",
            "Accuracy of  teager 0.6666666666666666\n",
            "Accuracy of  zero_crossing 0.3333333333333333\n",
            "Accuracy of  app_epy 0.5\n",
            "Accuracy of  perm_epy 0.6666666666666666\n",
            "Accuracy of  svd_epy 0.3333333333333333\n",
            "Accuracy of  spectral_epy 0.5\n",
            "Accuracy of  sample_epy 0.5\n",
            "Accuracy of  katz 0.5\n",
            "Accuracy of  higuchi 0.3333333333333333\n",
            "Accuracy of  petrosian 0.5\n",
            "-------------------------------------------------------------------\n",
            "Accuracy of  mean 0.5\n",
            "Accuracy of  std 0.6666666666666666\n",
            "Accuracy of  ptp 0.6666666666666666\n",
            "Accuracy of  var 0.6666666666666666\n",
            "Accuracy of  abs_diffs_signal 0.6666666666666666\n",
            "Accuracy of  minim 0.6666666666666666\n",
            "Accuracy of  maxim 0.5\n",
            "Accuracy of  mean_square 0.6666666666666666\n",
            "Accuracy of  rms 0.6666666666666666\n",
            "Accuracy of  skewness 0.6666666666666666\n",
            "Accuracy of  kurtosis 0.6666666666666666\n",
            "Accuracy of  hjorth_mobility 0.5\n",
            "Accuracy of  hjorth_complexity 0.5\n",
            "Accuracy of  teager 0.6666666666666666\n",
            "Accuracy of  zero_crossing 0.5\n",
            "Accuracy of  app_epy 0.6666666666666666\n",
            "Accuracy of  perm_epy 0.8333333333333334\n",
            "Accuracy of  svd_epy 0.5\n",
            "Accuracy of  spectral_epy 0.5\n",
            "Accuracy of  sample_epy 0.6666666666666666\n",
            "Accuracy of  katz 0.5\n",
            "Accuracy of  higuchi 0.6666666666666666\n",
            "Accuracy of  petrosian 0.8333333333333334\n",
            "-------------------------------------------------------------------\n",
            "Accuracy of  mean 0.5\n",
            "Accuracy of  std 0.8333333333333334\n",
            "Accuracy of  ptp 0.6666666666666666\n",
            "Accuracy of  var 0.5\n",
            "Accuracy of  abs_diffs_signal 0.5\n",
            "Accuracy of  minim 0.6666666666666666\n",
            "Accuracy of  maxim 0.6666666666666666\n",
            "Accuracy of  mean_square 0.5\n",
            "Accuracy of  rms 0.8333333333333334\n",
            "Accuracy of  skewness 0.6666666666666666\n",
            "Accuracy of  kurtosis 0.3333333333333333\n",
            "Accuracy of  hjorth_mobility 0.6666666666666666\n",
            "Accuracy of  hjorth_complexity 0.6666666666666666\n",
            "Accuracy of  teager 0.3333333333333333\n",
            "Accuracy of  zero_crossing 0.5\n",
            "Accuracy of  app_epy 0.8333333333333334\n",
            "Accuracy of  perm_epy 1.0\n",
            "Accuracy of  svd_epy 0.6666666666666666\n",
            "Accuracy of  spectral_epy 0.6666666666666666\n",
            "Accuracy of  sample_epy 0.6666666666666666\n",
            "Accuracy of  katz 0.6666666666666666\n",
            "Accuracy of  higuchi 1.0\n",
            "Accuracy of  petrosian 1.0\n",
            "-------------------------------------------------------------------\n",
            "Accuracy of  mean 0.3333333333333333\n",
            "Accuracy of  std 0.8333333333333334\n",
            "Accuracy of  ptp 0.6666666666666666\n",
            "Accuracy of  var 0.5\n",
            "Accuracy of  abs_diffs_signal 0.8333333333333334\n",
            "Accuracy of  minim 0.5\n",
            "Accuracy of  maxim 0.6666666666666666\n",
            "Accuracy of  mean_square 0.5\n",
            "Accuracy of  rms 0.8333333333333334\n",
            "Accuracy of  skewness 0.3333333333333333\n",
            "Accuracy of  kurtosis 0.6666666666666666\n",
            "Accuracy of  hjorth_mobility 0.6666666666666666\n",
            "Accuracy of  hjorth_complexity 0.8333333333333334\n",
            "Accuracy of  teager 0.6666666666666666\n",
            "Accuracy of  zero_crossing 0.5\n",
            "Accuracy of  app_epy 0.8333333333333334\n",
            "Accuracy of  perm_epy 0.8333333333333334\n",
            "Accuracy of  svd_epy 0.6666666666666666\n",
            "Accuracy of  spectral_epy 0.8333333333333334\n",
            "Accuracy of  sample_epy 0.8333333333333334\n",
            "Accuracy of  katz 0.6666666666666666\n",
            "Accuracy of  higuchi 0.5\n",
            "Accuracy of  petrosian 0.8333333333333334\n",
            "-------------------------------------------------------------------\n",
            "Accuracy of  mean 0.5\n",
            "Accuracy of  std 0.6666666666666666\n",
            "Accuracy of  ptp 0.5\n",
            "Accuracy of  var 0.6666666666666666\n",
            "Accuracy of  abs_diffs_signal 0.6666666666666666\n",
            "Accuracy of  minim 0.6666666666666666\n",
            "Accuracy of  maxim 0.5\n",
            "Accuracy of  mean_square 0.6666666666666666\n",
            "Accuracy of  rms 0.6666666666666666\n",
            "Accuracy of  skewness 0.6666666666666666\n",
            "Accuracy of  kurtosis 0.6666666666666666\n",
            "Accuracy of  hjorth_mobility 0.5\n",
            "Accuracy of  hjorth_complexity 0.3333333333333333\n",
            "Accuracy of  teager 0.6666666666666666\n",
            "Accuracy of  zero_crossing 0.3333333333333333\n",
            "Accuracy of  app_epy 0.6666666666666666\n",
            "Accuracy of  perm_epy 1.0\n",
            "Accuracy of  svd_epy 0.3333333333333333\n",
            "Accuracy of  spectral_epy 0.3333333333333333\n",
            "Accuracy of  sample_epy 0.5\n",
            "Accuracy of  katz 0.5\n",
            "Accuracy of  higuchi 0.8333333333333334\n",
            "Accuracy of  petrosian 0.8333333333333334\n",
            "-------------------------------------------------------------------\n",
            "Accuracy of  mean 0.5\n",
            "Accuracy of  std 0.8333333333333334\n",
            "Accuracy of  ptp 0.3333333333333333\n",
            "Accuracy of  var 0.5\n",
            "Accuracy of  abs_diffs_signal 0.5\n",
            "Accuracy of  minim 0.5\n",
            "Accuracy of  maxim 0.3333333333333333\n",
            "Accuracy of  mean_square 0.5\n",
            "Accuracy of  rms 0.8333333333333334\n",
            "Accuracy of  skewness 0.6666666666666666\n",
            "Accuracy of  kurtosis 0.5\n",
            "Accuracy of  hjorth_mobility 0.8333333333333334\n",
            "Accuracy of  hjorth_complexity 0.8333333333333334\n",
            "Accuracy of  teager 0.5\n",
            "Accuracy of  zero_crossing 0.5\n",
            "Accuracy of  app_epy 0.6666666666666666\n",
            "Accuracy of  perm_epy 0.8333333333333334\n",
            "Accuracy of  svd_epy 0.8333333333333334\n",
            "Accuracy of  spectral_epy 0.6666666666666666\n",
            "Accuracy of  sample_epy 0.6666666666666666\n",
            "Accuracy of  katz 0.8333333333333334\n",
            "Accuracy of  higuchi 0.6666666666666666\n",
            "Accuracy of  petrosian 0.8333333333333334\n",
            "-------------------------------------------------------------------\n",
            "Accuracy of  mean 0.5\n",
            "Accuracy of  std 1.0\n",
            "Accuracy of  ptp 0.8333333333333334\n",
            "Accuracy of  var 0.5\n",
            "Accuracy of  abs_diffs_signal 0.6666666666666666\n",
            "Accuracy of  minim 0.8333333333333334\n",
            "Accuracy of  maxim 0.6666666666666666\n",
            "Accuracy of  mean_square 0.5\n",
            "Accuracy of  rms 1.0\n",
            "Accuracy of  skewness 0.5\n",
            "Accuracy of  kurtosis 0.8333333333333334\n",
            "Accuracy of  hjorth_mobility 0.6666666666666666\n",
            "Accuracy of  hjorth_complexity 0.5\n",
            "Accuracy of  teager 0.5\n",
            "Accuracy of  zero_crossing 0.16666666666666666\n",
            "Accuracy of  app_epy 0.6666666666666666\n",
            "Accuracy of  perm_epy 0.8333333333333334\n",
            "Accuracy of  svd_epy 0.6666666666666666\n",
            "Accuracy of  spectral_epy 0.8333333333333334\n",
            "Accuracy of  sample_epy 0.6666666666666666\n",
            "Accuracy of  katz 0.5\n",
            "Accuracy of  higuchi 0.5\n",
            "Accuracy of  petrosian 0.8333333333333334\n",
            "-------------------------------------------------------------------\n",
            "Accuracy of  mean 0.6666666666666666\n",
            "Accuracy of  std 0.8333333333333334\n",
            "Accuracy of  ptp 0.8333333333333334\n",
            "Accuracy of  var 0.3333333333333333\n",
            "Accuracy of  abs_diffs_signal 1.0\n",
            "Accuracy of  minim 1.0\n",
            "Accuracy of  maxim 0.8333333333333334\n",
            "Accuracy of  mean_square 0.3333333333333333\n",
            "Accuracy of  rms 0.8333333333333334\n",
            "Accuracy of  skewness 0.6666666666666666\n",
            "Accuracy of  kurtosis 0.6666666666666666\n",
            "Accuracy of  hjorth_mobility 0.3333333333333333\n",
            "Accuracy of  hjorth_complexity 0.5\n",
            "Accuracy of  teager 0.8333333333333334\n",
            "Accuracy of  zero_crossing 0.5\n",
            "Accuracy of  app_epy 0.5\n",
            "Accuracy of  perm_epy 0.6666666666666666\n",
            "Accuracy of  svd_epy 0.3333333333333333\n",
            "Accuracy of  spectral_epy 0.5\n",
            "Accuracy of  sample_epy 0.5\n",
            "Accuracy of  katz 0.5\n",
            "Accuracy of  higuchi 0.5\n",
            "Accuracy of  petrosian 0.8333333333333334\n",
            "-------------------------------------------------------------------\n",
            "Accuracy of  mean 0.6666666666666666\n",
            "Accuracy of  std 0.5\n",
            "Accuracy of  ptp 0.3333333333333333\n",
            "Accuracy of  var 0.5\n",
            "Accuracy of  abs_diffs_signal 0.6666666666666666\n",
            "Accuracy of  minim 0.5\n",
            "Accuracy of  maxim 0.3333333333333333\n",
            "Accuracy of  mean_square 0.5\n",
            "Accuracy of  rms 0.5\n",
            "Accuracy of  skewness 0.3333333333333333\n",
            "Accuracy of  kurtosis 0.6666666666666666\n",
            "Accuracy of  hjorth_mobility 0.6666666666666666\n",
            "Accuracy of  hjorth_complexity 0.6666666666666666\n",
            "Accuracy of  teager 0.8333333333333334\n",
            "Accuracy of  zero_crossing 0.5\n",
            "Accuracy of  app_epy 0.6666666666666666\n",
            "Accuracy of  perm_epy 0.8333333333333334\n",
            "Accuracy of  svd_epy 0.6666666666666666\n",
            "Accuracy of  spectral_epy 0.6666666666666666\n",
            "Accuracy of  sample_epy 0.8333333333333334\n",
            "Accuracy of  katz 0.6666666666666666\n",
            "Accuracy of  higuchi 0.6666666666666666\n",
            "Accuracy of  petrosian 0.8333333333333334\n",
            "-------------------------------------------------------------------\n",
            "Accuracy of  mean 0.6666666666666666\n",
            "Accuracy of  std 1.0\n",
            "Accuracy of  ptp 0.8333333333333334\n",
            "Accuracy of  var 0.6666666666666666\n",
            "Accuracy of  abs_diffs_signal 1.0\n",
            "Accuracy of  minim 0.8333333333333334\n",
            "Accuracy of  maxim 0.8333333333333334\n",
            "Accuracy of  mean_square 0.6666666666666666\n",
            "Accuracy of  rms 1.0\n",
            "Accuracy of  skewness 0.5\n",
            "Accuracy of  kurtosis 0.6666666666666666\n",
            "Accuracy of  hjorth_mobility 0.5\n",
            "Accuracy of  hjorth_complexity 0.8333333333333334\n",
            "Accuracy of  teager 0.8333333333333334\n",
            "Accuracy of  zero_crossing 0.5\n",
            "Accuracy of  app_epy 0.6666666666666666\n",
            "Accuracy of  perm_epy 0.8333333333333334\n",
            "Accuracy of  svd_epy 0.3333333333333333\n",
            "Accuracy of  spectral_epy 0.5\n",
            "Accuracy of  sample_epy 0.5\n",
            "Accuracy of  katz 0.5\n",
            "Accuracy of  higuchi 0.5\n",
            "Accuracy of  petrosian 0.8333333333333334\n",
            "-------------------------------------------------------------------\n",
            "Accuracy of  mean 0.5\n",
            "Accuracy of  std 0.8333333333333334\n",
            "Accuracy of  ptp 0.6666666666666666\n",
            "Accuracy of  var 0.5\n",
            "Accuracy of  abs_diffs_signal 0.6666666666666666\n",
            "Accuracy of  minim 0.8333333333333334\n",
            "Accuracy of  maxim 0.8333333333333334\n",
            "Accuracy of  mean_square 0.5\n",
            "Accuracy of  rms 0.8333333333333334\n",
            "Accuracy of  skewness 0.6666666666666666\n",
            "Accuracy of  kurtosis 0.5\n",
            "Accuracy of  hjorth_mobility 0.6666666666666666\n",
            "Accuracy of  hjorth_complexity 0.6666666666666666\n",
            "Accuracy of  teager 0.3333333333333333\n",
            "Accuracy of  zero_crossing 0.5\n",
            "Accuracy of  app_epy 0.6666666666666666\n",
            "Accuracy of  perm_epy 0.6666666666666666\n",
            "Accuracy of  svd_epy 0.6666666666666666\n",
            "Accuracy of  spectral_epy 0.6666666666666666\n",
            "Accuracy of  sample_epy 0.6666666666666666\n",
            "Accuracy of  katz 0.6666666666666666\n",
            "Accuracy of  higuchi 0.6666666666666666\n",
            "Accuracy of  petrosian 0.6666666666666666\n",
            "-------------------------------------------------------------------\n",
            "Accuracy of  mean 0.3333333333333333\n",
            "Accuracy of  std 0.8333333333333334\n",
            "Accuracy of  ptp 0.5\n",
            "Accuracy of  var 0.3333333333333333\n",
            "Accuracy of  abs_diffs_signal 0.8333333333333334\n",
            "Accuracy of  minim 0.5\n",
            "Accuracy of  maxim 0.6666666666666666\n",
            "Accuracy of  mean_square 0.3333333333333333\n",
            "Accuracy of  rms 0.8333333333333334\n",
            "Accuracy of  skewness 0.3333333333333333\n",
            "Accuracy of  kurtosis 0.5\n",
            "Accuracy of  hjorth_mobility 0.6666666666666666\n",
            "Accuracy of  hjorth_complexity 0.6666666666666666\n",
            "Accuracy of  teager 0.5\n",
            "Accuracy of  zero_crossing 0.6666666666666666\n",
            "Accuracy of  app_epy 0.8333333333333334\n",
            "Accuracy of  perm_epy 1.0\n",
            "Accuracy of  svd_epy 0.8333333333333334\n",
            "Accuracy of  spectral_epy 0.5\n",
            "Accuracy of  sample_epy 0.8333333333333334\n",
            "Accuracy of  katz 0.8333333333333334\n",
            "Accuracy of  higuchi 1.0\n",
            "Accuracy of  petrosian 1.0\n",
            "-------------------------------------------------------------------\n"
          ],
          "name": "stdout"
        }
      ]
    },
    {
      "cell_type": "code",
      "metadata": {
        "id": "XzumcIUWnM3k",
        "colab_type": "code",
        "colab": {}
      },
      "source": [
        "count= {x:feature_selected.count(x) for x in feature_selected}"
      ],
      "execution_count": 0,
      "outputs": []
    },
    {
      "cell_type": "code",
      "metadata": {
        "id": "pXKgDnNdPiRL",
        "colab_type": "code",
        "colab": {
          "base_uri": "https://localhost:8080/",
          "height": 53
        },
        "outputId": "676802a1-64d7-4780-f3bd-7fbf8d242133"
      },
      "source": [
        "from collections import Counter\n",
        "c = Counter(count)\n",
        "print(c.most_common())"
      ],
      "execution_count": 45,
      "outputs": [
        {
          "output_type": "stream",
          "text": [
            "[('perm_epy', 21), ('petrosian', 21), ('std', 20), ('rms', 20), ('abs_diffs_signal', 12), ('minim', 11), ('ptp', 10), ('maxim', 10), ('app_epy', 8), ('sample_epy', 7), ('higuchi', 6), ('skewness', 5), ('teager', 5), ('svd_epy', 5), ('hjorth_complexity', 5), ('hjorth_mobility', 4), ('katz', 4), ('spectral_epy', 3), ('var', 2), ('mean_square', 2), ('zero_crossing', 1), ('mean', 1), ('kurtosis', 1)]\n"
          ],
          "name": "stdout"
        }
      ]
    },
    {
      "cell_type": "code",
      "metadata": {
        "id": "6HLcT23AjME_",
        "colab_type": "code",
        "colab": {}
      },
      "source": [
        "#('std', 22), ('rms', 22), ('perm_epy', 15), ('petrosian', 14), ('ptp', 12), ('minim', 12), ('maxim', 12), ('abs_diffs_signal', 11)"
      ],
      "execution_count": 0,
      "outputs": []
    },
    {
      "cell_type": "markdown",
      "metadata": {
        "id": "xePQjKQ-pHqh",
        "colab_type": "text"
      },
      "source": [
        "### Combined accuracy based selection"
      ]
    },
    {
      "cell_type": "code",
      "metadata": {
        "id": "mf-PAjOvUNIN",
        "colab_type": "code",
        "outputId": "fad10106-74ef-4c5a-9a41-cf02da751e6b",
        "colab": {
          "base_uri": "https://localhost:8080/",
          "height": 368
        }
      },
      "source": [
        "acc_old=0\n",
        "X_updated=0\n",
        "inc=0\n",
        "for i,j in zip(range(0,360,18),feature):\n",
        "  X_new=X[:,i:i+72]\n",
        "  if acc_old==0:\n",
        "    X_new=X_new\n",
        "  else:\n",
        "    X_new=np.concatenate((X_new,X_updated),axis=1)\n",
        "  X_train, X_test, y_train, y_test = train_test_split(X_new, y,test_size=0.2, random_state=42,stratify=y)\n",
        "  sc=StandardScaler()\n",
        "  X_train=sc.fit_transform(X_train)\n",
        "  X_test=sc.transform(X_test)\n",
        "  clf=SVC(kernel='rbf')\n",
        "  clf.fit(X_train,y_train)\n",
        "  y_pred = clf.predict(X_test)  \n",
        "  acc=metrics.accuracy_score(y_test, y_pred)\n",
        "  if acc>acc_old:\n",
        "    print(\"Accuracy of \",j,acc)\n",
        "    X_updated=X_new.copy()\n",
        "    inc+=1\n",
        "  else:\n",
        "    print('feature to exclude',j,acc)\n",
        " \n",
        "  acc_old=acc\n",
        "print('total feature included is :', inc)"
      ],
      "execution_count": 47,
      "outputs": [
        {
          "output_type": "stream",
          "text": [
            "Accuracy of  mean 0.5\n",
            "feature to exclude std 0.5\n",
            "Accuracy of  ptp 0.6666666666666666\n",
            "feature to exclude var 0.6666666666666666\n",
            "feature to exclude abs_diffs_signal 0.6666666666666666\n",
            "feature to exclude minim 0.5\n",
            "feature to exclude maxim 0.5\n",
            "feature to exclude mean_square 0.5\n",
            "feature to exclude rms 0.5\n",
            "feature to exclude skewness 0.5\n",
            "feature to exclude kurtosis 0.5\n",
            "Accuracy of  hjorth_mobility 0.6666666666666666\n",
            "feature to exclude hjorth_complexity 0.6666666666666666\n",
            "feature to exclude teager 0.6666666666666666\n",
            "feature to exclude zero_crossing 0.6666666666666666\n",
            "feature to exclude app_epy 0.5\n",
            "feature to exclude perm_epy 0.5\n",
            "feature to exclude svd_epy 0.5\n",
            "feature to exclude spectral_epy 0.5\n",
            "feature to exclude sample_epy 0.5\n",
            "total feature included is : 3\n"
          ],
          "name": "stdout"
        }
      ]
    },
    {
      "cell_type": "markdown",
      "metadata": {
        "id": "ecJI6vojWGc6",
        "colab_type": "text"
      },
      "source": [
        "# Run Selected feature only"
      ]
    },
    {
      "cell_type": "code",
      "metadata": {
        "id": "HNsAbGC4o0Wc",
        "colab_type": "code",
        "colab": {
          "base_uri": "https://localhost:8080/",
          "height": 278
        },
        "outputId": "a3bab15d-1eaf-483b-86ea-6b03ac86df5a"
      },
      "source": [
        "# std(data) ,ptp(data) ,abs_diffs_signal(data), maxim(data) ,skewness(data)\n",
        "# ptp(data),abs_diffs_signal(data),minim(data),maxim(data),skewness(data),perm_epy(data)\n",
        "# std(data), ptp(data), abs_diffs_signal(data), minim(data), maxim(data), rms(data)\n",
        "# std(data),rms(data),dwt_tkeo(data)\n",
        "\n",
        "#final selection\n",
        "std(data) ,rms(data),ptp(data),abs_diffs_signal(data),minim(data),katz(katz),maxim(data),skewness(data),kurtosis(data)"
      ],
      "execution_count": 48,
      "outputs": [
        {
          "output_type": "error",
          "ename": "AttributeError",
          "evalue": "ignored",
          "traceback": [
            "\u001b[0;31m---------------------------------------------------------------------------\u001b[0m",
            "\u001b[0;31mAttributeError\u001b[0m                            Traceback (most recent call last)",
            "\u001b[0;32m<ipython-input-48-7dcf6cac054b>\u001b[0m in \u001b[0;36m<module>\u001b[0;34m()\u001b[0m\n\u001b[0;32m----> 1\u001b[0;31m \u001b[0mstd\u001b[0m\u001b[0;34m(\u001b[0m\u001b[0mdata\u001b[0m\u001b[0;34m)\u001b[0m \u001b[0;34m,\u001b[0m\u001b[0mrms\u001b[0m\u001b[0;34m(\u001b[0m\u001b[0mdata\u001b[0m\u001b[0;34m)\u001b[0m\u001b[0;34m,\u001b[0m\u001b[0mptp\u001b[0m\u001b[0;34m(\u001b[0m\u001b[0mdata\u001b[0m\u001b[0;34m)\u001b[0m\u001b[0;34m,\u001b[0m\u001b[0mabs_diffs_signal\u001b[0m\u001b[0;34m(\u001b[0m\u001b[0mdata\u001b[0m\u001b[0;34m)\u001b[0m\u001b[0;34m,\u001b[0m\u001b[0mminim\u001b[0m\u001b[0;34m(\u001b[0m\u001b[0mdata\u001b[0m\u001b[0;34m)\u001b[0m\u001b[0;34m,\u001b[0m\u001b[0mkatz\u001b[0m\u001b[0;34m(\u001b[0m\u001b[0mkatz\u001b[0m\u001b[0;34m)\u001b[0m\u001b[0;34m,\u001b[0m\u001b[0mmaxim\u001b[0m\u001b[0;34m(\u001b[0m\u001b[0mdata\u001b[0m\u001b[0;34m)\u001b[0m\u001b[0;34m,\u001b[0m\u001b[0mskewness\u001b[0m\u001b[0;34m(\u001b[0m\u001b[0mdata\u001b[0m\u001b[0;34m)\u001b[0m\u001b[0;34m,\u001b[0m\u001b[0mkurtosis\u001b[0m\u001b[0;34m(\u001b[0m\u001b[0mdata\u001b[0m\u001b[0;34m)\u001b[0m\u001b[0;34m\u001b[0m\u001b[0;34m\u001b[0m\u001b[0m\n\u001b[0m",
            "\u001b[0;32m<ipython-input-32-704650772b7e>\u001b[0m in \u001b[0;36mkatz\u001b[0;34m(data)\u001b[0m\n\u001b[1;32m     71\u001b[0m \u001b[0;32mdef\u001b[0m \u001b[0mkatz\u001b[0m\u001b[0;34m(\u001b[0m\u001b[0mdata\u001b[0m\u001b[0;34m)\u001b[0m\u001b[0;34m:\u001b[0m\u001b[0;34m\u001b[0m\u001b[0;34m\u001b[0m\u001b[0m\n\u001b[1;32m     72\u001b[0m     \u001b[0mresult\u001b[0m\u001b[0;34m=\u001b[0m\u001b[0;34m[\u001b[0m\u001b[0;34m]\u001b[0m\u001b[0;34m\u001b[0m\u001b[0;34m\u001b[0m\u001b[0m\n\u001b[0;32m---> 73\u001b[0;31m     \u001b[0;32mfor\u001b[0m \u001b[0mi\u001b[0m \u001b[0;32min\u001b[0m \u001b[0mdata\u001b[0m\u001b[0;34m.\u001b[0m\u001b[0mT\u001b[0m\u001b[0;34m:\u001b[0m\u001b[0;34m\u001b[0m\u001b[0;34m\u001b[0m\u001b[0m\n\u001b[0m\u001b[1;32m     74\u001b[0m         \u001b[0mresult\u001b[0m\u001b[0;34m.\u001b[0m\u001b[0mappend\u001b[0m\u001b[0;34m(\u001b[0m\u001b[0mkatz_fd\u001b[0m\u001b[0;34m(\u001b[0m\u001b[0mi\u001b[0m\u001b[0;34m)\u001b[0m\u001b[0;34m)\u001b[0m\u001b[0;34m\u001b[0m\u001b[0;34m\u001b[0m\u001b[0m\n\u001b[1;32m     75\u001b[0m     \u001b[0;32mreturn\u001b[0m \u001b[0mnp\u001b[0m\u001b[0;34m.\u001b[0m\u001b[0marray\u001b[0m\u001b[0;34m(\u001b[0m\u001b[0mresult\u001b[0m\u001b[0;34m)\u001b[0m\u001b[0;34m\u001b[0m\u001b[0;34m\u001b[0m\u001b[0m\n",
            "\u001b[0;31mAttributeError\u001b[0m: 'function' object has no attribute 'T'"
          ]
        }
      ]
    },
    {
      "cell_type": "code",
      "metadata": {
        "id": "cuK6sJewWEje",
        "colab_type": "code",
        "colab": {}
      },
      "source": [
        "def concatenate(data):\n",
        "    return np.concatenate((std(data) ,rms(data),ptp(data),abs_diffs_signal(data),minim(data),katz(data),maxim(data),skewness(data),kurtosis(data)),axis=0)\n",
        "    "
      ],
      "execution_count": 0,
      "outputs": []
    },
    {
      "cell_type": "code",
      "metadata": {
        "colab_type": "code",
        "id": "enEVrHoCWvtz",
        "colab": {}
      },
      "source": [
        "features1=[]\n",
        "for f in HC_reshaped:\n",
        "    feature=[]\n",
        "    for i in f:\n",
        "        feature.append(concatenate(i))\n",
        "    features1.append(np.mean(np.array(feature),axis=0))"
      ],
      "execution_count": 0,
      "outputs": []
    },
    {
      "cell_type": "code",
      "metadata": {
        "colab_type": "code",
        "id": "RKWr72BTWvt5",
        "colab": {}
      },
      "source": [
        "features2=[]\n",
        "for f in SZ_reshaped:\n",
        "    feature=[]\n",
        "    for i in f:\n",
        "        feature.append(concatenate(i))\n",
        "    features2.append(np.mean(np.array(feature),axis=0))"
      ],
      "execution_count": 0,
      "outputs": []
    },
    {
      "cell_type": "code",
      "metadata": {
        "id": "3cVURnzepN0N",
        "colab_type": "code",
        "colab": {}
      },
      "source": [
        "x1=np.array(features1)        \n",
        "x2=np.array(features2)      \n",
        "\n",
        "X=np.concatenate((x1,x2),axis=0)\n",
        "\n",
        "y=np.concatenate(((np.zeros(x1.shape[0])),(np.ones(x2.shape[0]))))\n",
        "X.shape"
      ],
      "execution_count": 0,
      "outputs": []
    },
    {
      "cell_type": "markdown",
      "metadata": {
        "id": "qH6vWOzfDUGK",
        "colab_type": "text"
      },
      "source": [
        "# Classification"
      ]
    },
    {
      "cell_type": "code",
      "metadata": {
        "id": "694vALtLl8uF",
        "colab_type": "code",
        "colab": {}
      },
      "source": [
        "#%% split data\n",
        "X_train, X_test, y_train, y_test = train_test_split(X, y,test_size=0.3, random_state=42,stratify=y)"
      ],
      "execution_count": 0,
      "outputs": []
    },
    {
      "cell_type": "code",
      "metadata": {
        "id": "ZnmTowVK4rSG",
        "colab_type": "code",
        "colab": {}
      },
      "source": [
        "sc=StandardScaler()\n",
        "X_train=sc.fit_transform(X_train)\n",
        "X_test=sc.transform(X_test)"
      ],
      "execution_count": 0,
      "outputs": []
    },
    {
      "cell_type": "code",
      "metadata": {
        "id": "yVSRKVsvl9Xm",
        "colab_type": "code",
        "colab": {
          "base_uri": "https://localhost:8080/",
          "height": 184
        },
        "outputId": "10982ab4-d738-446f-f3dc-2108207b57a9"
      },
      "source": [
        "\n",
        "clf=SVC(kernel='rbf')\n",
        "clf.fit(X_train,y_train)\n",
        "y_pred = clf.predict(X_test)\n",
        "\n",
        "from sklearn.metrics import classification_report,accuracy_score\n",
        "print(classification_report(y_test,y_pred))\n",
        "print('accuracy is ',accuracy_score(y_test, y_pred))"
      ],
      "execution_count": 51,
      "outputs": [
        {
          "output_type": "stream",
          "text": [
            "              precision    recall  f1-score   support\n",
            "\n",
            "         0.0       0.67      0.40      0.50         5\n",
            "         1.0       0.50      0.75      0.60         4\n",
            "\n",
            "    accuracy                           0.56         9\n",
            "   macro avg       0.58      0.57      0.55         9\n",
            "weighted avg       0.59      0.56      0.54         9\n",
            "\n",
            "accuracy is  0.5555555555555556\n"
          ],
          "name": "stdout"
        }
      ]
    },
    {
      "cell_type": "code",
      "metadata": {
        "id": "LQC-83Qc4b99",
        "colab_type": "code",
        "colab": {}
      },
      "source": [
        ""
      ],
      "execution_count": 0,
      "outputs": []
    },
    {
      "cell_type": "markdown",
      "metadata": {
        "id": "eFXMlK6y4nJl",
        "colab_type": "text"
      },
      "source": [
        "# Tuning"
      ]
    },
    {
      "cell_type": "code",
      "metadata": {
        "id": "NFHnpghp4ouW",
        "colab_type": "code",
        "colab": {
          "base_uri": "https://localhost:8080/",
          "height": 50
        },
        "outputId": "41b9484f-1845-4c51-ddbe-95f8b1df2e50"
      },
      "source": [
        "from sklearn.model_selection import GridSearchCV\n",
        "from sklearn.pipeline import Pipeline\n",
        "\n",
        "clf = SVC(kernel=\"rbf\")\n",
        "Cs = [ 1,2,3,5,7,10,15,30,50,70,100]\n",
        "gammas = [0.001,0.01,0.02,0.03,0.04,0.05,0.1,0.3,0.5,0.8,1]\n",
        "pipe = Pipeline(steps=[('scaler', sc), ('classifier', clf)])\n",
        "estimator = GridSearchCV(pipe,\n",
        "                         dict(classifier__C=Cs,classifier__gamma=gammas),cv=5,n_jobs=-1,iid=False) \n",
        "\n",
        "results = estimator.fit(X,y)\n",
        "print(results.best_score_ )\n",
        "results.best_params_"
      ],
      "execution_count": 52,
      "outputs": [
        {
          "output_type": "stream",
          "text": [
            "0.8666666666666668\n"
          ],
          "name": "stdout"
        },
        {
          "output_type": "execute_result",
          "data": {
            "text/plain": [
              "{'classifier__C': 7, 'classifier__gamma': 0.001}"
            ]
          },
          "metadata": {
            "tags": []
          },
          "execution_count": 52
        }
      ]
    },
    {
      "cell_type": "markdown",
      "metadata": {
        "id": "w1SPkcT15ctM",
        "colab_type": "text"
      },
      "source": [
        "### NuSVM"
      ]
    },
    {
      "cell_type": "code",
      "metadata": {
        "id": "oY8iAgrC5d4o",
        "colab_type": "code",
        "colab": {
          "base_uri": "https://localhost:8080/",
          "height": 50
        },
        "outputId": "1c4895e4-077e-4af4-d4ec-d4490619cadb"
      },
      "source": [
        "from sklearn.svm import SVC, LinearSVC, NuSVC\n",
        "\n",
        "clf = NuSVC(kernel=\"rbf\")\n",
        "nu = [0.1,0.3,0.5,0.7,1]\n",
        "gammas = [0.001,0.01,0.02,0.03,0.04,0.05,0.1,0.3,0.5,0.8,1]\n",
        "pipe = Pipeline(steps=[('scaler', sc), ('classifier', clf)])\n",
        "estimator = GridSearchCV(pipe,\n",
        "                         dict(classifier__nu=nu,classifier__gamma=gammas),cv=5,n_jobs=-1,iid=False) \n",
        "\n",
        "results = estimator.fit(X,y)\n",
        "print(results.best_score_ )\n",
        "results.best_params_"
      ],
      "execution_count": 53,
      "outputs": [
        {
          "output_type": "stream",
          "text": [
            "0.8666666666666668\n"
          ],
          "name": "stdout"
        },
        {
          "output_type": "execute_result",
          "data": {
            "text/plain": [
              "{'classifier__gamma': 0.001, 'classifier__nu': 0.1}"
            ]
          },
          "metadata": {
            "tags": []
          },
          "execution_count": 53
        }
      ]
    },
    {
      "cell_type": "markdown",
      "metadata": {
        "id": "Cy_XSVAc5g7u",
        "colab_type": "text"
      },
      "source": [
        "### LR"
      ]
    },
    {
      "cell_type": "code",
      "metadata": {
        "id": "FY2EcC5w5h__",
        "colab_type": "code",
        "colab": {
          "base_uri": "https://localhost:8080/",
          "height": 50
        },
        "outputId": "7d3f6d1c-723b-4235-ec64-acc0d85a973a"
      },
      "source": [
        "clf = LogisticRegression()\n",
        "C = [ 1,2,3,5,7,10,15,30,50,70,100,120,150]\n",
        "penalty=[\"l1\",\"l2\"]\n",
        "pipe = Pipeline(steps=[('scaler', sc), ('classifier', clf)])\n",
        "estimator = GridSearchCV(pipe,\n",
        "                         dict(classifier__C=C,classifier__penalty=penalty),cv=5,n_jobs=-1,iid=False) \n",
        "\n",
        "results = estimator.fit(X,y)\n",
        "print(results.best_score_ )\n",
        "results.best_params_"
      ],
      "execution_count": 56,
      "outputs": [
        {
          "output_type": "stream",
          "text": [
            "0.7833333333333333\n"
          ],
          "name": "stdout"
        },
        {
          "output_type": "execute_result",
          "data": {
            "text/plain": [
              "{'classifier__C': 100, 'classifier__penalty': 'l1'}"
            ]
          },
          "metadata": {
            "tags": []
          },
          "execution_count": 56
        }
      ]
    },
    {
      "cell_type": "markdown",
      "metadata": {
        "id": "DUCnuJK25bR-",
        "colab_type": "text"
      },
      "source": [
        "### KNN"
      ]
    },
    {
      "cell_type": "code",
      "metadata": {
        "id": "qmtHVZfA5Ooq",
        "colab_type": "code",
        "colab": {
          "base_uri": "https://localhost:8080/",
          "height": 84
        },
        "outputId": "37b43255-3494-4eb9-e2e6-e4b217d3ab38"
      },
      "source": [
        "\n",
        "clf = KNeighborsClassifier()\n",
        "\n",
        "n_neighbors  = [ 3,4,5,6,7,8,9]\n",
        "weights  = ['uniform','distance']\n",
        "metric=['minkowski','manhattan','euclidean']\n",
        "pipe = Pipeline(steps=[('scaler', sc), ('classifier', clf)])\n",
        "estimator = GridSearchCV(pipe,\n",
        "                         dict(classifier__n_neighbors=n_neighbors,classifier__weights=weights,classifier__metric=metric),cv=5,n_jobs=-1,iid=False) \n",
        "results = estimator.fit(X,y)\n",
        "print(results.best_score_ )\n",
        "results.best_params_"
      ],
      "execution_count": 55,
      "outputs": [
        {
          "output_type": "stream",
          "text": [
            "0.7166666666666667\n"
          ],
          "name": "stdout"
        },
        {
          "output_type": "execute_result",
          "data": {
            "text/plain": [
              "{'classifier__metric': 'manhattan',\n",
              " 'classifier__n_neighbors': 4,\n",
              " 'classifier__weights': 'distance'}"
            ]
          },
          "metadata": {
            "tags": []
          },
          "execution_count": 55
        }
      ]
    },
    {
      "cell_type": "markdown",
      "metadata": {
        "id": "F43mLml3DaEE",
        "colab_type": "text"
      },
      "source": [
        "# Cross Validation"
      ]
    },
    {
      "cell_type": "code",
      "metadata": {
        "id": "aPu2-pvOEE1G",
        "colab_type": "code",
        "colab": {}
      },
      "source": [
        "from sklearn.metrics import accuracy_score, log_loss\n",
        "from sklearn.neighbors import KNeighborsClassifier\n",
        "from sklearn.svm import SVC, LinearSVC, NuSVC\n",
        "from sklearn.tree import DecisionTreeClassifier\n",
        "from sklearn.ensemble import RandomForestClassifier, AdaBoostClassifier, GradientBoostingClassifier\n",
        "from sklearn.naive_bayes import GaussianNB\n",
        "from sklearn.discriminant_analysis import LinearDiscriminantAnalysis\n",
        "from sklearn.discriminant_analysis import QuadraticDiscriminantAnalysis\n",
        "from sklearn.linear_model import LogisticRegression\n",
        "import pandas as pd\n",
        "from sklearn.metrics import f1_score\n",
        "from sklearn.model_selection import cross_val_score"
      ],
      "execution_count": 0,
      "outputs": []
    },
    {
      "cell_type": "code",
      "metadata": {
        "id": "KqMYWYTSD5De",
        "colab_type": "code",
        "colab": {}
      },
      "source": [
        "classifiers = [\n",
        "    KNeighborsClassifier(n_neighbors=4,weights='distance',metric='manhattan'),\n",
        "    SVC(kernel=\"rbf\",C=7,gamma=0.001),\n",
        "    NuSVC(nu=0.1,gamma=0.001),\n",
        "    DecisionTreeClassifier(),\n",
        "    RandomForestClassifier(),\n",
        "    AdaBoostClassifier(),\n",
        "    GradientBoostingClassifier(),\n",
        "    GaussianNB(),\n",
        "    LinearDiscriminantAnalysis(),\n",
        "    QuadraticDiscriminantAnalysis(),\n",
        "    LogisticRegression(C=100,penalty='l1')]"
      ],
      "execution_count": 0,
      "outputs": []
    },
    {
      "cell_type": "code",
      "metadata": {
        "id": "SV8b98tzOKjM",
        "colab_type": "code",
        "colab": {}
      },
      "source": [
        "from sklearn.pipeline import Pipeline\n",
        "pipeline = Pipeline([('transformer', sc),('estimator', clf)])\n"
      ],
      "execution_count": 0,
      "outputs": []
    },
    {
      "cell_type": "code",
      "metadata": {
        "id": "KQqS9NjUD3Kc",
        "colab_type": "code",
        "colab": {
          "base_uri": "https://localhost:8080/",
          "height": 753
        },
        "outputId": "b289e4a2-a14f-4d90-8325-fddea73eff1d"
      },
      "source": [
        "import warnings\n",
        "warnings.simplefilter(action='ignore', category=FutureWarning)\n",
        "\n",
        "accuracy=[]\n",
        "accuracy_std=[]\n",
        "f1_scores=[]\n",
        "f1_scores_std=[]\n",
        "for clfs in classifiers:\n",
        "    pipeline.set_params(estimator = clfs)\n",
        "    name = clfs.__class__.__name__\n",
        "    \n",
        "    print(\"=\"*30)\n",
        "    print(name)       \n",
        "    print('****Results****')\n",
        "    scores = cross_val_score(pipeline, X, y, cv=5)\n",
        "    #f1_score = cross_val_score(clf, X_rfe, y, cv=5,scoring='f1')\n",
        "    print(\"Accuracy: {:.4%}\".format(np.array(scores).mean()))\n",
        "    accuracy.append(np.array(scores).mean())\n",
        "    accuracy_std.append(np.array(scores).std())\n",
        "    #f1_scores.append(np.array(f1_score).mean())\n",
        "    #f1_scores_std.append(np.array(f1_score).std())\n"
      ],
      "execution_count": 70,
      "outputs": [
        {
          "output_type": "stream",
          "text": [
            "==============================\n",
            "KNeighborsClassifier\n",
            "****Results****\n",
            "Accuracy: 71.6667%\n",
            "==============================\n",
            "SVC\n",
            "****Results****\n",
            "Accuracy: 86.6667%\n",
            "==============================\n",
            "NuSVC\n",
            "****Results****\n",
            "Accuracy: 86.6667%\n",
            "==============================\n",
            "DecisionTreeClassifier\n",
            "****Results****\n",
            "Accuracy: 61.6667%\n",
            "==============================\n",
            "RandomForestClassifier\n",
            "****Results****\n",
            "Accuracy: 71.6667%\n",
            "==============================\n",
            "AdaBoostClassifier\n",
            "****Results****\n",
            "Accuracy: 70.0000%\n",
            "==============================\n",
            "GradientBoostingClassifier\n",
            "****Results****\n",
            "Accuracy: 68.3333%\n",
            "==============================\n",
            "GaussianNB\n",
            "****Results****\n",
            "Accuracy: 58.3333%\n",
            "==============================\n",
            "LinearDiscriminantAnalysis\n",
            "****Results****\n",
            "Accuracy: 68.3333%\n",
            "==============================\n",
            "QuadraticDiscriminantAnalysis\n",
            "****Results****\n",
            "Accuracy: 53.3333%\n",
            "==============================\n",
            "LogisticRegression\n",
            "****Results****\n",
            "Accuracy: 68.3333%\n"
          ],
          "name": "stdout"
        }
      ]
    },
    {
      "cell_type": "code",
      "metadata": {
        "id": "icpqu9V5D1EL",
        "colab_type": "code",
        "colab": {
          "base_uri": "https://localhost:8080/",
          "height": 297
        },
        "outputId": "bff3899d-8b4b-4092-9afc-113ed79ec9fd"
      },
      "source": [
        "import matplotlib.pyplot as plt\n",
        "classifier=['KNN','SVC','nuSCV','DT','RF','Ada','GB','NB','LDA','QDA','LR']\n",
        "y_pos = np.arange(len(classifier))\n",
        "plt.bar(y_pos,np.array(accuracy))\n",
        "plt.xticks(y_pos, classifier)\n",
        "plt.ylabel('Accuracy')\n",
        "plt.title('Classifiers')"
      ],
      "execution_count": 71,
      "outputs": [
        {
          "output_type": "execute_result",
          "data": {
            "text/plain": [
              "Text(0.5, 1.0, 'Classifiers')"
            ]
          },
          "metadata": {
            "tags": []
          },
          "execution_count": 71
        },
        {
          "output_type": "display_data",
          "data": {
            "image/png": "[encoded data removed]",
            "text/plain": [
              "<Figure size 432x288 with 1 Axes>"
            ]
          },
          "metadata": {
            "tags": []
          }
        }
      ]
    },
    {
      "cell_type": "markdown",
      "metadata": {
        "id": "VBDXxRp2O5kO",
        "colab_type": "text"
      },
      "source": [
        "# Principle Component Analysis"
      ]
    },
    {
      "cell_type": "code",
      "metadata": {
        "id": "qGWFC54TO44u",
        "colab_type": "code",
        "colab": {
          "base_uri": "https://localhost:8080/",
          "height": 295
        },
        "outputId": "b73343ef-0856-47f6-8108-e828d768a235"
      },
      "source": [
        "from sklearn.decomposition import PCA\n",
        "import matplotlib.pyplot as plt\n",
        "from sklearn.decomposition import KernelPCA\n",
        "from sklearn.model_selection import cross_val_score\n",
        "\n",
        "#Fitting the PCA algorithm with our Data\n",
        "pca = PCA().fit(X_train)\n",
        "#Plotting the Cumulative Summation of the Explained Variance\n",
        "plt.figure()\n",
        "plt.plot(np.cumsum(pca.explained_variance_ratio_))\n",
        "plt.xlabel('Number of Components')\n",
        "plt.ylabel('Variance (%)') #for each component\n",
        "plt.title('EEG')\n",
        "plt.show()"
      ],
      "execution_count": 72,
      "outputs": [
        {
          "output_type": "display_data",
          "data": {
            "image/png": "[encoded data removed]",
            "text/plain": [
              "<Figure size 432x288 with 1 Axes>"
            ]
          },
          "metadata": {
            "tags": []
          }
        }
      ]
    },
    {
      "cell_type": "code",
      "metadata": {
        "id": "SN4VeHRtO__B",
        "colab_type": "code",
        "colab": {}
      },
      "source": [
        "\n"
      ],
      "execution_count": 0,
      "outputs": []
    },
    {
      "cell_type": "code",
      "metadata": {
        "colab_type": "code",
        "id": "2vhCPXYMohbm",
        "colab": {}
      },
      "source": [
        "clf = SVC(kernel='rbf')\n",
        "pca = PCA(n_components=10)\n",
        "\n",
        "#pipeline = Pipeline([('selector',pca), ('estimator', clf)])\n",
        "pipeline = Pipeline([('transformer', sc),('selector',pca), ('estimator', clf)])\n"
      ],
      "execution_count": 0,
      "outputs": []
    },
    {
      "cell_type": "code",
      "metadata": {
        "colab_type": "code",
        "id": "mA0HWAG4ohbq",
        "colab": {
          "base_uri": "https://localhost:8080/",
          "height": 753
        },
        "outputId": "3d543f43-c8c7-4be9-8d90-2a5c9ca6da9d"
      },
      "source": [
        "\n",
        "import warnings\n",
        "warnings.simplefilter(action='ignore', category=FutureWarning)\n",
        "\n",
        "accuracy_pca=[]\n",
        "std_pca=[]\n",
        "f1_scores=[]\n",
        "f1_scores_std=[]\n",
        "for clfs in classifiers:\n",
        "    pipeline.set_params(estimator = clfs)\n",
        "    name = clfs.__class__.__name__\n",
        "    \n",
        "    print(\"=\"*30)\n",
        "    print(name)       \n",
        "    print('****Results****')\n",
        "    scores = cross_val_score(pipeline, X, y, cv=5)\n",
        "    #f1_score = cross_val_score(clf, X_rfe, y, cv=5,scoring='f1')\n",
        "    print(\"Accuracy: {:.4%}\".format(np.array(scores).mean()))\n",
        "    accuracy_pca.append(np.array(scores).mean())\n",
        "    std_pca.append(np.array(scores).std())\n",
        "    #f1_scores.append(np.array(f1_score).mean())\n",
        "    #f1_scores_std.append(np.array(f1_score).std())\n"
      ],
      "execution_count": 80,
      "outputs": [
        {
          "output_type": "stream",
          "text": [
            "==============================\n",
            "KNeighborsClassifier\n",
            "****Results****\n",
            "Accuracy: 53.3333%\n",
            "==============================\n",
            "SVC\n",
            "****Results****\n",
            "Accuracy: 60.0000%\n",
            "==============================\n",
            "NuSVC\n",
            "****Results****\n",
            "Accuracy: 66.6667%\n",
            "==============================\n",
            "DecisionTreeClassifier\n",
            "****Results****\n",
            "Accuracy: 46.6667%\n",
            "==============================\n",
            "RandomForestClassifier\n",
            "****Results****\n",
            "Accuracy: 50.0000%\n",
            "==============================\n",
            "AdaBoostClassifier\n",
            "****Results****\n",
            "Accuracy: 60.0000%\n",
            "==============================\n",
            "GradientBoostingClassifier\n",
            "****Results****\n",
            "Accuracy: 50.0000%\n",
            "==============================\n",
            "GaussianNB\n",
            "****Results****\n",
            "Accuracy: 66.6667%\n",
            "==============================\n",
            "LinearDiscriminantAnalysis\n",
            "****Results****\n",
            "Accuracy: 51.6667%\n",
            "==============================\n",
            "QuadraticDiscriminantAnalysis\n",
            "****Results****\n",
            "Accuracy: 56.6667%\n",
            "==============================\n",
            "LogisticRegression\n",
            "****Results****\n",
            "Accuracy: 60.0000%\n"
          ],
          "name": "stdout"
        }
      ]
    },
    {
      "cell_type": "code",
      "metadata": {
        "id": "kejMrjKwEC03",
        "colab_type": "code",
        "colab": {
          "base_uri": "https://localhost:8080/",
          "height": 50
        },
        "outputId": "6d8d350c-f70b-4793-a2d9-bb30ca0bafad"
      },
      "source": [
        "from sklearn.model_selection import GridSearchCV\n",
        "\n",
        "clf = SVC(kernel=\"rbf\")\n",
        "n_components = [5,10,15,20]\n",
        "Cs = [0.001,0.1, 1,2,3,5,7,10,15,30]\n",
        "gammas = [0.001,0.01,0.02,0.03,0.04,0.05,0.1,0.3,0.5,0.8,1]\n",
        "pipe = Pipeline(steps=[('scalar',sc),('selector', pca), ('classifier', clf)])\n",
        "estimator = GridSearchCV(pipe,\n",
        "                         dict(selector__n_components=n_components,\n",
        "                              classifier__C=Cs,classifier__gamma=gammas),cv=5,n_jobs=-1,iid=False) \n",
        "\n",
        "results = estimator.fit(X,y)\n",
        "print(results.best_score_ )\n",
        "results.best_params_"
      ],
      "execution_count": 81,
      "outputs": [
        {
          "output_type": "stream",
          "text": [
            "0.8333333333333333\n"
          ],
          "name": "stdout"
        },
        {
          "output_type": "execute_result",
          "data": {
            "text/plain": [
              "{'classifier__C': 2, 'classifier__gamma': 0.1, 'selector__n_components': 15}"
            ]
          },
          "metadata": {
            "tags": []
          },
          "execution_count": 81
        }
      ]
    },
    {
      "cell_type": "code",
      "metadata": {
        "id": "c2PaVKiKhAyf",
        "colab_type": "code",
        "colab": {
          "base_uri": "https://localhost:8080/",
          "height": 100
        },
        "outputId": "ae2c6212-ee8e-4bbf-ca84-8a7ec60b587f"
      },
      "source": [
        "from sklearn.model_selection import GridSearchCV\n",
        "\n",
        "clf = KNeighborsClassifier()\n",
        "n_components = [5,10,15,20]\n",
        "n_neighbors  = [ 3,4,5,6,7,8,9]\n",
        "weights  = ['uniform','distance']\n",
        "metric=['minkowski','manhattan','euclidean']\n",
        "pipe = Pipeline(steps=[('scalar',sc),('selector', pca), ('classifier', clf)])\n",
        "estimator = GridSearchCV(pipe,\n",
        "                         dict(selector__n_components=n_components,\n",
        "                              classifier__n_neighbors=n_neighbors,classifier__weights=weights,classifier__metric=metric),cv=5,n_jobs=-1,iid=False) \n",
        "\n",
        "results = estimator.fit(X,y)\n",
        "print(results.best_score_ )\n",
        "results.best_params_"
      ],
      "execution_count": 82,
      "outputs": [
        {
          "output_type": "stream",
          "text": [
            "0.7\n"
          ],
          "name": "stdout"
        },
        {
          "output_type": "execute_result",
          "data": {
            "text/plain": [
              "{'classifier__metric': 'minkowski',\n",
              " 'classifier__n_neighbors': 5,\n",
              " 'classifier__weights': 'distance',\n",
              " 'selector__n_components': 20}"
            ]
          },
          "metadata": {
            "tags": []
          },
          "execution_count": 82
        }
      ]
    },
    {
      "cell_type": "markdown",
      "metadata": {
        "id": "34K17oX2kI3Z",
        "colab_type": "text"
      },
      "source": [
        "# RFE"
      ]
    },
    {
      "cell_type": "code",
      "metadata": {
        "id": "Effk-fW1km3b",
        "colab_type": "code",
        "colab": {}
      },
      "source": [
        "from sklearn.feature_selection import RFE\n"
      ],
      "execution_count": 0,
      "outputs": []
    },
    {
      "cell_type": "code",
      "metadata": {
        "id": "X3joTTYvkPfz",
        "colab_type": "code",
        "colab": {}
      },
      "source": [
        "\n",
        "clf = SVC(kernel='rbf')\n",
        "rfe=RFE(SVC(kernel='linear'),n_features_to_select=10,step=2,verbose=0)   \n",
        "\n",
        "#pipeline = Pipeline([('selector',rfe), ('estimator', clf)])\n",
        "pipeline = Pipeline([('transformer', sc),('selector',rfe), ('estimator', clf)])\n"
      ],
      "execution_count": 0,
      "outputs": []
    },
    {
      "cell_type": "code",
      "metadata": {
        "id": "S37vDSnpkpi-",
        "colab_type": "code",
        "colab": {
          "base_uri": "https://localhost:8080/",
          "height": 753
        },
        "outputId": "e3488731-8bc0-40de-9d96-75abf5e48207"
      },
      "source": [
        "\n",
        "import warnings\n",
        "warnings.simplefilter(action='ignore', category=FutureWarning)\n",
        "\n",
        "accuracy_rfe=[]\n",
        "std_rfe=[]\n",
        "f1_scores=[]\n",
        "f1_scores_std=[]\n",
        "for clfs in classifiers:\n",
        "    pipeline.set_params(estimator = clfs)\n",
        "    name = clfs.__class__.__name__\n",
        "    \n",
        "    print(\"=\"*30)\n",
        "    print(name)       \n",
        "    print('****Results****')\n",
        "    scores = cross_val_score(pipeline, X, y, cv=5)\n",
        "    #f1_score = cross_val_score(clf, X_rfe, y, cv=5,scoring='f1')\n",
        "    print(\"Accuracy: {:.4%}\".format(np.array(scores).mean()))\n",
        "    accuracy_rfe.append(np.array(scores).mean())\n",
        "    std_rfe.append(np.array(scores).std())\n",
        "    #f1_scores.append(np.array(f1_score).mean())\n",
        "    #f1_scores_std.append(np.array(f1_score).std())\n"
      ],
      "execution_count": 85,
      "outputs": [
        {
          "output_type": "stream",
          "text": [
            "==============================\n",
            "KNeighborsClassifier\n",
            "****Results****\n",
            "Accuracy: 65.0000%\n",
            "==============================\n",
            "SVC\n",
            "****Results****\n",
            "Accuracy: 63.3333%\n",
            "==============================\n",
            "NuSVC\n",
            "****Results****\n",
            "Accuracy: 53.3333%\n",
            "==============================\n",
            "DecisionTreeClassifier\n",
            "****Results****\n",
            "Accuracy: 66.6667%\n",
            "==============================\n",
            "RandomForestClassifier\n",
            "****Results****\n",
            "Accuracy: 68.3333%\n",
            "==============================\n",
            "AdaBoostClassifier\n",
            "****Results****\n",
            "Accuracy: 58.3333%\n",
            "==============================\n",
            "GradientBoostingClassifier\n",
            "****Results****\n",
            "Accuracy: 60.0000%\n",
            "==============================\n",
            "GaussianNB\n",
            "****Results****\n",
            "Accuracy: 58.3333%\n",
            "==============================\n",
            "LinearDiscriminantAnalysis\n",
            "****Results****\n",
            "Accuracy: 63.3333%\n",
            "==============================\n",
            "QuadraticDiscriminantAnalysis\n",
            "****Results****\n",
            "Accuracy: 56.6667%\n",
            "==============================\n",
            "LogisticRegression\n",
            "****Results****\n",
            "Accuracy: 60.0000%\n"
          ],
          "name": "stdout"
        }
      ]
    },
    {
      "cell_type": "markdown",
      "metadata": {
        "id": "v5yNkL4arI5Z",
        "colab_type": "text"
      },
      "source": [
        "# SKbest"
      ]
    },
    {
      "cell_type": "code",
      "metadata": {
        "id": "-5wEC_ForKGR",
        "colab_type": "code",
        "colab": {}
      },
      "source": [
        "from sklearn.feature_selection import SelectKBest\n",
        "from sklearn.feature_selection import f_classif\n"
      ],
      "execution_count": 0,
      "outputs": []
    },
    {
      "cell_type": "code",
      "metadata": {
        "colab_type": "code",
        "id": "r5vNJstWrtCD",
        "colab": {}
      },
      "source": [
        "\n",
        "clf = SVC(kernel='rbf')\n",
        "skbest=SelectKBest(f_classif, k=10)\n",
        "#pipeline = Pipeline([('selector',skbest), ('estimator', clf)])\n",
        "pipeline = Pipeline([('transformer', sc),('selector',rfe), ('estimator', clf)])\n"
      ],
      "execution_count": 0,
      "outputs": []
    },
    {
      "cell_type": "code",
      "metadata": {
        "colab_type": "code",
        "id": "4VS9cTTirtCH",
        "colab": {
          "base_uri": "https://localhost:8080/",
          "height": 753
        },
        "outputId": "073a277a-65fc-41c7-b90a-0d9de1b51b55"
      },
      "source": [
        "\n",
        "import warnings\n",
        "warnings.simplefilter(action='ignore', category=FutureWarning)\n",
        "\n",
        "accuracy_kbest=[]\n",
        "std_kbest=[]\n",
        "f1_scores=[]\n",
        "f1_scores_std=[]\n",
        "for clfs in classifiers:\n",
        "    pipeline.set_params(estimator = clfs)\n",
        "    name = clfs.__class__.__name__\n",
        "    \n",
        "    print(\"=\"*30)\n",
        "    print(name)       \n",
        "    print('****Results****')\n",
        "    scores = cross_val_score(pipeline, X, y, cv=5)\n",
        "    #f1_score = cross_val_score(clf, X_rfe, y, cv=5,scoring='f1')\n",
        "    print(\"Accuracy: {:.4%}\".format(np.array(scores).mean()))\n",
        "    accuracy_kbest.append(np.array(scores).mean())\n",
        "    std_kbest.append(np.array(scores).std())\n",
        "    #f1_scores.append(np.array(f1_score).mean())\n",
        "    #f1_scores_std.append(np.array(f1_score).std())\n"
      ],
      "execution_count": 88,
      "outputs": [
        {
          "output_type": "stream",
          "text": [
            "==============================\n",
            "KNeighborsClassifier\n",
            "****Results****\n",
            "Accuracy: 65.0000%\n",
            "==============================\n",
            "SVC\n",
            "****Results****\n",
            "Accuracy: 63.3333%\n",
            "==============================\n",
            "NuSVC\n",
            "****Results****\n",
            "Accuracy: 53.3333%\n",
            "==============================\n",
            "DecisionTreeClassifier\n",
            "****Results****\n",
            "Accuracy: 63.3333%\n",
            "==============================\n",
            "RandomForestClassifier\n",
            "****Results****\n",
            "Accuracy: 56.6667%\n",
            "==============================\n",
            "AdaBoostClassifier\n",
            "****Results****\n",
            "Accuracy: 58.3333%\n",
            "==============================\n",
            "GradientBoostingClassifier\n",
            "****Results****\n",
            "Accuracy: 60.0000%\n",
            "==============================\n",
            "GaussianNB\n",
            "****Results****\n",
            "Accuracy: 58.3333%\n",
            "==============================\n",
            "LinearDiscriminantAnalysis\n",
            "****Results****\n",
            "Accuracy: 63.3333%\n",
            "==============================\n",
            "QuadraticDiscriminantAnalysis\n",
            "****Results****\n",
            "Accuracy: 56.6667%\n",
            "==============================\n",
            "LogisticRegression\n",
            "****Results****\n",
            "Accuracy: 56.6667%\n"
          ],
          "name": "stdout"
        }
      ]
    },
    {
      "cell_type": "code",
      "metadata": {
        "id": "Wbl3_Cs9rnNh",
        "colab_type": "code",
        "colab": {}
      },
      "source": [
        ""
      ],
      "execution_count": 0,
      "outputs": []
    },
    {
      "cell_type": "markdown",
      "metadata": {
        "id": "N40_Zc8nsiU3",
        "colab_type": "text"
      },
      "source": [
        "# VarianceThreshold"
      ]
    },
    {
      "cell_type": "code",
      "metadata": {
        "colab_type": "code",
        "id": "hqPon3DushYn",
        "colab": {}
      },
      "source": [
        "from sklearn.feature_selection import VarianceThreshold\n",
        "clf = SVC(kernel='rbf')\n",
        "selector = VarianceThreshold(0.05)\n",
        "#pipeline = Pipeline([('selector',algo), ('estimator', clf)])\n",
        "pipeline = Pipeline([('transformer', sc),('selector',selector), ('estimator', clf)])\n"
      ],
      "execution_count": 0,
      "outputs": []
    },
    {
      "cell_type": "code",
      "metadata": {
        "colab_type": "code",
        "id": "zH6sK58CshYp",
        "colab": {
          "base_uri": "https://localhost:8080/",
          "height": 753
        },
        "outputId": "0d29a2d5-d373-4c8d-a23c-f376ae04176d"
      },
      "source": [
        "\n",
        "import warnings\n",
        "warnings.simplefilter(action='ignore', category=FutureWarning)\n",
        "\n",
        "accuracy_var=[]\n",
        "std_var=[]\n",
        "f1_scores=[]\n",
        "f1_scores_std=[]\n",
        "for clfs in classifiers:\n",
        "    pipeline.set_params(estimator = clfs)\n",
        "    name = clfs.__class__.__name__\n",
        "    \n",
        "    print(\"=\"*30)\n",
        "    print(name)       \n",
        "    print('****Results****')\n",
        "    scores = cross_val_score(pipeline, X, y, cv=5)\n",
        "    #f1_score = cross_val_score(clf, X_rfe, y, cv=5,scoring='f1')\n",
        "    print(\"Accuracy: {:.4%}\".format(np.array(scores).mean()))\n",
        "    accuracy_var.append(np.array(scores).mean())\n",
        "    std_var.append(np.array(scores).std())\n",
        "    #f1_scores.append(np.array(f1_score).mean())\n",
        "    #f1_scores_std.append(np.array(f1_score).std())\n"
      ],
      "execution_count": 90,
      "outputs": [
        {
          "output_type": "stream",
          "text": [
            "==============================\n",
            "KNeighborsClassifier\n",
            "****Results****\n",
            "Accuracy: 71.6667%\n",
            "==============================\n",
            "SVC\n",
            "****Results****\n",
            "Accuracy: 86.6667%\n",
            "==============================\n",
            "NuSVC\n",
            "****Results****\n",
            "Accuracy: 86.6667%\n",
            "==============================\n",
            "DecisionTreeClassifier\n",
            "****Results****\n",
            "Accuracy: 68.3333%\n",
            "==============================\n",
            "RandomForestClassifier\n",
            "****Results****\n",
            "Accuracy: 70.0000%\n",
            "==============================\n",
            "AdaBoostClassifier\n",
            "****Results****\n",
            "Accuracy: 66.6667%\n",
            "==============================\n",
            "GradientBoostingClassifier\n",
            "****Results****\n",
            "Accuracy: 68.3333%\n",
            "==============================\n",
            "GaussianNB\n",
            "****Results****\n",
            "Accuracy: 58.3333%\n",
            "==============================\n",
            "LinearDiscriminantAnalysis\n",
            "****Results****\n",
            "Accuracy: 68.3333%\n",
            "==============================\n",
            "QuadraticDiscriminantAnalysis\n",
            "****Results****\n",
            "Accuracy: 53.3333%\n",
            "==============================\n",
            "LogisticRegression\n",
            "****Results****\n",
            "Accuracy: 71.6667%\n"
          ],
          "name": "stdout"
        }
      ]
    },
    {
      "cell_type": "code",
      "metadata": {
        "id": "9L27jyvR7xEb",
        "colab_type": "code",
        "colab": {}
      },
      "source": [
        "# from sklearn.model_selection import GridSearchCV\n",
        "\n",
        "# clf = SVC(kernel=\"rbf\")\n",
        "# threshold = [0.05,0.1,0.2,0.3,0.4,0.5,0.6,0.7,0.8,0.9]\n",
        "# Cs = [0.001,0.1, 1,2,3,5,7,10,15,30]\n",
        "# gammas = [0.001,0.01,0.02,0.03,0.04,0.05,0.1,0.3,0.5,0.8,1]\n",
        "# pipe = Pipeline(steps=[('scalar',sc),('selector', selector), ('classifier', clf)])\n",
        "# estimator = GridSearchCV(pipe,\n",
        "#                          dict(selector__threshold=threshold,\n",
        "#                               classifier__C=Cs,classifier__gamma=gammas),cv=5,n_jobs=-1,iid=False) \n",
        "\n",
        "# results = estimator.fit(X,y)\n",
        "# results.best_params_"
      ],
      "execution_count": 0,
      "outputs": []
    },
    {
      "cell_type": "markdown",
      "metadata": {
        "id": "utsqZIs_qvKn",
        "colab_type": "text"
      },
      "source": [
        "# Result"
      ]
    },
    {
      "cell_type": "code",
      "metadata": {
        "id": "X9-EzT5grnQp",
        "colab_type": "code",
        "colab": {
          "base_uri": "https://localhost:8080/",
          "height": 33
        },
        "outputId": "8bdef7f6-e8de-4a9b-dfeb-c55c4bb0c53e"
      },
      "source": [
        "len(accuracy),len(accuracy_pca),len(accuracy_rfe),len(accuracy_kbest),len(accuracy_var)"
      ],
      "execution_count": 92,
      "outputs": [
        {
          "output_type": "execute_result",
          "data": {
            "text/plain": [
              "(11, 11, 11, 11, 11)"
            ]
          },
          "metadata": {
            "tags": []
          },
          "execution_count": 92
        }
      ]
    },
    {
      "cell_type": "code",
      "metadata": {
        "id": "mtlBCPBtZjDm",
        "colab_type": "code",
        "colab": {}
      },
      "source": [
        "result=pd.DataFrame([accuracy,accuracy_pca,accuracy_rfe,accuracy_kbest,accuracy_var],\n",
        "                    index=['Accuracy','PCA',\"RFE\",'kbest','VAR'],\n",
        "                    columns=['KNN','SVC','nuSCV','DT','RF','Ada','GB','NB','LDA','QDA','LR'])"
      ],
      "execution_count": 0,
      "outputs": []
    },
    {
      "cell_type": "code",
      "metadata": {
        "id": "oDxtmxamaD9y",
        "colab_type": "code",
        "colab": {}
      },
      "source": [
        "result=result.T"
      ],
      "execution_count": 0,
      "outputs": []
    },
    {
      "cell_type": "code",
      "metadata": {
        "id": "H2iNzVqt8m7j",
        "colab_type": "code",
        "colab": {
          "base_uri": "https://localhost:8080/",
          "height": 254
        },
        "outputId": "cb310634-a73d-4186-d783-1769e280206d"
      },
      "source": [
        "\n",
        "def _color_red_or_green(val):\n",
        "    color = 'red' if val < 0.7 else 'green'\n",
        "    return 'color: %s' % color\n",
        "result.style.applymap(_color_red_or_green)"
      ],
      "execution_count": 95,
      "outputs": [
        {
          "output_type": "execute_result",
          "data": {
            "text/html": [
              "<style  type=\"text/css\" >\n",
              "    #T_73c3a8f8_0a0e_11ea_a76a_0242ac1c0002row0_col0 {\n",
              "            color:  green;\n",
              "        }    #T_73c3a8f8_0a0e_11ea_a76a_0242ac1c0002row0_col1 {\n",
              "            color:  red;\n",
              "        }    #T_73c3a8f8_0a0e_11ea_a76a_0242ac1c0002row0_col2 {\n",
              "            color:  red;\n",
              "        }    #T_73c3a8f8_0a0e_11ea_a76a_0242ac1c0002row0_col3 {\n",
              "            color:  red;\n",
              "        }    #T_73c3a8f8_0a0e_11ea_a76a_0242ac1c0002row0_col4 {\n",
              "            color:  green;\n",
              "        }    #T_73c3a8f8_0a0e_11ea_a76a_0242ac1c0002row1_col0 {\n",
              "            color:  green;\n",
              "        }    #T_73c3a8f8_0a0e_11ea_a76a_0242ac1c0002row1_col1 {\n",
              "            color:  red;\n",
              "        }    #T_73c3a8f8_0a0e_11ea_a76a_0242ac1c0002row1_col2 {\n",
              "            color:  red;\n",
              "        }    #T_73c3a8f8_0a0e_11ea_a76a_0242ac1c0002row1_col3 {\n",
              "            color:  red;\n",
              "        }    #T_73c3a8f8_0a0e_11ea_a76a_0242ac1c0002row1_col4 {\n",
              "            color:  green;\n",
              "        }    #T_73c3a8f8_0a0e_11ea_a76a_0242ac1c0002row2_col0 {\n",
              "            color:  green;\n",
              "        }    #T_73c3a8f8_0a0e_11ea_a76a_0242ac1c0002row2_col1 {\n",
              "            color:  red;\n",
              "        }    #T_73c3a8f8_0a0e_11ea_a76a_0242ac1c0002row2_col2 {\n",
              "            color:  red;\n",
              "        }    #T_73c3a8f8_0a0e_11ea_a76a_0242ac1c0002row2_col3 {\n",
              "            color:  red;\n",
              "        }    #T_73c3a8f8_0a0e_11ea_a76a_0242ac1c0002row2_col4 {\n",
              "            color:  green;\n",
              "        }    #T_73c3a8f8_0a0e_11ea_a76a_0242ac1c0002row3_col0 {\n",
              "            color:  red;\n",
              "        }    #T_73c3a8f8_0a0e_11ea_a76a_0242ac1c0002row3_col1 {\n",
              "            color:  red;\n",
              "        }    #T_73c3a8f8_0a0e_11ea_a76a_0242ac1c0002row3_col2 {\n",
              "            color:  red;\n",
              "        }    #T_73c3a8f8_0a0e_11ea_a76a_0242ac1c0002row3_col3 {\n",
              "            color:  red;\n",
              "        }    #T_73c3a8f8_0a0e_11ea_a76a_0242ac1c0002row3_col4 {\n",
              "            color:  red;\n",
              "        }    #T_73c3a8f8_0a0e_11ea_a76a_0242ac1c0002row4_col0 {\n",
              "            color:  green;\n",
              "        }    #T_73c3a8f8_0a0e_11ea_a76a_0242ac1c0002row4_col1 {\n",
              "            color:  red;\n",
              "        }    #T_73c3a8f8_0a0e_11ea_a76a_0242ac1c0002row4_col2 {\n",
              "            color:  red;\n",
              "        }    #T_73c3a8f8_0a0e_11ea_a76a_0242ac1c0002row4_col3 {\n",
              "            color:  red;\n",
              "        }    #T_73c3a8f8_0a0e_11ea_a76a_0242ac1c0002row4_col4 {\n",
              "            color:  green;\n",
              "        }    #T_73c3a8f8_0a0e_11ea_a76a_0242ac1c0002row5_col0 {\n",
              "            color:  green;\n",
              "        }    #T_73c3a8f8_0a0e_11ea_a76a_0242ac1c0002row5_col1 {\n",
              "            color:  red;\n",
              "        }    #T_73c3a8f8_0a0e_11ea_a76a_0242ac1c0002row5_col2 {\n",
              "            color:  red;\n",
              "        }    #T_73c3a8f8_0a0e_11ea_a76a_0242ac1c0002row5_col3 {\n",
              "            color:  red;\n",
              "        }    #T_73c3a8f8_0a0e_11ea_a76a_0242ac1c0002row5_col4 {\n",
              "            color:  red;\n",
              "        }    #T_73c3a8f8_0a0e_11ea_a76a_0242ac1c0002row6_col0 {\n",
              "            color:  red;\n",
              "        }    #T_73c3a8f8_0a0e_11ea_a76a_0242ac1c0002row6_col1 {\n",
              "            color:  red;\n",
              "        }    #T_73c3a8f8_0a0e_11ea_a76a_0242ac1c0002row6_col2 {\n",
              "            color:  red;\n",
              "        }    #T_73c3a8f8_0a0e_11ea_a76a_0242ac1c0002row6_col3 {\n",
              "            color:  red;\n",
              "        }    #T_73c3a8f8_0a0e_11ea_a76a_0242ac1c0002row6_col4 {\n",
              "            color:  red;\n",
              "        }    #T_73c3a8f8_0a0e_11ea_a76a_0242ac1c0002row7_col0 {\n",
              "            color:  red;\n",
              "        }    #T_73c3a8f8_0a0e_11ea_a76a_0242ac1c0002row7_col1 {\n",
              "            color:  red;\n",
              "        }    #T_73c3a8f8_0a0e_11ea_a76a_0242ac1c0002row7_col2 {\n",
              "            color:  red;\n",
              "        }    #T_73c3a8f8_0a0e_11ea_a76a_0242ac1c0002row7_col3 {\n",
              "            color:  red;\n",
              "        }    #T_73c3a8f8_0a0e_11ea_a76a_0242ac1c0002row7_col4 {\n",
              "            color:  red;\n",
              "        }    #T_73c3a8f8_0a0e_11ea_a76a_0242ac1c0002row8_col0 {\n",
              "            color:  red;\n",
              "        }    #T_73c3a8f8_0a0e_11ea_a76a_0242ac1c0002row8_col1 {\n",
              "            color:  red;\n",
              "        }    #T_73c3a8f8_0a0e_11ea_a76a_0242ac1c0002row8_col2 {\n",
              "            color:  red;\n",
              "        }    #T_73c3a8f8_0a0e_11ea_a76a_0242ac1c0002row8_col3 {\n",
              "            color:  red;\n",
              "        }    #T_73c3a8f8_0a0e_11ea_a76a_0242ac1c0002row8_col4 {\n",
              "            color:  red;\n",
              "        }    #T_73c3a8f8_0a0e_11ea_a76a_0242ac1c0002row9_col0 {\n",
              "            color:  red;\n",
              "        }    #T_73c3a8f8_0a0e_11ea_a76a_0242ac1c0002row9_col1 {\n",
              "            color:  red;\n",
              "        }    #T_73c3a8f8_0a0e_11ea_a76a_0242ac1c0002row9_col2 {\n",
              "            color:  red;\n",
              "        }    #T_73c3a8f8_0a0e_11ea_a76a_0242ac1c0002row9_col3 {\n",
              "            color:  red;\n",
              "        }    #T_73c3a8f8_0a0e_11ea_a76a_0242ac1c0002row9_col4 {\n",
              "            color:  red;\n",
              "        }    #T_73c3a8f8_0a0e_11ea_a76a_0242ac1c0002row10_col0 {\n",
              "            color:  red;\n",
              "        }    #T_73c3a8f8_0a0e_11ea_a76a_0242ac1c0002row10_col1 {\n",
              "            color:  red;\n",
              "        }    #T_73c3a8f8_0a0e_11ea_a76a_0242ac1c0002row10_col2 {\n",
              "            color:  red;\n",
              "        }    #T_73c3a8f8_0a0e_11ea_a76a_0242ac1c0002row10_col3 {\n",
              "            color:  red;\n",
              "        }    #T_73c3a8f8_0a0e_11ea_a76a_0242ac1c0002row10_col4 {\n",
              "            color:  green;\n",
              "        }</style><table id=\"T_73c3a8f8_0a0e_11ea_a76a_0242ac1c0002\" ><thead>    <tr>        <th class=\"blank level0\" ></th>        <th class=\"col_heading level0 col0\" >Accuracy</th>        <th class=\"col_heading level0 col1\" >PCA</th>        <th class=\"col_heading level0 col2\" >RFE</th>        <th class=\"col_heading level0 col3\" >kbest</th>        <th class=\"col_heading level0 col4\" >VAR</th>    </tr></thead><tbody>\n",
              "                <tr>\n",
              "                        <th id=\"T_73c3a8f8_0a0e_11ea_a76a_0242ac1c0002level0_row0\" class=\"row_heading level0 row0\" >KNN</th>\n",
              "                        <td id=\"T_73c3a8f8_0a0e_11ea_a76a_0242ac1c0002row0_col0\" class=\"data row0 col0\" >0.716667</td>\n",
              "                        <td id=\"T_73c3a8f8_0a0e_11ea_a76a_0242ac1c0002row0_col1\" class=\"data row0 col1\" >0.533333</td>\n",
              "                        <td id=\"T_73c3a8f8_0a0e_11ea_a76a_0242ac1c0002row0_col2\" class=\"data row0 col2\" >0.65</td>\n",
              "                        <td id=\"T_73c3a8f8_0a0e_11ea_a76a_0242ac1c0002row0_col3\" class=\"data row0 col3\" >0.65</td>\n",
              "                        <td id=\"T_73c3a8f8_0a0e_11ea_a76a_0242ac1c0002row0_col4\" class=\"data row0 col4\" >0.716667</td>\n",
              "            </tr>\n",
              "            <tr>\n",
              "                        <th id=\"T_73c3a8f8_0a0e_11ea_a76a_0242ac1c0002level0_row1\" class=\"row_heading level0 row1\" >SVC</th>\n",
              "                        <td id=\"T_73c3a8f8_0a0e_11ea_a76a_0242ac1c0002row1_col0\" class=\"data row1 col0\" >0.866667</td>\n",
              "                        <td id=\"T_73c3a8f8_0a0e_11ea_a76a_0242ac1c0002row1_col1\" class=\"data row1 col1\" >0.6</td>\n",
              "                        <td id=\"T_73c3a8f8_0a0e_11ea_a76a_0242ac1c0002row1_col2\" class=\"data row1 col2\" >0.633333</td>\n",
              "                        <td id=\"T_73c3a8f8_0a0e_11ea_a76a_0242ac1c0002row1_col3\" class=\"data row1 col3\" >0.633333</td>\n",
              "                        <td id=\"T_73c3a8f8_0a0e_11ea_a76a_0242ac1c0002row1_col4\" class=\"data row1 col4\" >0.866667</td>\n",
              "            </tr>\n",
              "            <tr>\n",
              "                        <th id=\"T_73c3a8f8_0a0e_11ea_a76a_0242ac1c0002level0_row2\" class=\"row_heading level0 row2\" >nuSCV</th>\n",
              "                        <td id=\"T_73c3a8f8_0a0e_11ea_a76a_0242ac1c0002row2_col0\" class=\"data row2 col0\" >0.866667</td>\n",
              "                        <td id=\"T_73c3a8f8_0a0e_11ea_a76a_0242ac1c0002row2_col1\" class=\"data row2 col1\" >0.666667</td>\n",
              "                        <td id=\"T_73c3a8f8_0a0e_11ea_a76a_0242ac1c0002row2_col2\" class=\"data row2 col2\" >0.533333</td>\n",
              "                        <td id=\"T_73c3a8f8_0a0e_11ea_a76a_0242ac1c0002row2_col3\" class=\"data row2 col3\" >0.533333</td>\n",
              "                        <td id=\"T_73c3a8f8_0a0e_11ea_a76a_0242ac1c0002row2_col4\" class=\"data row2 col4\" >0.866667</td>\n",
              "            </tr>\n",
              "            <tr>\n",
              "                        <th id=\"T_73c3a8f8_0a0e_11ea_a76a_0242ac1c0002level0_row3\" class=\"row_heading level0 row3\" >DT</th>\n",
              "                        <td id=\"T_73c3a8f8_0a0e_11ea_a76a_0242ac1c0002row3_col0\" class=\"data row3 col0\" >0.616667</td>\n",
              "                        <td id=\"T_73c3a8f8_0a0e_11ea_a76a_0242ac1c0002row3_col1\" class=\"data row3 col1\" >0.466667</td>\n",
              "                        <td id=\"T_73c3a8f8_0a0e_11ea_a76a_0242ac1c0002row3_col2\" class=\"data row3 col2\" >0.666667</td>\n",
              "                        <td id=\"T_73c3a8f8_0a0e_11ea_a76a_0242ac1c0002row3_col3\" class=\"data row3 col3\" >0.633333</td>\n",
              "                        <td id=\"T_73c3a8f8_0a0e_11ea_a76a_0242ac1c0002row3_col4\" class=\"data row3 col4\" >0.683333</td>\n",
              "            </tr>\n",
              "            <tr>\n",
              "                        <th id=\"T_73c3a8f8_0a0e_11ea_a76a_0242ac1c0002level0_row4\" class=\"row_heading level0 row4\" >RF</th>\n",
              "                        <td id=\"T_73c3a8f8_0a0e_11ea_a76a_0242ac1c0002row4_col0\" class=\"data row4 col0\" >0.716667</td>\n",
              "                        <td id=\"T_73c3a8f8_0a0e_11ea_a76a_0242ac1c0002row4_col1\" class=\"data row4 col1\" >0.5</td>\n",
              "                        <td id=\"T_73c3a8f8_0a0e_11ea_a76a_0242ac1c0002row4_col2\" class=\"data row4 col2\" >0.683333</td>\n",
              "                        <td id=\"T_73c3a8f8_0a0e_11ea_a76a_0242ac1c0002row4_col3\" class=\"data row4 col3\" >0.566667</td>\n",
              "                        <td id=\"T_73c3a8f8_0a0e_11ea_a76a_0242ac1c0002row4_col4\" class=\"data row4 col4\" >0.7</td>\n",
              "            </tr>\n",
              "            <tr>\n",
              "                        <th id=\"T_73c3a8f8_0a0e_11ea_a76a_0242ac1c0002level0_row5\" class=\"row_heading level0 row5\" >Ada</th>\n",
              "                        <td id=\"T_73c3a8f8_0a0e_11ea_a76a_0242ac1c0002row5_col0\" class=\"data row5 col0\" >0.7</td>\n",
              "                        <td id=\"T_73c3a8f8_0a0e_11ea_a76a_0242ac1c0002row5_col1\" class=\"data row5 col1\" >0.6</td>\n",
              "                        <td id=\"T_73c3a8f8_0a0e_11ea_a76a_0242ac1c0002row5_col2\" class=\"data row5 col2\" >0.583333</td>\n",
              "                        <td id=\"T_73c3a8f8_0a0e_11ea_a76a_0242ac1c0002row5_col3\" class=\"data row5 col3\" >0.583333</td>\n",
              "                        <td id=\"T_73c3a8f8_0a0e_11ea_a76a_0242ac1c0002row5_col4\" class=\"data row5 col4\" >0.666667</td>\n",
              "            </tr>\n",
              "            <tr>\n",
              "                        <th id=\"T_73c3a8f8_0a0e_11ea_a76a_0242ac1c0002level0_row6\" class=\"row_heading level0 row6\" >GB</th>\n",
              "                        <td id=\"T_73c3a8f8_0a0e_11ea_a76a_0242ac1c0002row6_col0\" class=\"data row6 col0\" >0.683333</td>\n",
              "                        <td id=\"T_73c3a8f8_0a0e_11ea_a76a_0242ac1c0002row6_col1\" class=\"data row6 col1\" >0.5</td>\n",
              "                        <td id=\"T_73c3a8f8_0a0e_11ea_a76a_0242ac1c0002row6_col2\" class=\"data row6 col2\" >0.6</td>\n",
              "                        <td id=\"T_73c3a8f8_0a0e_11ea_a76a_0242ac1c0002row6_col3\" class=\"data row6 col3\" >0.6</td>\n",
              "                        <td id=\"T_73c3a8f8_0a0e_11ea_a76a_0242ac1c0002row6_col4\" class=\"data row6 col4\" >0.683333</td>\n",
              "            </tr>\n",
              "            <tr>\n",
              "                        <th id=\"T_73c3a8f8_0a0e_11ea_a76a_0242ac1c0002level0_row7\" class=\"row_heading level0 row7\" >NB</th>\n",
              "                        <td id=\"T_73c3a8f8_0a0e_11ea_a76a_0242ac1c0002row7_col0\" class=\"data row7 col0\" >0.583333</td>\n",
              "                        <td id=\"T_73c3a8f8_0a0e_11ea_a76a_0242ac1c0002row7_col1\" class=\"data row7 col1\" >0.666667</td>\n",
              "                        <td id=\"T_73c3a8f8_0a0e_11ea_a76a_0242ac1c0002row7_col2\" class=\"data row7 col2\" >0.583333</td>\n",
              "                        <td id=\"T_73c3a8f8_0a0e_11ea_a76a_0242ac1c0002row7_col3\" class=\"data row7 col3\" >0.583333</td>\n",
              "                        <td id=\"T_73c3a8f8_0a0e_11ea_a76a_0242ac1c0002row7_col4\" class=\"data row7 col4\" >0.583333</td>\n",
              "            </tr>\n",
              "            <tr>\n",
              "                        <th id=\"T_73c3a8f8_0a0e_11ea_a76a_0242ac1c0002level0_row8\" class=\"row_heading level0 row8\" >LDA</th>\n",
              "                        <td id=\"T_73c3a8f8_0a0e_11ea_a76a_0242ac1c0002row8_col0\" class=\"data row8 col0\" >0.683333</td>\n",
              "                        <td id=\"T_73c3a8f8_0a0e_11ea_a76a_0242ac1c0002row8_col1\" class=\"data row8 col1\" >0.516667</td>\n",
              "                        <td id=\"T_73c3a8f8_0a0e_11ea_a76a_0242ac1c0002row8_col2\" class=\"data row8 col2\" >0.633333</td>\n",
              "                        <td id=\"T_73c3a8f8_0a0e_11ea_a76a_0242ac1c0002row8_col3\" class=\"data row8 col3\" >0.633333</td>\n",
              "                        <td id=\"T_73c3a8f8_0a0e_11ea_a76a_0242ac1c0002row8_col4\" class=\"data row8 col4\" >0.683333</td>\n",
              "            </tr>\n",
              "            <tr>\n",
              "                        <th id=\"T_73c3a8f8_0a0e_11ea_a76a_0242ac1c0002level0_row9\" class=\"row_heading level0 row9\" >QDA</th>\n",
              "                        <td id=\"T_73c3a8f8_0a0e_11ea_a76a_0242ac1c0002row9_col0\" class=\"data row9 col0\" >0.533333</td>\n",
              "                        <td id=\"T_73c3a8f8_0a0e_11ea_a76a_0242ac1c0002row9_col1\" class=\"data row9 col1\" >0.566667</td>\n",
              "                        <td id=\"T_73c3a8f8_0a0e_11ea_a76a_0242ac1c0002row9_col2\" class=\"data row9 col2\" >0.566667</td>\n",
              "                        <td id=\"T_73c3a8f8_0a0e_11ea_a76a_0242ac1c0002row9_col3\" class=\"data row9 col3\" >0.566667</td>\n",
              "                        <td id=\"T_73c3a8f8_0a0e_11ea_a76a_0242ac1c0002row9_col4\" class=\"data row9 col4\" >0.533333</td>\n",
              "            </tr>\n",
              "            <tr>\n",
              "                        <th id=\"T_73c3a8f8_0a0e_11ea_a76a_0242ac1c0002level0_row10\" class=\"row_heading level0 row10\" >LR</th>\n",
              "                        <td id=\"T_73c3a8f8_0a0e_11ea_a76a_0242ac1c0002row10_col0\" class=\"data row10 col0\" >0.683333</td>\n",
              "                        <td id=\"T_73c3a8f8_0a0e_11ea_a76a_0242ac1c0002row10_col1\" class=\"data row10 col1\" >0.6</td>\n",
              "                        <td id=\"T_73c3a8f8_0a0e_11ea_a76a_0242ac1c0002row10_col2\" class=\"data row10 col2\" >0.6</td>\n",
              "                        <td id=\"T_73c3a8f8_0a0e_11ea_a76a_0242ac1c0002row10_col3\" class=\"data row10 col3\" >0.566667</td>\n",
              "                        <td id=\"T_73c3a8f8_0a0e_11ea_a76a_0242ac1c0002row10_col4\" class=\"data row10 col4\" >0.716667</td>\n",
              "            </tr>\n",
              "    </tbody></table>"
            ],
            "text/plain": [
              "<pandas.io.formats.style.Styler at 0x7fd5eb3c5ef0>"
            ]
          },
          "metadata": {
            "tags": []
          },
          "execution_count": 95
        }
      ]
    },
    {
      "cell_type": "code",
      "metadata": {
        "id": "0-IOzjP1bGBu",
        "colab_type": "code",
        "colab": {}
      },
      "source": [
        ""
      ],
      "execution_count": 0,
      "outputs": []
    }
  ]
}