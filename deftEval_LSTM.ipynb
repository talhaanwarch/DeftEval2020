{
  "nbformat": 4,
  "nbformat_minor": 0,
  "metadata": {
    "colab": {
      "name": "deftEval_LSTM",
      "provenance": [],
      "include_colab_link": true
    },
    "kernelspec": {
      "name": "python3",
      "display_name": "Python 3"
    },
    "accelerator": "GPU"
  },
  "cells": [
    {
      "cell_type": "markdown",
      "metadata": {
        "id": "view-in-github",
        "colab_type": "text"
      },
      "source": [
        "<a href=\"https://colab.research.google.com/github/talhaanwarch/DeftEval2020/blob/master/deftEval_LSTM.ipynb\" target=\"_parent\"><img src=\"https://colab.research.google.com/assets/colab-badge.svg\" alt=\"Open In Colab\"/></a>"
      ]
    },
    {
      "cell_type": "code",
      "metadata": {
        "id": "KgPHqUe8EPRa",
        "colab_type": "code",
        "outputId": "635a50e0-fa6a-4b78-e935-9b9d7e696dce",
        "colab": {
          "base_uri": "https://localhost:8080/",
          "height": 34
        }
      },
      "source": [
        "from google.colab import drive\n",
        "drive.mount('/content/drive',force_remount=True)"
      ],
      "execution_count": 1,
      "outputs": [
        {
          "output_type": "stream",
          "text": [
            "Mounted at /content/drive\n"
          ],
          "name": "stdout"
        }
      ]
    },
    {
      "cell_type": "code",
      "metadata": {
        "id": "FTD5-JmVEUHL",
        "colab_type": "code",
        "outputId": "007835a6-eb9a-4155-9bc9-f4a8abd63cc4",
        "colab": {
          "base_uri": "https://localhost:8080/",
          "height": 34
        }
      },
      "source": [
        "cd /content/drive/My Drive/dataset/deft_eval"
      ],
      "execution_count": 2,
      "outputs": [
        {
          "output_type": "stream",
          "text": [
            "/content/drive/My Drive/dataset/deft_eval\n"
          ],
          "name": "stdout"
        }
      ]
    },
    {
      "cell_type": "code",
      "metadata": {
        "id": "Ow_fcOEPEhad",
        "colab_type": "code",
        "outputId": "ef44a628-9ae0-4fe8-d30c-cc4e15e330fb",
        "colab": {
          "base_uri": "https://localhost:8080/",
          "height": 34
        }
      },
      "source": [
        "ls"
      ],
      "execution_count": 3,
      "outputs": [
        {
          "output_type": "stream",
          "text": [
            "\u001b[0m\u001b[01;34mdev\u001b[0m/  \u001b[01;34mtrain\u001b[0m/\n"
          ],
          "name": "stdout"
        }
      ]
    },
    {
      "cell_type": "code",
      "metadata": {
        "id": "na4-p1JCELdJ",
        "colab_type": "code",
        "colab": {}
      },
      "source": [
        "import pandas as pd\n",
        "import glob\n",
        "import string\n",
        "import re\n",
        "import numpy as np"
      ],
      "execution_count": 0,
      "outputs": []
    },
    {
      "cell_type": "code",
      "metadata": {
        "id": "5ajqEqUUE5Fx",
        "colab_type": "code",
        "outputId": "42980a7c-c976-4061-eaf4-6126c70e2618",
        "colab": {
          "base_uri": "https://localhost:8080/",
          "height": 84
        }
      },
      "source": [
        "import nltk\n",
        "nltk.download('stopwords')\n",
        "nltk.download('wordnet')\n",
        "from nltk.stem import WordNetLemmatizer\n",
        "from nltk.corpus import stopwords\n",
        "stop_words = set(stopwords.words(\"english\")) \n",
        "lemmatizer = WordNetLemmatizer()\n"
      ],
      "execution_count": 5,
      "outputs": [
        {
          "output_type": "stream",
          "text": [
            "[nltk_data] Downloading package stopwords to /root/nltk_data...\n",
            "[nltk_data]   Package stopwords is already up-to-date!\n",
            "[nltk_data] Downloading package wordnet to /root/nltk_data...\n",
            "[nltk_data]   Package wordnet is already up-to-date!\n"
          ],
          "name": "stdout"
        }
      ]
    },
    {
      "cell_type": "code",
      "metadata": {
        "id": "WcFkqtraEQLu",
        "colab_type": "code",
        "colab": {}
      },
      "source": [
        "train_files = glob.glob('train/' + \"*.deft\")\n",
        "li = []\n",
        "for filename in train_files:\n",
        "    df = pd.read_csv(filename, sep='\\t',index_col=None, header=None,names=['sentence','label'])\n",
        "    li.append(df)\n",
        "\n",
        "frame = pd.concat(li, axis=0, ignore_index=True)\n",
        "y_train=frame['label']\n",
        "corpus_train = []\n",
        "for j in frame['sentence']:\n",
        "    df=j.lower()\n",
        "    df=df.translate(str.maketrans('', '', string.punctuation))\n",
        "    df=df.replace( 'link ','')\n",
        "    df=''.join([i for i in df if not i.isdigit()]) \n",
        "    df=\" \".join(df.split())\n",
        "    df = [lemmatizer.lemmatize(token) for token in df.split(\" \")]\n",
        "    df=[word for word in df if not word in stop_words]\n",
        "    df=\" \".join(df)\n",
        "    corpus_train.append(df)"
      ],
      "execution_count": 0,
      "outputs": []
    },
    {
      "cell_type": "code",
      "metadata": {
        "id": "hx272yuBFew0",
        "colab_type": "code",
        "outputId": "a6910653-1b61-4027-87aa-0012ec71d859",
        "colab": {
          "base_uri": "https://localhost:8080/",
          "height": 67
        }
      },
      "source": [
        "len(corpus_train),corpus_train[0],y_train[0]"
      ],
      "execution_count": 7,
      "outputs": [
        {
          "output_type": "execute_result",
          "data": {
            "text/plain": [
              "(16659,\n",
              " 'science includes diverse field astronomy biology computer science geology logic physic chemistry mathematics',\n",
              " 0)"
            ]
          },
          "metadata": {
            "tags": []
          },
          "execution_count": 7
        }
      ]
    },
    {
      "cell_type": "code",
      "metadata": {
        "id": "8dvF59TxEztB",
        "colab_type": "code",
        "colab": {}
      },
      "source": [
        "dev_files = glob.glob('dev/' + \"*.deft\")\n",
        "li = []\n",
        "for filename in dev_files:\n",
        "    df = pd.read_csv(filename, sep='\\t',index_col=None, header=None,names=['sentence','label'])\n",
        "    li.append(df)\n",
        "\n",
        "frame = pd.concat(li, axis=0, ignore_index=True)\n",
        "y_dev=frame['label']\n",
        "corpus_dev = []\n",
        "for j in frame['sentence']:\n",
        "    df=j.lower()\n",
        "    df=df.translate(str.maketrans('', '', string.punctuation))\n",
        "    df=df.replace( 'link ','')\n",
        "    df=''.join([i for i in df if not i.isdigit()]) \n",
        "    df=\" \".join(df.split())\n",
        "    df = [lemmatizer.lemmatize(token) for token in df.split(\" \")]\n",
        "    df=[word for word in df if not word in stop_words]\n",
        "    df=\" \".join(df)\n",
        "    corpus_dev.append(df)"
      ],
      "execution_count": 0,
      "outputs": []
    },
    {
      "cell_type": "code",
      "metadata": {
        "id": "HyvrnPA-Fozr",
        "colab_type": "code",
        "outputId": "6eda501c-a608-451f-c155-6ab7628b1620",
        "colab": {
          "base_uri": "https://localhost:8080/",
          "height": 67
        }
      },
      "source": [
        "len(corpus_dev),corpus_dev[0],y_dev[0]"
      ],
      "execution_count": 9,
      "outputs": [
        {
          "output_type": "execute_result",
          "data": {
            "text/plain": [
              "(810,\n",
              " 'becomes clear definition application scientific method play major role science',\n",
              " 0)"
            ]
          },
          "metadata": {
            "tags": []
          },
          "execution_count": 9
        }
      ]
    },
    {
      "cell_type": "code",
      "metadata": {
        "id": "TadFtX9hY2jz",
        "colab_type": "code",
        "colab": {
          "base_uri": "https://localhost:8080/",
          "height": 34
        },
        "outputId": "da76a4cd-d43a-4181-c3ec-1a02130a66b9"
      },
      "source": [
        "import collections\n",
        "collections.Counter(y_train)"
      ],
      "execution_count": 10,
      "outputs": [
        {
          "output_type": "execute_result",
          "data": {
            "text/plain": [
              "Counter({0: 11090, 1: 5569})"
            ]
          },
          "metadata": {
            "tags": []
          },
          "execution_count": 10
        }
      ]
    },
    {
      "cell_type": "code",
      "metadata": {
        "id": "E7xwg4b-EvUX",
        "colab_type": "code",
        "outputId": "2f9b41e9-9b7e-4849-cb3e-91caf51d82a6",
        "colab": {
          "base_uri": "https://localhost:8080/",
          "height": 79
        }
      },
      "source": [
        "from keras.preprocessing.text import Tokenizer\n",
        "from keras.preprocessing import sequence\n",
        "max_words = 5000 #frequency of words to be kept\n",
        "max_len = 300\n",
        "tokenize = Tokenizer(num_words=max_words)\n",
        "tokenize.fit_on_texts(corpus_train)\n",
        "sequences = tokenize.texts_to_sequences(corpus_train)\n",
        "X_train = sequence.pad_sequences(sequences,maxlen=max_len)\n"
      ],
      "execution_count": 11,
      "outputs": [
        {
          "output_type": "stream",
          "text": [
            "Using TensorFlow backend.\n"
          ],
          "name": "stderr"
        },
        {
          "output_type": "display_data",
          "data": {
            "text/html": [
              "<p style=\"color: red;\">\n",
              "The default version of TensorFlow in Colab will soon switch to TensorFlow 2.x.<br>\n",
              "We recommend you <a href=\"https://www.tensorflow.org/guide/migrate\" target=\"_blank\">upgrade</a> now \n",
              "or ensure your notebook will continue to use TensorFlow 1.x via the <code>%tensorflow_version 1.x</code> magic:\n",
              "<a href=\"https://colab.research.google.com/notebooks/tensorflow_version.ipynb\" target=\"_blank\">more info</a>.</p>\n"
            ],
            "text/plain": [
              "<IPython.core.display.HTML object>"
            ]
          },
          "metadata": {
            "tags": []
          }
        }
      ]
    },
    {
      "cell_type": "code",
      "metadata": {
        "id": "6MCP9ljoZKpv",
        "colab_type": "code",
        "colab": {}
      },
      "source": [
        "test_sequences = tokenize.texts_to_sequences(corpus_dev)\n",
        "X_dev = sequence.pad_sequences(test_sequences,maxlen=max_len)"
      ],
      "execution_count": 0,
      "outputs": []
    },
    {
      "cell_type": "code",
      "metadata": {
        "id": "XB8qW7jFGQlj",
        "colab_type": "code",
        "outputId": "f2a9caf2-7e27-4b92-8750-9e8207ff3ae5",
        "colab": {
          "base_uri": "https://localhost:8080/",
          "height": 319
        }
      },
      "source": [
        "from keras.models import Sequential\n",
        "from keras.layers import Embedding,CuDNNLSTM,Dense,Dropout,Bidirectional\n",
        "from keras.optimizers import RMSprop,Adam\n",
        "from sklearn.utils import class_weight\n",
        "from keras.callbacks import EarlyStopping\n",
        "import tensorflow as tf\n",
        "tf.logging.set_verbosity(tf.logging.ERROR)\n",
        "\n",
        "model=Sequential()\n",
        "model.add(Embedding(input_dim=max_words,output_dim=100,input_length=max_len))\n",
        "model.add((CuDNNLSTM(64)))\n",
        "#model.add(CuDNNLSTM(32))\n",
        "#model.add(Dense(50,activation='sigmoid'))\n",
        "model.add(Dense(20,activation='relu'))\n",
        "\n",
        "model.add(Dropout(0.5))\n",
        "model.add(Dense(1,activation='sigmoid'))\n",
        "model.compile(loss='binary_crossentropy',optimizer='rmsprop',metrics=['accuracy'])\n",
        "\n",
        "class_weights = class_weight.compute_class_weight('balanced',np.unique(y_train),y_train)\n",
        "class_weights=dict(enumerate(class_weights))\n",
        "model.summary()"
      ],
      "execution_count": 13,
      "outputs": [
        {
          "output_type": "stream",
          "text": [
            "Model: \"sequential_1\"\n",
            "_________________________________________________________________\n",
            "Layer (type)                 Output Shape              Param #   \n",
            "=================================================================\n",
            "embedding_1 (Embedding)      (None, 300, 100)          500000    \n",
            "_________________________________________________________________\n",
            "cu_dnnlstm_1 (CuDNNLSTM)     (None, 64)                42496     \n",
            "_________________________________________________________________\n",
            "dense_1 (Dense)              (None, 20)                1300      \n",
            "_________________________________________________________________\n",
            "dropout_1 (Dropout)          (None, 20)                0         \n",
            "_________________________________________________________________\n",
            "dense_2 (Dense)              (None, 1)                 21        \n",
            "=================================================================\n",
            "Total params: 543,817\n",
            "Trainable params: 543,817\n",
            "Non-trainable params: 0\n",
            "_________________________________________________________________\n"
          ],
          "name": "stdout"
        }
      ]
    },
    {
      "cell_type": "code",
      "metadata": {
        "id": "lG-PhyfzZIA4",
        "colab_type": "code",
        "colab": {}
      },
      "source": [
        "es = EarlyStopping(monitor='val_loss', mode='min', min_delta=0,patience=3,restore_best_weights=True)"
      ],
      "execution_count": 0,
      "outputs": []
    },
    {
      "cell_type": "code",
      "metadata": {
        "id": "7-FFhG0iGYvL",
        "colab_type": "code",
        "colab": {
          "base_uri": "https://localhost:8080/",
          "height": 252
        },
        "outputId": "8f69a8ee-0fb9-453e-f503-c419e932f241"
      },
      "source": [
        "model.fit(X_train,y_train,batch_size=130,epochs=30,verbose=2,class_weight=class_weights,validation_data=(X_dev,y_dev),callbacks=[es])"
      ],
      "execution_count": 15,
      "outputs": [
        {
          "output_type": "stream",
          "text": [
            "Train on 16659 samples, validate on 810 samples\n",
            "Epoch 1/30\n",
            " - 8s - loss: 0.6437 - acc: 0.6237 - val_loss: 0.6054 - val_acc: 0.6728\n",
            "Epoch 2/30\n",
            " - 6s - loss: 0.5486 - acc: 0.7349 - val_loss: 0.6125 - val_acc: 0.6457\n",
            "Epoch 3/30\n",
            " - 6s - loss: 0.5074 - acc: 0.7655 - val_loss: 0.5130 - val_acc: 0.7432\n",
            "Epoch 4/30\n",
            " - 6s - loss: 0.4678 - acc: 0.7924 - val_loss: 0.6572 - val_acc: 0.7012\n",
            "Epoch 5/30\n",
            " - 6s - loss: 0.4285 - acc: 0.8158 - val_loss: 0.5316 - val_acc: 0.7346\n",
            "Epoch 6/30\n",
            " - 6s - loss: 0.3923 - acc: 0.8352 - val_loss: 0.5767 - val_acc: 0.7395\n"
          ],
          "name": "stdout"
        },
        {
          "output_type": "execute_result",
          "data": {
            "text/plain": [
              "<keras.callbacks.History at 0x7f3f3e78e8d0>"
            ]
          },
          "metadata": {
            "tags": []
          },
          "execution_count": 15
        }
      ]
    },
    {
      "cell_type": "code",
      "metadata": {
        "id": "7QJVrux7X_HK",
        "colab_type": "code",
        "colab": {
          "base_uri": "https://localhost:8080/",
          "height": 50
        },
        "outputId": "9c28d46a-1ade-4fc8-ed29-7dbcefacf947"
      },
      "source": [
        "\n",
        "print(model.evaluate(X_dev,y_dev))"
      ],
      "execution_count": 16,
      "outputs": [
        {
          "output_type": "stream",
          "text": [
            "810/810 [==============================] - 0s 414us/step\n",
            "[0.5130385905136297, 0.7432098762488659]\n"
          ],
          "name": "stdout"
        }
      ]
    },
    {
      "cell_type": "code",
      "metadata": {
        "id": "rw_7KyuTYoVx",
        "colab_type": "code",
        "colab": {
          "base_uri": "https://localhost:8080/",
          "height": 185
        },
        "outputId": "80daebaa-8464-4365-c7e5-d0f7368adbb7"
      },
      "source": [
        "from sklearn.metrics import classification_report\n",
        "\n",
        "y_pred = model.predict(X_dev, batch_size=30, verbose=1)\n",
        "y_pred_bool = np.argmax(y_pred, axis=1)\n",
        "y_pred = (y_pred > 0.5)\n",
        "\n",
        "print(classification_report(y_dev, y_pred))"
      ],
      "execution_count": 17,
      "outputs": [
        {
          "output_type": "stream",
          "text": [
            "810/810 [==============================] - 0s 498us/step\n",
            "              precision    recall  f1-score   support\n",
            "\n",
            "           0       0.79      0.83      0.81       537\n",
            "           1       0.63      0.57      0.60       273\n",
            "\n",
            "    accuracy                           0.74       810\n",
            "   macro avg       0.71      0.70      0.70       810\n",
            "weighted avg       0.74      0.74      0.74       810\n",
            "\n"
          ],
          "name": "stdout"
        }
      ]
    },
    {
      "cell_type": "code",
      "metadata": {
        "id": "B1muzKvLY8IV",
        "colab_type": "code",
        "colab": {}
      },
      "source": [
        "import keras\n",
        "keras.backend.clear_session()"
      ],
      "execution_count": 0,
      "outputs": []
    },
    {
      "cell_type": "code",
      "metadata": {
        "id": "bwIa9qjzc23d",
        "colab_type": "code",
        "colab": {}
      },
      "source": [
        "\n"
      ],
      "execution_count": 0,
      "outputs": []
    },
    {
      "cell_type": "code",
      "metadata": {
        "id": "4ZiTzteAqwAH",
        "colab_type": "code",
        "colab": {}
      },
      "source": [
        ""
      ],
      "execution_count": 0,
      "outputs": []
    }
  ]
}