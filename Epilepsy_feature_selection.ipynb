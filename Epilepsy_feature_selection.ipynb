{
  "nbformat": 4,
  "nbformat_minor": 0,
  "metadata": {
    "colab": {
      "name": "Epilepsy.ipynb",
      "provenance": [],
      "include_colab_link": true
    },
    "kernelspec": {
      "name": "python3",
      "display_name": "Python 3"
    }
  },
  "cells": [
    {
      "cell_type": "markdown",
      "metadata": {
        "id": "view-in-github",
        "colab_type": "text"
      },
      "source": [
        "<a href=\"https://colab.research.google.com/github/talhaanwarch/DeftEval2020/blob/master/Epilepsy_feature_selection.ipynb\" target=\"_parent\"><img src=\"https://colab.research.google.com/assets/colab-badge.svg\" alt=\"Open In Colab\"/></a>"
      ]
    },
    {
      "cell_type": "code",
      "metadata": {
        "id": "D8cfmeAJhLeQ",
        "colab_type": "code",
        "colab": {}
      },
      "source": [
        ""
      ],
      "execution_count": 0,
      "outputs": []
    },
    {
      "cell_type": "code",
      "metadata": {
        "id": "y3zr3yOrhrpt",
        "colab_type": "code",
        "colab": {}
      },
      "source": [
        "#https://zenodo.org/record/1252141"
      ],
      "execution_count": 0,
      "outputs": []
    },
    {
      "cell_type": "code",
      "metadata": {
        "id": "M4w4sm63mjOw",
        "colab_type": "code",
        "outputId": "c55391c5-78d9-43b7-e0b6-f884693b91fb",
        "colab": {
          "base_uri": "https://localhost:8080/",
          "height": 368
        }
      },
      "source": [
        "!pip install git+https://github.com/forrestbao/pyeeg.git\n",
        "!pip install git+https://github.com/talhaanwarch/entropy.git\n"
      ],
      "execution_count": 1,
      "outputs": [
        {
          "output_type": "stream",
          "text": [
            "Collecting git+https://github.com/forrestbao/pyeeg.git\n",
            "  Cloning https://github.com/forrestbao/pyeeg.git to /tmp/pip-req-build-9f1ueojt\n",
            "  Running command git clone -q https://github.com/forrestbao/pyeeg.git /tmp/pip-req-build-9f1ueojt\n",
            "Requirement already satisfied: numpy>=1.9.2 in /usr/local/lib/python3.6/dist-packages (from pyeeg==0.4.4) (1.17.4)\n",
            "Building wheels for collected packages: pyeeg\n",
            "  Building wheel for pyeeg (setup.py) ... \u001b[?25l\u001b[?25hdone\n",
            "  Created wheel for pyeeg: filename=pyeeg-0.4.4-py2.py3-none-any.whl size=28121 sha256=9707194afafb065fcde8059d337d03527f3a730a4ccaaed583e7246cbde81251\n",
            "  Stored in directory: /tmp/pip-ephem-wheel-cache-jhvgrexn/wheels/2d/3f/ad/106d4fc80b61d1ea1fc18e76e7439fd98aa043d83d58eae741\n",
            "Successfully built pyeeg\n",
            "Installing collected packages: pyeeg\n",
            "Successfully installed pyeeg-0.4.4\n",
            "Collecting git+https://github.com/talhaanwarch/entropy.git\n",
            "  Cloning https://github.com/talhaanwarch/entropy.git to /tmp/pip-req-build-bntqcccz\n",
            "  Running command git clone -q https://github.com/talhaanwarch/entropy.git /tmp/pip-req-build-bntqcccz\n",
            "Building wheels for collected packages: entropy\n",
            "  Building wheel for entropy (setup.py) ... \u001b[?25l\u001b[?25hdone\n",
            "  Created wheel for entropy: filename=entropy-0.1.1-cp36-none-any.whl size=15447 sha256=6603a023f3d336d242cd18db5ed8d8e3cc40306ef61396d5046974375f41fd5b\n",
            "  Stored in directory: /tmp/pip-ephem-wheel-cache-3_fi55gk/wheels/79/43/63/3fa9c8c5f03fe3a78d71c1aeedca9577f2f32fb2156ff9ecf8\n",
            "Successfully built entropy\n",
            "Installing collected packages: entropy\n",
            "Successfully installed entropy-0.1.1\n"
          ],
          "name": "stdout"
        }
      ]
    },
    {
      "cell_type": "code",
      "metadata": {
        "id": "tCIeWAfNeXha",
        "colab_type": "code",
        "outputId": "ade3e521-5233-47ff-f0f4-178ac58cafc7",
        "colab": {
          "base_uri": "https://localhost:8080/",
          "height": 201
        }
      },
      "source": [
        "!wget https://zenodo.org/record/1252141/files/EEGs_Guinea-Bissau.zip"
      ],
      "execution_count": 2,
      "outputs": [
        {
          "output_type": "stream",
          "text": [
            "--2019-12-11 15:13:38--  https://zenodo.org/record/1252141/files/EEGs_Guinea-Bissau.zip\n",
            "Resolving zenodo.org (zenodo.org)... 188.184.95.95\n",
            "Connecting to zenodo.org (zenodo.org)|188.184.95.95|:443... connected.\n",
            "HTTP request sent, awaiting response... 200 OK\n",
            "Length: 153973086 (147M) [application/octet-stream]\n",
            "Saving to: ‘EEGs_Guinea-Bissau.zip’\n",
            "\n",
            "EEGs_Guinea-Bissau. 100%[===================>] 146.84M  9.72MB/s    in 17s     \n",
            "\n",
            "2019-12-11 15:13:57 (8.57 MB/s) - ‘EEGs_Guinea-Bissau.zip’ saved [153973086/153973086]\n",
            "\n"
          ],
          "name": "stdout"
        }
      ]
    },
    {
      "cell_type": "code",
      "metadata": {
        "id": "YuDzw4mMemnf",
        "colab_type": "code",
        "colab": {}
      },
      "source": [
        "from zipfile import ZipFile \n",
        "data = ZipFile('EEGs_Guinea-Bissau.zip')\n",
        "data.extractall()"
      ],
      "execution_count": 0,
      "outputs": []
    },
    {
      "cell_type": "code",
      "metadata": {
        "id": "8fa6X-_EfEbX",
        "colab_type": "code",
        "colab": {}
      },
      "source": [
        "import pandas as pd"
      ],
      "execution_count": 0,
      "outputs": []
    },
    {
      "cell_type": "code",
      "metadata": {
        "id": "5shWief3foxh",
        "colab_type": "code",
        "colab": {}
      },
      "source": [
        "meta=pd.read_csv('https://zenodo.org/record/1252141/files/metadata_guineabissau.csv')"
      ],
      "execution_count": 0,
      "outputs": []
    },
    {
      "cell_type": "code",
      "metadata": {
        "id": "whX6qjfsfuHg",
        "colab_type": "code",
        "outputId": "f409f459-1d0d-4b90-e1f2-26b2de69d3e7",
        "colab": {
          "base_uri": "https://localhost:8080/",
          "height": 196
        }
      },
      "source": [
        "meta.head()"
      ],
      "execution_count": 6,
      "outputs": [
        {
          "output_type": "execute_result",
          "data": {
            "text/html": [
              "<div>\n",
              "<style scoped>\n",
              "    .dataframe tbody tr th:only-of-type {\n",
              "        vertical-align: middle;\n",
              "    }\n",
              "\n",
              "    .dataframe tbody tr th {\n",
              "        vertical-align: top;\n",
              "    }\n",
              "\n",
              "    .dataframe thead th {\n",
              "        text-align: right;\n",
              "    }\n",
              "</style>\n",
              "<table border=\"1\" class=\"dataframe\">\n",
              "  <thead>\n",
              "    <tr style=\"text-align: right;\">\n",
              "      <th></th>\n",
              "      <th>subject.id</th>\n",
              "      <th>Group</th>\n",
              "      <th>Eyes.condition</th>\n",
              "      <th>Remarks</th>\n",
              "      <th>recordedPeriod</th>\n",
              "      <th>startTime</th>\n",
              "    </tr>\n",
              "  </thead>\n",
              "  <tbody>\n",
              "    <tr>\n",
              "      <th>0</th>\n",
              "      <td>1</td>\n",
              "      <td>Epilepsy</td>\n",
              "      <td>closed-3min-then-open-2min</td>\n",
              "      <td>by 45s reposition electrodes</td>\n",
              "      <td>301</td>\n",
              "      <td>27/5/2020 14:33</td>\n",
              "    </tr>\n",
              "    <tr>\n",
              "      <th>1</th>\n",
              "      <td>2</td>\n",
              "      <td>Control</td>\n",
              "      <td>open-3min-then-closed-2min</td>\n",
              "      <td>NaN</td>\n",
              "      <td>309</td>\n",
              "      <td>26/5/2020 22:44</td>\n",
              "    </tr>\n",
              "    <tr>\n",
              "      <th>2</th>\n",
              "      <td>3</td>\n",
              "      <td>Epilepsy</td>\n",
              "      <td>closed-3min-then-open-2min</td>\n",
              "      <td>NaN</td>\n",
              "      <td>309</td>\n",
              "      <td>27/5/2020 14:26</td>\n",
              "    </tr>\n",
              "    <tr>\n",
              "      <th>3</th>\n",
              "      <td>4</td>\n",
              "      <td>Epilepsy</td>\n",
              "      <td>closed-3min-then-open-2min</td>\n",
              "      <td>Green lights not shown, but good EEG traces</td>\n",
              "      <td>299</td>\n",
              "      <td>27/5/2020 15:23</td>\n",
              "    </tr>\n",
              "    <tr>\n",
              "      <th>4</th>\n",
              "      <td>5</td>\n",
              "      <td>Control</td>\n",
              "      <td>closed-3min-then-open-2min</td>\n",
              "      <td>NaN</td>\n",
              "      <td>302</td>\n",
              "      <td>23/5/2020 19:09</td>\n",
              "    </tr>\n",
              "  </tbody>\n",
              "</table>\n",
              "</div>"
            ],
            "text/plain": [
              "   subject.id     Group  ... recordedPeriod        startTime\n",
              "0           1  Epilepsy  ...            301  27/5/2020 14:33\n",
              "1           2   Control  ...            309  26/5/2020 22:44\n",
              "2           3  Epilepsy  ...            309  27/5/2020 14:26\n",
              "3           4  Epilepsy  ...            299  27/5/2020 15:23\n",
              "4           5   Control  ...            302  23/5/2020 19:09\n",
              "\n",
              "[5 rows x 6 columns]"
            ]
          },
          "metadata": {
            "tags": []
          },
          "execution_count": 6
        }
      ]
    },
    {
      "cell_type": "code",
      "metadata": {
        "id": "PkqndaykgVrJ",
        "colab_type": "code",
        "colab": {}
      },
      "source": [
        "EP_sub=meta['subject.id'][meta['Group']=='Epilepsy']\n",
        "CT_sub=meta['subject.id'][meta['Group']=='Control']"
      ],
      "execution_count": 0,
      "outputs": []
    },
    {
      "cell_type": "code",
      "metadata": {
        "id": "MxZIYVWvfvhx",
        "colab_type": "code",
        "colab": {}
      },
      "source": [
        "Epilepsy=[]\n",
        "for i in EP_sub:\n",
        "  Epilepsy.append(pd.read_csv('EEGs_Guinea-Bissau/signal-{}.csv.gz'.format(i), compression='gzip')) "
      ],
      "execution_count": 0,
      "outputs": []
    },
    {
      "cell_type": "code",
      "metadata": {
        "id": "DZzjXp1ahOiS",
        "colab_type": "code",
        "colab": {}
      },
      "source": [
        "Control=[]\n",
        "for i in CT_sub:\n",
        "  Control.append(pd.read_csv('EEGs_Guinea-Bissau/signal-{}.csv.gz'.format(i), compression='gzip')) "
      ],
      "execution_count": 0,
      "outputs": []
    },
    {
      "cell_type": "code",
      "metadata": {
        "id": "keZ2ZJm-gGe8",
        "colab_type": "code",
        "outputId": "ecf547d0-b1d5-4fcb-e24c-7a3564e3732e",
        "colab": {
          "base_uri": "https://localhost:8080/",
          "height": 233
        }
      },
      "source": [
        "Epilepsy[0].head()"
      ],
      "execution_count": 10,
      "outputs": [
        {
          "output_type": "execute_result",
          "data": {
            "text/html": [
              "<div>\n",
              "<style scoped>\n",
              "    .dataframe tbody tr th:only-of-type {\n",
              "        vertical-align: middle;\n",
              "    }\n",
              "\n",
              "    .dataframe tbody tr th {\n",
              "        vertical-align: top;\n",
              "    }\n",
              "\n",
              "    .dataframe thead th {\n",
              "        text-align: right;\n",
              "    }\n",
              "</style>\n",
              "<table border=\"1\" class=\"dataframe\">\n",
              "  <thead>\n",
              "    <tr style=\"text-align: right;\">\n",
              "      <th></th>\n",
              "      <th>Unnamed: 0</th>\n",
              "      <th>AF3</th>\n",
              "      <th>AF4</th>\n",
              "      <th>F3</th>\n",
              "      <th>F4</th>\n",
              "      <th>F7</th>\n",
              "      <th>F8</th>\n",
              "      <th>FC5</th>\n",
              "      <th>FC6</th>\n",
              "      <th>O1</th>\n",
              "      <th>O2</th>\n",
              "      <th>P7</th>\n",
              "      <th>P8</th>\n",
              "      <th>T7</th>\n",
              "      <th>T8</th>\n",
              "      <th>COUNTER</th>\n",
              "      <th>INTERPOLATED</th>\n",
              "      <th>GYROX</th>\n",
              "      <th>GYROY</th>\n",
              "      <th>RAW_CQ</th>\n",
              "      <th>CQ_CMS</th>\n",
              "      <th>CQ_F7</th>\n",
              "      <th>CQ_T7</th>\n",
              "      <th>CQ_O2</th>\n",
              "      <th>CQ_FC6</th>\n",
              "      <th>CQ_AF4</th>\n",
              "      <th>CQ_F3</th>\n",
              "      <th>CQ_P7</th>\n",
              "      <th>CQ_P8</th>\n",
              "      <th>CQ_F4</th>\n",
              "      <th>CQ_AF3</th>\n",
              "      <th>CQ_FC5</th>\n",
              "      <th>CQ_O1</th>\n",
              "      <th>CQ_T8</th>\n",
              "      <th>CQ_F8</th>\n",
              "      <th>CQ_DRL</th>\n",
              "    </tr>\n",
              "  </thead>\n",
              "  <tbody>\n",
              "    <tr>\n",
              "      <th>0</th>\n",
              "      <td>1</td>\n",
              "      <td>4426.153846</td>\n",
              "      <td>3994.871795</td>\n",
              "      <td>4408.205128</td>\n",
              "      <td>3847.692308</td>\n",
              "      <td>4690.256410</td>\n",
              "      <td>3895.897436</td>\n",
              "      <td>4702.051282</td>\n",
              "      <td>3914.871795</td>\n",
              "      <td>4049.743590</td>\n",
              "      <td>4297.948718</td>\n",
              "      <td>4186.153846</td>\n",
              "      <td>4132.820513</td>\n",
              "      <td>4106.666667</td>\n",
              "      <td>4076.410256</td>\n",
              "      <td>28</td>\n",
              "      <td>0</td>\n",
              "      <td>1555</td>\n",
              "      <td>1751</td>\n",
              "      <td>0</td>\n",
              "      <td>4</td>\n",
              "      <td>4</td>\n",
              "      <td>4</td>\n",
              "      <td>4</td>\n",
              "      <td>4</td>\n",
              "      <td>4</td>\n",
              "      <td>4</td>\n",
              "      <td>4</td>\n",
              "      <td>4</td>\n",
              "      <td>4</td>\n",
              "      <td>4</td>\n",
              "      <td>4</td>\n",
              "      <td>4</td>\n",
              "      <td>4</td>\n",
              "      <td>4</td>\n",
              "      <td>4</td>\n",
              "    </tr>\n",
              "    <tr>\n",
              "      <th>1</th>\n",
              "      <td>2</td>\n",
              "      <td>4420.512821</td>\n",
              "      <td>3986.666667</td>\n",
              "      <td>4394.358974</td>\n",
              "      <td>3836.923077</td>\n",
              "      <td>4678.461538</td>\n",
              "      <td>3886.666667</td>\n",
              "      <td>4696.410256</td>\n",
              "      <td>3910.769231</td>\n",
              "      <td>4054.358974</td>\n",
              "      <td>4295.897436</td>\n",
              "      <td>4187.179487</td>\n",
              "      <td>4126.666667</td>\n",
              "      <td>4105.641026</td>\n",
              "      <td>4065.128205</td>\n",
              "      <td>29</td>\n",
              "      <td>0</td>\n",
              "      <td>1555</td>\n",
              "      <td>1755</td>\n",
              "      <td>0</td>\n",
              "      <td>4</td>\n",
              "      <td>4</td>\n",
              "      <td>4</td>\n",
              "      <td>4</td>\n",
              "      <td>4</td>\n",
              "      <td>4</td>\n",
              "      <td>4</td>\n",
              "      <td>4</td>\n",
              "      <td>4</td>\n",
              "      <td>4</td>\n",
              "      <td>4</td>\n",
              "      <td>4</td>\n",
              "      <td>4</td>\n",
              "      <td>4</td>\n",
              "      <td>4</td>\n",
              "      <td>4</td>\n",
              "    </tr>\n",
              "    <tr>\n",
              "      <th>2</th>\n",
              "      <td>3</td>\n",
              "      <td>4413.846154</td>\n",
              "      <td>3986.153846</td>\n",
              "      <td>4386.666667</td>\n",
              "      <td>3831.794872</td>\n",
              "      <td>4654.871795</td>\n",
              "      <td>3881.025641</td>\n",
              "      <td>4690.769231</td>\n",
              "      <td>3908.205128</td>\n",
              "      <td>4066.666667</td>\n",
              "      <td>4301.025641</td>\n",
              "      <td>4188.205128</td>\n",
              "      <td>4123.076923</td>\n",
              "      <td>4103.076923</td>\n",
              "      <td>4063.589744</td>\n",
              "      <td>30</td>\n",
              "      <td>0</td>\n",
              "      <td>1555</td>\n",
              "      <td>1755</td>\n",
              "      <td>0</td>\n",
              "      <td>4</td>\n",
              "      <td>4</td>\n",
              "      <td>4</td>\n",
              "      <td>4</td>\n",
              "      <td>4</td>\n",
              "      <td>4</td>\n",
              "      <td>4</td>\n",
              "      <td>4</td>\n",
              "      <td>4</td>\n",
              "      <td>4</td>\n",
              "      <td>4</td>\n",
              "      <td>4</td>\n",
              "      <td>4</td>\n",
              "      <td>4</td>\n",
              "      <td>4</td>\n",
              "      <td>4</td>\n",
              "    </tr>\n",
              "    <tr>\n",
              "      <th>3</th>\n",
              "      <td>4</td>\n",
              "      <td>4407.692308</td>\n",
              "      <td>3984.615385</td>\n",
              "      <td>4384.102564</td>\n",
              "      <td>3832.820513</td>\n",
              "      <td>4644.615385</td>\n",
              "      <td>3883.076923</td>\n",
              "      <td>4686.153846</td>\n",
              "      <td>3910.256410</td>\n",
              "      <td>4063.076923</td>\n",
              "      <td>4298.974359</td>\n",
              "      <td>4184.615385</td>\n",
              "      <td>4127.179487</td>\n",
              "      <td>4095.384615</td>\n",
              "      <td>4071.282051</td>\n",
              "      <td>31</td>\n",
              "      <td>0</td>\n",
              "      <td>1559</td>\n",
              "      <td>1751</td>\n",
              "      <td>0</td>\n",
              "      <td>4</td>\n",
              "      <td>4</td>\n",
              "      <td>4</td>\n",
              "      <td>4</td>\n",
              "      <td>4</td>\n",
              "      <td>4</td>\n",
              "      <td>4</td>\n",
              "      <td>4</td>\n",
              "      <td>4</td>\n",
              "      <td>4</td>\n",
              "      <td>4</td>\n",
              "      <td>4</td>\n",
              "      <td>4</td>\n",
              "      <td>4</td>\n",
              "      <td>4</td>\n",
              "      <td>4</td>\n",
              "    </tr>\n",
              "    <tr>\n",
              "      <th>4</th>\n",
              "      <td>5</td>\n",
              "      <td>4407.179487</td>\n",
              "      <td>3978.974359</td>\n",
              "      <td>4382.564103</td>\n",
              "      <td>3832.307692</td>\n",
              "      <td>4647.692308</td>\n",
              "      <td>3878.974359</td>\n",
              "      <td>4685.641026</td>\n",
              "      <td>3903.076923</td>\n",
              "      <td>4057.948718</td>\n",
              "      <td>4295.384615</td>\n",
              "      <td>4182.564103</td>\n",
              "      <td>4128.205128</td>\n",
              "      <td>4090.769231</td>\n",
              "      <td>4064.102564</td>\n",
              "      <td>32</td>\n",
              "      <td>0</td>\n",
              "      <td>1559</td>\n",
              "      <td>1759</td>\n",
              "      <td>0</td>\n",
              "      <td>4</td>\n",
              "      <td>4</td>\n",
              "      <td>4</td>\n",
              "      <td>4</td>\n",
              "      <td>4</td>\n",
              "      <td>4</td>\n",
              "      <td>4</td>\n",
              "      <td>4</td>\n",
              "      <td>4</td>\n",
              "      <td>4</td>\n",
              "      <td>4</td>\n",
              "      <td>4</td>\n",
              "      <td>4</td>\n",
              "      <td>4</td>\n",
              "      <td>4</td>\n",
              "      <td>4</td>\n",
              "    </tr>\n",
              "  </tbody>\n",
              "</table>\n",
              "</div>"
            ],
            "text/plain": [
              "   Unnamed: 0          AF3          AF4  ...  CQ_T8  CQ_F8  CQ_DRL\n",
              "0           1  4426.153846  3994.871795  ...      4      4       4\n",
              "1           2  4420.512821  3986.666667  ...      4      4       4\n",
              "2           3  4413.846154  3986.153846  ...      4      4       4\n",
              "3           4  4407.692308  3984.615385  ...      4      4       4\n",
              "4           5  4407.179487  3978.974359  ...      4      4       4\n",
              "\n",
              "[5 rows x 36 columns]"
            ]
          },
          "metadata": {
            "tags": []
          },
          "execution_count": 10
        }
      ]
    },
    {
      "cell_type": "code",
      "metadata": {
        "id": "M23NxjjqgH4d",
        "colab_type": "code",
        "colab": {}
      },
      "source": [
        "from scipy import signal\n",
        "nyq = 0.5 * 128\n",
        "l=0.3\n",
        "low = l / nyq\n",
        "high = 45 / nyq\n",
        "b, a = signal.butter(4, [low,high], 'band')"
      ],
      "execution_count": 0,
      "outputs": []
    },
    {
      "cell_type": "code",
      "metadata": {
        "id": "qwRTcDlRiS_n",
        "colab_type": "code",
        "colab": {}
      },
      "source": [
        "EP_data=[]\n",
        "for EP in Epilepsy:\n",
        "  data=EP.iloc[:,1:15].values\n",
        "  EP_data.append(signal.filtfilt(b, a, data.T).T)\n"
      ],
      "execution_count": 0,
      "outputs": []
    },
    {
      "cell_type": "code",
      "metadata": {
        "id": "Q8FwDAZHih9q",
        "colab_type": "code",
        "colab": {}
      },
      "source": [
        "CT_data=[]\n",
        "for CT in Control:\n",
        "  data=CT.iloc[:,1:15].values\n",
        "  CT_data.append(signal.filtfilt(b, a, data.T).T)\n"
      ],
      "execution_count": 0,
      "outputs": []
    },
    {
      "cell_type": "code",
      "metadata": {
        "id": "EihIuVfTi8sp",
        "colab_type": "code",
        "colab": {}
      },
      "source": [
        "def reshape(data):   \n",
        "    shape=data.ravel().shape[0]\n",
        "    s=shape%(14*1000)\n",
        "    if s!=0:\n",
        "        d=data.ravel()[s//2:-s//2].reshape(-1,1000,14)\n",
        "        #return np.swapaxes(d,1,2)   \n",
        "        return d\n",
        "    else: \n",
        "        d1=data.reshape(-1,1000,14)\n",
        "        #return np.swapaxes(d1,1,2)   \n",
        "        return d1"
      ],
      "execution_count": 0,
      "outputs": []
    },
    {
      "cell_type": "code",
      "metadata": {
        "id": "Qu7hgQwaj79H",
        "colab_type": "code",
        "colab": {}
      },
      "source": [
        "\n",
        "EP_reshaped=[]\n",
        "for i in EP_data:\n",
        "    EP_reshaped.append(reshape(i))\n",
        "    \n",
        "    \n",
        "CT_reshaped=[]\n",
        "for i in CT_data:\n",
        "    CT_reshaped.append(reshape(i))"
      ],
      "execution_count": 0,
      "outputs": []
    },
    {
      "cell_type": "code",
      "metadata": {
        "id": "MJLu5j-ikfgs",
        "colab_type": "code",
        "outputId": "388e84bb-918d-40cb-ff69-77d3ce4bcc0d",
        "colab": {
          "base_uri": "https://localhost:8080/",
          "height": 33
        }
      },
      "source": [
        "EP_reshaped[0].shape"
      ],
      "execution_count": 16,
      "outputs": [
        {
          "output_type": "execute_result",
          "data": {
            "text/plain": [
              "(38, 1000, 14)"
            ]
          },
          "metadata": {
            "tags": []
          },
          "execution_count": 16
        }
      ]
    },
    {
      "cell_type": "code",
      "metadata": {
        "id": "AY2v6LNll0np",
        "colab_type": "code",
        "colab": {}
      },
      "source": [
        "from scipy import stats\n",
        "import pyeeg\n",
        "from entropy import *\n",
        "def mean(data):\n",
        "    return np.mean(data,axis=0)\n",
        "    \n",
        "def std(data):\n",
        "    return np.std(data,axis=0)\n",
        "\n",
        "def ptp(data):\n",
        "    return np.ptp(data,axis=0)\n",
        "\n",
        "def var(data):\n",
        "        return np.var(data,axis=0)\n",
        "\n",
        "def minim(data):\n",
        "      return np.min(data,axis=0)\n",
        "\n",
        "\n",
        "def maxim(data):\n",
        "      return np.max(data,axis=0)\n",
        "\n",
        "\n",
        "def mean_square(data):\n",
        "      return np.mean(data**2,axis=0)\n",
        "\n",
        "def rms(data): #root mean square\n",
        "      return  np.sqrt(np.mean(data**2,axis=0))  \n",
        "\n",
        "def abs_diffs_signal(data):\n",
        "    return np.sum(np.abs(np.diff(data,axis=0)),axis=0)\n",
        "\n",
        "\n",
        "def skewness(data):\n",
        "    return stats.skew(data,axis=0)\n",
        "\n",
        "def kurtosis(data):\n",
        "    return stats.kurtosis(data,axis=0)\n",
        "\n",
        "def zero_crossing(data):\n",
        "    return np.argmax(np.diff(np.sign(data),axis=0),axis=0)\n",
        "\n",
        "def app_epy(data):\n",
        "    result=[]\n",
        "    for i in data.T:\n",
        "        result.append(app_entropy(i, order=2, metric='chebyshev'))\n",
        "    return np.array(result)\n",
        "\n",
        "def perm_epy(data):\n",
        "    result=[]\n",
        "    for i in data.T:\n",
        "        result.append(perm_entropy(i, order=3, normalize=True))\n",
        "    return np.array(result)\n",
        "\n",
        "def svd_epy(data):\n",
        "    result=[]\n",
        "    for i in data.T:\n",
        "        result.append(svd_entropy(i, order=3, delay=1, normalize=True))\n",
        "    return np.array(result)\n",
        "\n",
        "def spectral_epy(data):\n",
        "    result=[]\n",
        "    for i in data.T:\n",
        "        result.append(spectral_entropy(i, 100, method='welch', normalize=True))\n",
        "    return np.array(result)\n",
        "\n",
        "def sample_epy(data):\n",
        "    result=[]\n",
        "    for i in data.T:\n",
        "        result.append(sample_entropy(i, order=2, metric='chebyshev'))\n",
        "    return np.array(result)\n",
        "\n",
        "\n",
        "def katz(data):\n",
        "    result=[]\n",
        "    for i in data.T:\n",
        "        result.append(katz_fd(i))\n",
        "    return np.array(result)\n",
        "\n",
        "def higuchi(data):\n",
        "    result=[]\n",
        "    for i in data.T:\n",
        "        result.append(higuchi_fd(i))\n",
        "    return np.array(result)\n",
        "\n",
        "\n",
        "def petrosian(data):\n",
        "    result=[]\n",
        "    for i in data.T:\n",
        "        result.append(petrosian_fd(i))\n",
        "    return np.array(result)\n",
        "\n",
        "def autogressiveModelParameters(data):\n",
        "    feature = []\n",
        "    for i in data.T:\n",
        "        coeff, sig = alg.AR_est_YW(i, order=5)\n",
        "        feature.append(np.mean(coeff))\n",
        "    return np.array(feature)\n",
        "\n",
        "def teager(x):\n",
        "    for i in range(len(x)-1):\n",
        "        return x[i]**2 - (x[i-1]*x[i+1])\n",
        "\n",
        "\n",
        "        \n",
        "def hjorth_mobility(data):\n",
        "    return np.divide(np.std(np.diff(data,axis=0),axis=0),np.std(data,axis=0))\n",
        "\n",
        "def hjorth_complexity(data):\n",
        "    return np.divide(hjorth_mobility(np.diff(data,axis=0)),  hjorth_mobility(data))      \n",
        "\n",
        "\n",
        "\n",
        "\n",
        "def concatenate_features(data):\n",
        "    return np.concatenate((mean(data),std(data),ptp(data),var(data),minim(data),maxim(data),\n",
        "                          mean_square(data),rms(data),abs_diffs_signal(data),\n",
        "                          skewness(data),kurtosis(data),zero_crossing(data),\n",
        "                          app_epy(data),perm_epy(data),svd_epy(data),spectral_epy(data),sample_epy(data),\n",
        "                          katz(data),higuchi(data),petrosian(data),\n",
        "                          hjorth_mobility(data),hjorth_complexity(data)),axis=0)"
      ],
      "execution_count": 0,
      "outputs": []
    },
    {
      "cell_type": "code",
      "metadata": {
        "id": "uI8jiTkBl0nr",
        "colab_type": "code",
        "colab": {}
      },
      "source": [
        "features1=[]\n",
        "for f in CT_reshaped:\n",
        "    feature=[]\n",
        "    for i in f:\n",
        "        feature.append(concatenate_features(i))\n",
        "    features1.append(np.mean(np.array(feature),axis=0))\n",
        "    "
      ],
      "execution_count": 0,
      "outputs": []
    },
    {
      "cell_type": "code",
      "metadata": {
        "id": "BGRhuu8kl0ns",
        "colab_type": "code",
        "colab": {}
      },
      "source": [
        "\n",
        "features2=[]\n",
        "for f in EP_reshaped:\n",
        "    feature=[]\n",
        "    for i in f:\n",
        "        feature.append(concatenate_features(i))\n",
        "    features2.append(np.mean(np.array(feature),axis=0))"
      ],
      "execution_count": 0,
      "outputs": []
    },
    {
      "cell_type": "code",
      "metadata": {
        "id": "s-tgxVOcl0nu",
        "colab_type": "code",
        "colab": {}
      },
      "source": [
        "x1=np.array(features1)        \n",
        "x2=np.array(features2)      \n",
        "\n",
        "X=np.concatenate((x1,x2),axis=0)\n",
        "y=np.concatenate(((np.zeros(x1.shape[0])),(np.ones(x2.shape[0]))))\n"
      ],
      "execution_count": 0,
      "outputs": []
    },
    {
      "cell_type": "code",
      "metadata": {
        "id": "dkkJ6WK6kSeu",
        "colab_type": "code",
        "colab": {
          "base_uri": "https://localhost:8080/",
          "height": 33
        },
        "outputId": "988a1057-3549-4ee1-837b-141effea7548"
      },
      "source": [
        "X.shape,y.shape"
      ],
      "execution_count": 72,
      "outputs": [
        {
          "output_type": "execute_result",
          "data": {
            "text/plain": [
              "((97, 308), (97,))"
            ]
          },
          "metadata": {
            "tags": []
          },
          "execution_count": 72
        }
      ]
    },
    {
      "cell_type": "markdown",
      "metadata": {
        "id": "LZYSZkNumVde",
        "colab_type": "text"
      },
      "source": [
        "#import libraries"
      ]
    },
    {
      "cell_type": "code",
      "metadata": {
        "id": "GJBuPvNEToHn",
        "colab_type": "code",
        "colab": {}
      },
      "source": [
        "from scipy import stats\n",
        "import pyeeg\n",
        "from entropy import *\n",
        "import pywt\n",
        "#from nitime import algorithms as alg\n",
        "from sklearn import metrics\n",
        "from sklearn.model_selection import train_test_split\n",
        "from sklearn.preprocessing import StandardScaler,MaxAbsScaler\n",
        "from sklearn.preprocessing import StandardScaler,MaxAbsScaler\n",
        "from sklearn.svm import SVC\n",
        "from sklearn.linear_model import LogisticRegression\n",
        "from sklearn.neighbors import KNeighborsClassifier\n",
        "\n",
        "#import nolds\n",
        "np.warnings.filterwarnings('ignore')"
      ],
      "execution_count": 0,
      "outputs": []
    },
    {
      "cell_type": "markdown",
      "metadata": {
        "id": "qH6vWOzfDUGK",
        "colab_type": "text"
      },
      "source": [
        "# Classification"
      ]
    },
    {
      "cell_type": "code",
      "metadata": {
        "id": "694vALtLl8uF",
        "colab_type": "code",
        "colab": {}
      },
      "source": [
        "#%% split data\n",
        "from sklearn.model_selection import train_test_split\n",
        "X_train, X_test, y_train, y_test = train_test_split(X_all, y_all,test_size=0.3, random_state=42,stratify=y_all)"
      ],
      "execution_count": 0,
      "outputs": []
    },
    {
      "cell_type": "code",
      "metadata": {
        "id": "ZnmTowVK4rSG",
        "colab_type": "code",
        "colab": {}
      },
      "source": [
        "sc=StandardScaler()\n",
        "X_train=sc.fit_transform(X_train)\n",
        "X_test=sc.transform(X_test)"
      ],
      "execution_count": 0,
      "outputs": []
    },
    {
      "cell_type": "code",
      "metadata": {
        "id": "yVSRKVsvl9Xm",
        "colab_type": "code",
        "outputId": "d2dd7691-6075-4f9d-dd71-8c8e34210c1b",
        "colab": {
          "base_uri": "https://localhost:8080/",
          "height": 184
        }
      },
      "source": [
        "\n",
        "clf=SVC(kernel='rbf')\n",
        "clf.fit(X_train,y_train)\n",
        "y_pred = clf.predict(X_test)\n",
        "\n",
        "from sklearn.metrics import classification_report,accuracy_score\n",
        "print(classification_report(y_test,y_pred))\n",
        "print('accuracy is ',accuracy_score(y_test, y_pred))"
      ],
      "execution_count": 39,
      "outputs": [
        {
          "output_type": "stream",
          "text": [
            "              precision    recall  f1-score   support\n",
            "\n",
            "         0.0       0.77      0.71      0.74        14\n",
            "         1.0       0.76      0.81      0.79        16\n",
            "\n",
            "    accuracy                           0.77        30\n",
            "   macro avg       0.77      0.76      0.76        30\n",
            "weighted avg       0.77      0.77      0.77        30\n",
            "\n",
            "accuracy is  0.7666666666666667\n"
          ],
          "name": "stdout"
        }
      ]
    },
    {
      "cell_type": "code",
      "metadata": {
        "id": "LQC-83Qc4b99",
        "colab_type": "code",
        "colab": {}
      },
      "source": [
        ""
      ],
      "execution_count": 0,
      "outputs": []
    },
    {
      "cell_type": "markdown",
      "metadata": {
        "id": "1ilVKM0cwbsp",
        "colab_type": "text"
      },
      "source": [
        "#Feature Selection"
      ]
    },
    {
      "cell_type": "code",
      "metadata": {
        "id": "LKEtc0WdweXp",
        "colab_type": "code",
        "colab": {}
      },
      "source": [
        "feature_list=['mean','std','ptp','var','minim','maxim','mean_square','rms','abs_diffs_signal','skewness','kurtosis','zero_crossing',\n",
        "'app_epy','perm_epy','svd_epy','spectral_epy','sample_epy','katz','higuchi','petrosian','hjorth_mobility','hjorth_complexity']"
      ],
      "execution_count": 0,
      "outputs": []
    },
    {
      "cell_type": "code",
      "metadata": {
        "id": "vSQRCn_Bwg-h",
        "colab_type": "code",
        "colab": {}
      },
      "source": [
        "\n",
        "classifiers = [\n",
        "    KNeighborsClassifier(),\n",
        "    SVC(kernel=\"linear\"),\n",
        "    DecisionTreeClassifier(),\n",
        "    LogisticRegression()]"
      ],
      "execution_count": 0,
      "outputs": []
    },
    {
      "cell_type": "code",
      "metadata": {
        "id": "jYwsw1ykwmQL",
        "colab_type": "code",
        "colab": {}
      },
      "source": [
        "X_all=X.copy()\n",
        "y_all=y.copy()\n",
        "clf_feature_selected=[]\n",
        "for clf in classifiers:\n",
        "    feature_selected=[]\n",
        "    for i in range(50):\n",
        "        randomize = np.arange(len(X_all))\n",
        "        np.random.shuffle(randomize)\n",
        "        X_all = X_all[randomize]\n",
        "        y_all = y_all[randomize]\n",
        "        for i,j in zip(range(0,X_all.shape[1],14),feature_list):\n",
        "            X_new=X_all[:,i:i+14]\n",
        "            y_new=y_all.copy()\n",
        "            X_train, X_test, y_train, y_test = train_test_split(X_new, y_all,test_size=0.2, random_state=42,stratify=y_all)\n",
        "            sc=StandardScaler()\n",
        "            X_train=sc.fit_transform(X_train)\n",
        "            X_test=sc.transform(X_test)\n",
        "\n",
        "            clf.fit(X_train,y_train)\n",
        "            y_pred = clf.predict(X_test)  \n",
        "            acc=metrics.accuracy_score(y_test, y_pred)\n",
        "      #print(\"Accuracy of \",j,metrics.accuracy_score(y_test, y_pred))\n",
        "            if acc>0.75:\n",
        "                feature_selected.append(j)\n",
        "    clf_feature_selected.append(feature_selected)        \n",
        " # print('-------------------------------------------------------------------')"
      ],
      "execution_count": 0,
      "outputs": []
    },
    {
      "cell_type": "code",
      "metadata": {
        "id": "7uX_2M1BxCMq",
        "colab_type": "code",
        "colab": {
          "base_uri": "https://localhost:8080/",
          "height": 170
        },
        "outputId": "3a0126ac-6a3a-4ccf-cdcb-399ede7256fb"
      },
      "source": [
        "\n",
        "clf_list=['KNN','SVM','DT','LR']\n",
        "from collections import Counter\n",
        "clf_count=[]\n",
        "for i,j in zip(range(4),clf_list):\n",
        "    feature_selected=clf_feature_selected[i]\n",
        "    count= {x:feature_selected.count(x) for x in feature_selected}\n",
        "    c = Counter(count)\n",
        "    #print(c.most_common())\n",
        "    #clf_count.append(c.most_common(10))\n",
        "    print('==================================================================================================')\n",
        "    print(j,c.most_common(10))"
      ],
      "execution_count": 75,
      "outputs": [
        {
          "output_type": "stream",
          "text": [
            "==================================================================================================\n",
            "KNN [('higuchi', 30), ('petrosian', 17), ('perm_epy', 15), ('hjorth_mobility', 13), ('app_epy', 13), ('katz', 11), ('svd_epy', 11), ('sample_epy', 10), ('skewness', 5), ('abs_diffs_signal', 5)]\n",
            "==================================================================================================\n",
            "SVM [('sample_epy', 35), ('katz', 35), ('svd_epy', 33), ('hjorth_mobility', 33), ('app_epy', 31), ('higuchi', 27), ('spectral_epy', 23), ('abs_diffs_signal', 21), ('hjorth_complexity', 17), ('petrosian', 9)]\n",
            "==================================================================================================\n",
            "DT [('higuchi', 8), ('skewness', 8), ('abs_diffs_signal', 6), ('hjorth_mobility', 5), ('mean_square', 4), ('hjorth_complexity', 4), ('svd_epy', 4), ('perm_epy', 4), ('var', 3), ('spectral_epy', 3)]\n",
            "==================================================================================================\n",
            "LR [('higuchi', 31), ('katz', 29), ('app_epy', 28), ('sample_epy', 28), ('svd_epy', 27), ('hjorth_mobility', 27), ('spectral_epy', 23), ('hjorth_complexity', 23), ('abs_diffs_signal', 20), ('petrosian', 13)]\n"
          ],
          "name": "stdout"
        }
      ]
    },
    {
      "cell_type": "code",
      "metadata": {
        "id": "ZJb3MBDVxIMf",
        "colab_type": "code",
        "colab": {}
      },
      "source": [
        "\n",
        "from collections import Counter\n",
        "clf_feature=[]\n",
        "for i in range(4):\n",
        "    feature_selected=clf_feature_selected[i]\n",
        "    count= {x:feature_selected.count(x) for x in feature_selected}\n",
        "    c = Counter(count)\n",
        "    c={k: v / total for total in (sum(c.values(), 0.0),) for k, v in c.items()}\n",
        "\n",
        "    for k,v in c.items():\n",
        "        if v>.1:\n",
        "            clf_feature.append(k)"
      ],
      "execution_count": 0,
      "outputs": []
    },
    {
      "cell_type": "code",
      "metadata": {
        "id": "ff_M_958xJeA",
        "colab_type": "code",
        "colab": {
          "base_uri": "https://localhost:8080/",
          "height": 87
        },
        "outputId": "3bc36a58-cb70-4e21-bc8e-3cad7de811cb"
      },
      "source": [
        "\n",
        "count= {x:clf_feature.count(x) for x in clf_feature}\n",
        "c = Counter(count)\n",
        "print(c.most_common())\n",
        "good_feature=[]\n",
        "for i in range(len(c.keys())):\n",
        "      good_feature.append(c.most_common()[i][0])\n",
        "print('===============================================================================================================')\n",
        "print(good_feature)"
      ],
      "execution_count": 77,
      "outputs": [
        {
          "output_type": "stream",
          "text": [
            "[('higuchi', 3), ('app_epy', 2), ('sample_epy', 2), ('katz', 2), ('perm_epy', 1), ('petrosian', 1), ('svd_epy', 1), ('hjorth_mobility', 1), ('abs_diffs_signal', 1), ('skewness', 1)]\n",
            "===============================================================================================================\n",
            "['higuchi', 'app_epy', 'sample_epy', 'katz', 'perm_epy', 'petrosian', 'svd_epy', 'hjorth_mobility', 'abs_diffs_signal', 'skewness']\n"
          ],
          "name": "stdout"
        }
      ]
    },
    {
      "cell_type": "code",
      "metadata": {
        "id": "Ksx9XancxN_l",
        "colab_type": "code",
        "colab": {
          "base_uri": "https://localhost:8080/",
          "height": 167
        },
        "outputId": "c7ee40ce-db14-41dc-946d-cab861be46ea"
      },
      "source": [
        "\n",
        "X_good=[]\n",
        "for key,val in zip(feature_list,range(0,X.shape[1],16)):\n",
        "    for fe in good_feature:\n",
        "        if key==fe:     \n",
        "            print('key',key,'value',val,\":\",val+16) \n",
        "            X_good.append(X[:,val:val+16])"
      ],
      "execution_count": 79,
      "outputs": [
        {
          "output_type": "stream",
          "text": [
            "key abs_diffs_signal value 128 : 144\n",
            "key skewness value 144 : 160\n",
            "key app_epy value 192 : 208\n",
            "key perm_epy value 208 : 224\n",
            "key svd_epy value 224 : 240\n",
            "key sample_epy value 256 : 272\n",
            "key katz value 272 : 288\n",
            "key higuchi value 288 : 304\n",
            "key petrosian value 304 : 320\n"
          ],
          "name": "stdout"
        }
      ]
    },
    {
      "cell_type": "code",
      "metadata": {
        "id": "j0fOCEyVxOcu",
        "colab_type": "code",
        "colab": {}
      },
      "source": [
        "\n",
        "X=np.concatenate((X_good),axis=1)\n"
      ],
      "execution_count": 0,
      "outputs": []
    },
    {
      "cell_type": "markdown",
      "metadata": {
        "id": "eFXMlK6y4nJl",
        "colab_type": "text"
      },
      "source": [
        "# Tuning"
      ]
    },
    {
      "cell_type": "code",
      "metadata": {
        "id": "NFHnpghp4ouW",
        "colab_type": "code",
        "outputId": "7521cfbf-0f09-47ed-e675-99cd4daa7dac",
        "colab": {
          "base_uri": "https://localhost:8080/",
          "height": 50
        }
      },
      "source": [
        "from sklearn.model_selection import GridSearchCV\n",
        "from sklearn.pipeline import Pipeline\n",
        "\n",
        "clf = SVC(kernel=\"rbf\")\n",
        "Cs = [ 1,2,3,5,7,10,15,30,50,70,100]\n",
        "gammas = [0.001,0.01,0.02,0.03,0.04,0.05,0.1,0.3,0.5,0.8,1]\n",
        "pipe = Pipeline(steps=[('scaler', sc), ('classifier', clf)])\n",
        "estimator = GridSearchCV(pipe,\n",
        "                         dict(classifier__C=Cs,classifier__gamma=gammas),cv=5,n_jobs=-1,iid=False) \n",
        "\n",
        "results = estimator.fit(X,y)\n",
        "print(results.best_score_ )\n",
        "results.best_params_"
      ],
      "execution_count": 81,
      "outputs": [
        {
          "output_type": "stream",
          "text": [
            "0.8135338345864662\n"
          ],
          "name": "stdout"
        },
        {
          "output_type": "execute_result",
          "data": {
            "text/plain": [
              "{'classifier__C': 3, 'classifier__gamma': 0.001}"
            ]
          },
          "metadata": {
            "tags": []
          },
          "execution_count": 81
        }
      ]
    },
    {
      "cell_type": "markdown",
      "metadata": {
        "id": "w1SPkcT15ctM",
        "colab_type": "text"
      },
      "source": [
        "### NuSVM"
      ]
    },
    {
      "cell_type": "code",
      "metadata": {
        "id": "oY8iAgrC5d4o",
        "colab_type": "code",
        "outputId": "62338436-f7df-4208-e058-a49aced773a6",
        "colab": {
          "base_uri": "https://localhost:8080/",
          "height": 50
        }
      },
      "source": [
        "from sklearn.svm import SVC, LinearSVC, NuSVC\n",
        "\n",
        "clf = NuSVC(kernel=\"rbf\")\n",
        "nu = [0.1,0.3,0.5,0.7]\n",
        "gammas = [0.001,0.01,0.02,0.03,0.04,0.05,0.1,0.3,0.5,0.8,1]\n",
        "pipe = Pipeline(steps=[('scaler', sc), ('classifier', clf)])\n",
        "estimator = GridSearchCV(pipe,\n",
        "                         dict(classifier__nu=nu,classifier__gamma=gammas),cv=5,n_jobs=-1,iid=False) \n",
        "\n",
        "results = estimator.fit(X,y)\n",
        "print(results.best_score_ )\n",
        "results.best_params_"
      ],
      "execution_count": 82,
      "outputs": [
        {
          "output_type": "stream",
          "text": [
            "0.8155388471177945\n"
          ],
          "name": "stdout"
        },
        {
          "output_type": "execute_result",
          "data": {
            "text/plain": [
              "{'classifier__gamma': 0.01, 'classifier__nu': 0.7}"
            ]
          },
          "metadata": {
            "tags": []
          },
          "execution_count": 82
        }
      ]
    },
    {
      "cell_type": "markdown",
      "metadata": {
        "id": "Cy_XSVAc5g7u",
        "colab_type": "text"
      },
      "source": [
        "### LR"
      ]
    },
    {
      "cell_type": "code",
      "metadata": {
        "id": "FY2EcC5w5h__",
        "colab_type": "code",
        "outputId": "00e6c318-cf27-43cc-8d5a-0393cd8b43cf",
        "colab": {
          "base_uri": "https://localhost:8080/",
          "height": 50
        }
      },
      "source": [
        "clf = LogisticRegression()\n",
        "C = [ 1,2,3,5,7,10,15,30,50,70,100]\n",
        "penalty=[\"l1\",\"l2\"]\n",
        "pipe = Pipeline(steps=[('scaler', sc), ('classifier', clf)])\n",
        "estimator = GridSearchCV(pipe,\n",
        "                         dict(classifier__C=C,classifier__penalty=penalty),cv=5,n_jobs=-1,iid=False) \n",
        "\n",
        "results = estimator.fit(X,y)\n",
        "print(results.best_score_ )\n",
        "results.best_params_"
      ],
      "execution_count": 83,
      "outputs": [
        {
          "output_type": "stream",
          "text": [
            "0.8145363408521302\n"
          ],
          "name": "stdout"
        },
        {
          "output_type": "execute_result",
          "data": {
            "text/plain": [
              "{'classifier__C': 1, 'classifier__penalty': 'l2'}"
            ]
          },
          "metadata": {
            "tags": []
          },
          "execution_count": 83
        }
      ]
    },
    {
      "cell_type": "markdown",
      "metadata": {
        "id": "DUCnuJK25bR-",
        "colab_type": "text"
      },
      "source": [
        "### KNN"
      ]
    },
    {
      "cell_type": "code",
      "metadata": {
        "id": "qmtHVZfA5Ooq",
        "colab_type": "code",
        "outputId": "d62e5603-0661-4e51-f329-7d6d15365e60",
        "colab": {
          "base_uri": "https://localhost:8080/",
          "height": 84
        }
      },
      "source": [
        "\n",
        "clf = KNeighborsClassifier()\n",
        "\n",
        "n_neighbors  = [ 3,4,5,6,7,8,9,11,13]\n",
        "weights  = ['uniform','distance']\n",
        "metric=['minkowski','manhattan','euclidean']\n",
        "pipe = Pipeline(steps=[('scaler', sc), ('classifier', clf)])\n",
        "estimator = GridSearchCV(pipe,\n",
        "                         dict(classifier__n_neighbors=n_neighbors,classifier__weights=weights,classifier__metric=metric),cv=5,n_jobs=-1,iid=False) \n",
        "results = estimator.fit(X,y)\n",
        "print(results.best_score_ )\n",
        "results.best_params_"
      ],
      "execution_count": 84,
      "outputs": [
        {
          "output_type": "stream",
          "text": [
            "0.775438596491228\n"
          ],
          "name": "stdout"
        },
        {
          "output_type": "execute_result",
          "data": {
            "text/plain": [
              "{'classifier__metric': 'manhattan',\n",
              " 'classifier__n_neighbors': 8,\n",
              " 'classifier__weights': 'distance'}"
            ]
          },
          "metadata": {
            "tags": []
          },
          "execution_count": 84
        }
      ]
    },
    {
      "cell_type": "markdown",
      "metadata": {
        "id": "F43mLml3DaEE",
        "colab_type": "text"
      },
      "source": [
        "# Cross Validation"
      ]
    },
    {
      "cell_type": "code",
      "metadata": {
        "id": "aPu2-pvOEE1G",
        "colab_type": "code",
        "colab": {}
      },
      "source": [
        "from sklearn.metrics import accuracy_score, log_loss\n",
        "from sklearn.neighbors import KNeighborsClassifier\n",
        "from sklearn.svm import SVC, LinearSVC, NuSVC\n",
        "from sklearn.tree import DecisionTreeClassifier\n",
        "from sklearn.ensemble import RandomForestClassifier, AdaBoostClassifier, GradientBoostingClassifier\n",
        "from sklearn.naive_bayes import GaussianNB\n",
        "from sklearn.discriminant_analysis import LinearDiscriminantAnalysis\n",
        "from sklearn.discriminant_analysis import QuadraticDiscriminantAnalysis\n",
        "from sklearn.linear_model import LogisticRegression\n",
        "import pandas as pd\n",
        "from sklearn.metrics import f1_score\n",
        "from sklearn.model_selection import cross_val_score"
      ],
      "execution_count": 0,
      "outputs": []
    },
    {
      "cell_type": "code",
      "metadata": {
        "id": "KqMYWYTSD5De",
        "colab_type": "code",
        "colab": {}
      },
      "source": [
        "classifiers = [\n",
        "    KNeighborsClassifier(n_neighbors=8,weights='distance',metric='manhattan'),\n",
        "    SVC(kernel=\"rbf\",C=3,gamma=0.001),\n",
        "    NuSVC(nu=0.7,gamma=0.001),\n",
        "    DecisionTreeClassifier(),\n",
        "    RandomForestClassifier(),\n",
        "    AdaBoostClassifier(),\n",
        "    GradientBoostingClassifier(),\n",
        "    GaussianNB(),\n",
        "    LinearDiscriminantAnalysis(),\n",
        "    QuadraticDiscriminantAnalysis(),\n",
        "    LogisticRegression(C=1,penalty='l2')]"
      ],
      "execution_count": 0,
      "outputs": []
    },
    {
      "cell_type": "code",
      "metadata": {
        "id": "SV8b98tzOKjM",
        "colab_type": "code",
        "colab": {}
      },
      "source": [
        "from sklearn.pipeline import Pipeline\n",
        "pipeline = Pipeline([('transformer', sc),('estimator', clf)])\n"
      ],
      "execution_count": 0,
      "outputs": []
    },
    {
      "cell_type": "code",
      "metadata": {
        "id": "KQqS9NjUD3Kc",
        "colab_type": "code",
        "outputId": "b51578b8-64e0-4241-c707-cdfad2b8037a",
        "colab": {
          "base_uri": "https://localhost:8080/",
          "height": 753
        }
      },
      "source": [
        "import warnings\n",
        "warnings.simplefilter(action='ignore', category=FutureWarning)\n",
        "\n",
        "accuracy=[]\n",
        "accuracy_std=[]\n",
        "f1_scores=[]\n",
        "f1_scores_std=[]\n",
        "for clfs in classifiers:\n",
        "    pipeline.set_params(estimator = clfs)\n",
        "    name = clfs.__class__.__name__\n",
        "    \n",
        "    print(\"=\"*30)\n",
        "    print(name)       \n",
        "    print('****Results****')\n",
        "    scores = cross_val_score(pipeline, X, y, cv=5)\n",
        "    #f1_score = cross_val_score(clf, X_rfe, y, cv=5,scoring='f1')\n",
        "    print(\"Accuracy: {:.4%}\".format(np.array(scores).mean()))\n",
        "    accuracy.append(np.array(scores).mean())\n",
        "    accuracy_std.append(np.array(scores).std())\n",
        "    #f1_scores.append(np.array(f1_score).mean())\n",
        "    #f1_scores_std.append(np.array(f1_score).std())\n"
      ],
      "execution_count": 87,
      "outputs": [
        {
          "output_type": "stream",
          "text": [
            "==============================\n",
            "KNeighborsClassifier\n",
            "****Results****\n",
            "Accuracy: 77.5439%\n",
            "==============================\n",
            "SVC\n",
            "****Results****\n",
            "Accuracy: 81.3534%\n",
            "==============================\n",
            "NuSVC\n",
            "****Results****\n",
            "Accuracy: 79.3484%\n",
            "==============================\n",
            "DecisionTreeClassifier\n",
            "****Results****\n",
            "Accuracy: 69.1228%\n",
            "==============================\n",
            "RandomForestClassifier\n",
            "****Results****\n",
            "Accuracy: 71.8797%\n",
            "==============================\n",
            "AdaBoostClassifier\n",
            "****Results****\n",
            "Accuracy: 74.0852%\n",
            "==============================\n",
            "GradientBoostingClassifier\n",
            "****Results****\n",
            "Accuracy: 70.9273%\n",
            "==============================\n",
            "GaussianNB\n",
            "****Results****\n",
            "Accuracy: 65.8647%\n",
            "==============================\n",
            "LinearDiscriminantAnalysis\n",
            "****Results****\n",
            "Accuracy: 70.1754%\n",
            "==============================\n",
            "QuadraticDiscriminantAnalysis\n",
            "****Results****\n",
            "Accuracy: 47.6190%\n",
            "==============================\n",
            "LogisticRegression\n",
            "****Results****\n",
            "Accuracy: 81.4536%\n"
          ],
          "name": "stdout"
        }
      ]
    },
    {
      "cell_type": "code",
      "metadata": {
        "id": "icpqu9V5D1EL",
        "colab_type": "code",
        "outputId": "8cb2e596-2ea6-4253-f847-d0dc6caed01f",
        "colab": {
          "base_uri": "https://localhost:8080/",
          "height": 297
        }
      },
      "source": [
        "import matplotlib.pyplot as plt\n",
        "classifier=['KNN','SVC','nuSCV','DT','RF','Ada','GB','NB','LDA','QDA','LR']\n",
        "y_pos = np.arange(len(classifier))\n",
        "plt.bar(y_pos,np.array(accuracy))\n",
        "plt.xticks(y_pos, classifier)\n",
        "plt.ylabel('Accuracy')\n",
        "plt.title('Classifiers')"
      ],
      "execution_count": 88,
      "outputs": [
        {
          "output_type": "execute_result",
          "data": {
            "text/plain": [
              "Text(0.5, 1.0, 'Classifiers')"
            ]
          },
          "metadata": {
            "tags": []
          },
          "execution_count": 88
        },
        {
          "output_type": "display_data",
          "data": {
            "image/png": "[encoded data removed]",
            "text/plain": [
              "<Figure size 432x288 with 1 Axes>"
            ]
          },
          "metadata": {
            "tags": []
          }
        }
      ]
    },
    {
      "cell_type": "markdown",
      "metadata": {
        "id": "VBDXxRp2O5kO",
        "colab_type": "text"
      },
      "source": [
        "# Principle Component Analysis"
      ]
    },
    {
      "cell_type": "code",
      "metadata": {
        "id": "qGWFC54TO44u",
        "colab_type": "code",
        "outputId": "fa9674a4-6a72-49eb-a11f-4b973a29e8e5",
        "colab": {
          "base_uri": "https://localhost:8080/",
          "height": 295
        }
      },
      "source": [
        "from sklearn.decomposition import PCA\n",
        "import matplotlib.pyplot as plt\n",
        "from sklearn.decomposition import KernelPCA\n",
        "from sklearn.model_selection import cross_val_score\n",
        "\n",
        "#Fitting the PCA algorithm with our Data\n",
        "pca = PCA().fit(X_train)\n",
        "#Plotting the Cumulative Summation of the Explained Variance\n",
        "plt.figure()\n",
        "plt.plot(np.cumsum(pca.explained_variance_ratio_))\n",
        "plt.xlabel('Number of Components')\n",
        "plt.ylabel('Variance (%)') #for each component\n",
        "plt.title('EEG')\n",
        "plt.show()"
      ],
      "execution_count": 89,
      "outputs": [
        {
          "output_type": "display_data",
          "data": {
            "image/png": "[encoded data removed]",
            "text/plain": [
              "<Figure size 432x288 with 1 Axes>"
            ]
          },
          "metadata": {
            "tags": []
          }
        }
      ]
    },
    {
      "cell_type": "code",
      "metadata": {
        "id": "SN4VeHRtO__B",
        "colab_type": "code",
        "colab": {}
      },
      "source": [
        "\n"
      ],
      "execution_count": 0,
      "outputs": []
    },
    {
      "cell_type": "code",
      "metadata": {
        "colab_type": "code",
        "id": "2vhCPXYMohbm",
        "colab": {}
      },
      "source": [
        "clf = SVC(kernel='rbf')\n",
        "pca = PCA(n_components=20)\n",
        "\n",
        "#pipeline = Pipeline([('selector',pca), ('estimator', clf)])\n",
        "pipeline = Pipeline([('transformer', sc),('selector',pca), ('estimator', clf)])\n"
      ],
      "execution_count": 0,
      "outputs": []
    },
    {
      "cell_type": "code",
      "metadata": {
        "colab_type": "code",
        "id": "mA0HWAG4ohbq",
        "outputId": "b5abe261-1272-49d1-91c2-f3860e56c4ef",
        "colab": {
          "base_uri": "https://localhost:8080/",
          "height": 753
        }
      },
      "source": [
        "\n",
        "import warnings\n",
        "warnings.simplefilter(action='ignore', category=FutureWarning)\n",
        "\n",
        "accuracy_pca=[]\n",
        "std_pca=[]\n",
        "f1_scores=[]\n",
        "f1_scores_std=[]\n",
        "for clfs in classifiers:\n",
        "    pipeline.set_params(estimator = clfs)\n",
        "    name = clfs.__class__.__name__\n",
        "    \n",
        "    print(\"=\"*30)\n",
        "    print(name)       \n",
        "    print('****Results****')\n",
        "    scores = cross_val_score(pipeline, X, y, cv=5)\n",
        "    #f1_score = cross_val_score(clf, X_rfe, y, cv=5,scoring='f1')\n",
        "    print(\"Accuracy: {:.4%}\".format(np.array(scores).mean()))\n",
        "    accuracy_pca.append(np.array(scores).mean())\n",
        "    std_pca.append(np.array(scores).std())\n",
        "    #f1_scores.append(np.array(f1_score).mean())\n",
        "    #f1_scores_std.append(np.array(f1_score).std())\n"
      ],
      "execution_count": 91,
      "outputs": [
        {
          "output_type": "stream",
          "text": [
            "==============================\n",
            "KNeighborsClassifier\n",
            "****Results****\n",
            "Accuracy: 72.1805%\n",
            "==============================\n",
            "SVC\n",
            "****Results****\n",
            "Accuracy: 80.4010%\n",
            "==============================\n",
            "NuSVC\n",
            "****Results****\n",
            "Accuracy: 80.3008%\n",
            "==============================\n",
            "DecisionTreeClassifier\n",
            "****Results****\n",
            "Accuracy: 71.2281%\n",
            "==============================\n",
            "RandomForestClassifier\n",
            "****Results****\n",
            "Accuracy: 66.0652%\n",
            "==============================\n",
            "AdaBoostClassifier\n",
            "****Results****\n",
            "Accuracy: 74.2857%\n",
            "==============================\n",
            "GradientBoostingClassifier\n",
            "****Results****\n",
            "Accuracy: 76.3910%\n",
            "==============================\n",
            "GaussianNB\n",
            "****Results****\n",
            "Accuracy: 79.2481%\n",
            "==============================\n",
            "LinearDiscriminantAnalysis\n",
            "****Results****\n",
            "Accuracy: 80.4010%\n",
            "==============================\n",
            "QuadraticDiscriminantAnalysis\n",
            "****Results****\n",
            "Accuracy: 77.3434%\n",
            "==============================\n",
            "LogisticRegression\n",
            "****Results****\n",
            "Accuracy: 81.4536%\n"
          ],
          "name": "stdout"
        }
      ]
    },
    {
      "cell_type": "code",
      "metadata": {
        "id": "kejMrjKwEC03",
        "colab_type": "code",
        "outputId": "c84f8845-11a0-458b-91c0-3b648ce1b563",
        "colab": {
          "base_uri": "https://localhost:8080/",
          "height": 50
        }
      },
      "source": [
        "from sklearn.model_selection import GridSearchCV\n",
        "\n",
        "clf = SVC(kernel=\"rbf\")\n",
        "n_components = [5,10,15,20]\n",
        "Cs = [0.001,0.1, 1,2,3,5,7,10,15,30]\n",
        "gammas = [0.001,0.01,0.02,0.03,0.04,0.05,0.1,0.3,0.5,0.8,1]\n",
        "pipe = Pipeline(steps=[('scalar',sc),('selector', pca), ('classifier', clf)])\n",
        "estimator = GridSearchCV(pipe,\n",
        "                         dict(selector__n_components=n_components,\n",
        "                              classifier__C=Cs,classifier__gamma=gammas),cv=5,n_jobs=-1,iid=False) \n",
        "\n",
        "results = estimator.fit(X,y)\n",
        "print(results.best_score_ )\n",
        "results.best_params_"
      ],
      "execution_count": 92,
      "outputs": [
        {
          "output_type": "stream",
          "text": [
            "0.8451127819548871\n"
          ],
          "name": "stdout"
        },
        {
          "output_type": "execute_result",
          "data": {
            "text/plain": [
              "{'classifier__C': 5, 'classifier__gamma': 0.01, 'selector__n_components': 15}"
            ]
          },
          "metadata": {
            "tags": []
          },
          "execution_count": 92
        }
      ]
    },
    {
      "cell_type": "code",
      "metadata": {
        "id": "c2PaVKiKhAyf",
        "colab_type": "code",
        "outputId": "f8cdabcd-04aa-4f24-ac90-4520dc37a863",
        "colab": {
          "base_uri": "https://localhost:8080/",
          "height": 100
        }
      },
      "source": [
        "from sklearn.model_selection import GridSearchCV\n",
        "\n",
        "clf = KNeighborsClassifier()\n",
        "n_components = [5,10,15,20]\n",
        "n_neighbors  = [ 3,4,5,6,7,8,9]\n",
        "weights  = ['uniform','distance']\n",
        "metric=['minkowski','manhattan','euclidean']\n",
        "pipe = Pipeline(steps=[('scalar',sc),('selector', pca), ('classifier', clf)])\n",
        "estimator = GridSearchCV(pipe,\n",
        "                         dict(selector__n_components=n_components,\n",
        "                              classifier__n_neighbors=n_neighbors,classifier__weights=weights,classifier__metric=metric),cv=5,n_jobs=-1,iid=False) \n",
        "\n",
        "results = estimator.fit(X,y)\n",
        "print(results.best_score_ )\n",
        "results.best_params_"
      ],
      "execution_count": 93,
      "outputs": [
        {
          "output_type": "stream",
          "text": [
            "0.7849624060150375\n"
          ],
          "name": "stdout"
        },
        {
          "output_type": "execute_result",
          "data": {
            "text/plain": [
              "{'classifier__metric': 'manhattan',\n",
              " 'classifier__n_neighbors': 6,\n",
              " 'classifier__weights': 'distance',\n",
              " 'selector__n_components': 15}"
            ]
          },
          "metadata": {
            "tags": []
          },
          "execution_count": 93
        }
      ]
    },
    {
      "cell_type": "markdown",
      "metadata": {
        "id": "34K17oX2kI3Z",
        "colab_type": "text"
      },
      "source": [
        "# RFE"
      ]
    },
    {
      "cell_type": "code",
      "metadata": {
        "id": "Effk-fW1km3b",
        "colab_type": "code",
        "colab": {}
      },
      "source": [
        "from sklearn.feature_selection import RFE"
      ],
      "execution_count": 0,
      "outputs": []
    },
    {
      "cell_type": "code",
      "metadata": {
        "id": "X3joTTYvkPfz",
        "colab_type": "code",
        "colab": {}
      },
      "source": [
        "\n",
        "clf = SVC(kernel='rbf')\n",
        "rfe=RFE(SVC(kernel='linear'),n_features_to_select=5,step=1,verbose=0)   \n",
        "\n",
        "#pipeline = Pipeline([('selector',rfe), ('estimator', clf)])\n",
        "pipeline = Pipeline([('transformer', sc),('selector',rfe), ('estimator', clf)])\n"
      ],
      "execution_count": 0,
      "outputs": []
    },
    {
      "cell_type": "code",
      "metadata": {
        "id": "S37vDSnpkpi-",
        "colab_type": "code",
        "outputId": "6a723719-1560-4b6f-c2c3-eddc340e4b67",
        "colab": {
          "base_uri": "https://localhost:8080/",
          "height": 753
        }
      },
      "source": [
        "\n",
        "import warnings\n",
        "warnings.simplefilter(action='ignore', category=FutureWarning)\n",
        "\n",
        "accuracy_rfe=[]\n",
        "std_rfe=[]\n",
        "f1_scores=[]\n",
        "f1_scores_std=[]\n",
        "for clfs in classifiers:\n",
        "    pipeline.set_params(estimator = clfs)\n",
        "    name = clfs.__class__.__name__\n",
        "    \n",
        "    print(\"=\"*30)\n",
        "    print(name)       \n",
        "    print('****Results****')\n",
        "    scores = cross_val_score(pipeline, X, y, cv=5)\n",
        "    #f1_score = cross_val_score(clf, X_rfe, y, cv=5,scoring='f1')\n",
        "    print(\"Accuracy: {:.4%}\".format(np.array(scores).mean()))\n",
        "    accuracy_rfe.append(np.array(scores).mean())\n",
        "    std_rfe.append(np.array(scores).std())\n",
        "    #f1_scores.append(np.array(f1_score).mean())\n",
        "    #f1_scores_std.append(np.array(f1_score).std())\n"
      ],
      "execution_count": 96,
      "outputs": [
        {
          "output_type": "stream",
          "text": [
            "==============================\n",
            "KNeighborsClassifier\n",
            "****Results****\n",
            "Accuracy: 64.0602%\n",
            "==============================\n",
            "SVC\n",
            "****Results****\n",
            "Accuracy: 54.5865%\n",
            "==============================\n",
            "NuSVC\n",
            "****Results****\n",
            "Accuracy: 73.3333%\n",
            "==============================\n",
            "DecisionTreeClassifier\n",
            "****Results****\n",
            "Accuracy: 60.8020%\n",
            "==============================\n",
            "RandomForestClassifier\n",
            "****Results****\n",
            "Accuracy: 66.8170%\n",
            "==============================\n",
            "AdaBoostClassifier\n",
            "****Results****\n",
            "Accuracy: 69.4236%\n",
            "==============================\n",
            "GradientBoostingClassifier\n",
            "****Results****\n",
            "Accuracy: 70.1754%\n",
            "==============================\n",
            "GaussianNB\n",
            "****Results****\n",
            "Accuracy: 62.8070%\n",
            "==============================\n",
            "LinearDiscriminantAnalysis\n",
            "****Results****\n",
            "Accuracy: 73.2331%\n",
            "==============================\n",
            "QuadraticDiscriminantAnalysis\n",
            "****Results****\n",
            "Accuracy: 67.0175%\n",
            "==============================\n",
            "LogisticRegression\n",
            "****Results****\n",
            "Accuracy: 74.2857%\n"
          ],
          "name": "stdout"
        }
      ]
    },
    {
      "cell_type": "markdown",
      "metadata": {
        "id": "v5yNkL4arI5Z",
        "colab_type": "text"
      },
      "source": [
        "# SKbest"
      ]
    },
    {
      "cell_type": "code",
      "metadata": {
        "id": "-5wEC_ForKGR",
        "colab_type": "code",
        "colab": {}
      },
      "source": [
        "from sklearn.feature_selection import SelectKBest\n",
        "from sklearn.feature_selection import f_classif\n"
      ],
      "execution_count": 0,
      "outputs": []
    },
    {
      "cell_type": "code",
      "metadata": {
        "colab_type": "code",
        "id": "r5vNJstWrtCD",
        "colab": {}
      },
      "source": [
        "\n",
        "clf = SVC(kernel='rbf')\n",
        "skbest=SelectKBest(f_classif, k=10)\n",
        "#pipeline = Pipeline([('selector',skbest), ('estimator', clf)])\n",
        "pipeline = Pipeline([('transformer', sc),('selector',rfe), ('estimator', clf)])\n"
      ],
      "execution_count": 0,
      "outputs": []
    },
    {
      "cell_type": "code",
      "metadata": {
        "colab_type": "code",
        "id": "4VS9cTTirtCH",
        "outputId": "97103eb8-b581-41d7-de22-9b5fb2828ea7",
        "colab": {
          "base_uri": "https://localhost:8080/",
          "height": 753
        }
      },
      "source": [
        "\n",
        "import warnings\n",
        "warnings.simplefilter(action='ignore', category=FutureWarning)\n",
        "\n",
        "accuracy_kbest=[]\n",
        "std_kbest=[]\n",
        "f1_scores=[]\n",
        "f1_scores_std=[]\n",
        "for clfs in classifiers:\n",
        "    pipeline.set_params(estimator = clfs)\n",
        "    name = clfs.__class__.__name__\n",
        "    \n",
        "    print(\"=\"*30)\n",
        "    print(name)       \n",
        "    print('****Results****')\n",
        "    scores = cross_val_score(pipeline, X, y, cv=5)\n",
        "    #f1_score = cross_val_score(clf, X_rfe, y, cv=5,scoring='f1')\n",
        "    print(\"Accuracy: {:.4%}\".format(np.array(scores).mean()))\n",
        "    accuracy_kbest.append(np.array(scores).mean())\n",
        "    std_kbest.append(np.array(scores).std())\n",
        "    #f1_scores.append(np.array(f1_score).mean())\n",
        "    #f1_scores_std.append(np.array(f1_score).std())\n"
      ],
      "execution_count": 99,
      "outputs": [
        {
          "output_type": "stream",
          "text": [
            "==============================\n",
            "KNeighborsClassifier\n",
            "****Results****\n",
            "Accuracy: 64.0602%\n",
            "==============================\n",
            "SVC\n",
            "****Results****\n",
            "Accuracy: 54.5865%\n",
            "==============================\n",
            "NuSVC\n",
            "****Results****\n",
            "Accuracy: 73.3333%\n",
            "==============================\n",
            "DecisionTreeClassifier\n",
            "****Results****\n",
            "Accuracy: 58.5965%\n",
            "==============================\n",
            "RandomForestClassifier\n",
            "****Results****\n",
            "Accuracy: 74.2857%\n",
            "==============================\n",
            "AdaBoostClassifier\n",
            "****Results****\n",
            "Accuracy: 69.4236%\n",
            "==============================\n",
            "GradientBoostingClassifier\n",
            "****Results****\n",
            "Accuracy: 70.1754%\n",
            "==============================\n",
            "GaussianNB\n",
            "****Results****\n",
            "Accuracy: 62.8070%\n",
            "==============================\n",
            "LinearDiscriminantAnalysis\n",
            "****Results****\n",
            "Accuracy: 73.2331%\n",
            "==============================\n",
            "QuadraticDiscriminantAnalysis\n",
            "****Results****\n",
            "Accuracy: 67.0175%\n",
            "==============================\n",
            "LogisticRegression\n",
            "****Results****\n",
            "Accuracy: 74.2857%\n"
          ],
          "name": "stdout"
        }
      ]
    },
    {
      "cell_type": "code",
      "metadata": {
        "id": "Wbl3_Cs9rnNh",
        "colab_type": "code",
        "colab": {}
      },
      "source": [
        ""
      ],
      "execution_count": 0,
      "outputs": []
    },
    {
      "cell_type": "markdown",
      "metadata": {
        "id": "N40_Zc8nsiU3",
        "colab_type": "text"
      },
      "source": [
        "# VarianceThreshold"
      ]
    },
    {
      "cell_type": "code",
      "metadata": {
        "colab_type": "code",
        "id": "hqPon3DushYn",
        "colab": {}
      },
      "source": [
        "from sklearn.feature_selection import VarianceThreshold\n",
        "clf = SVC(kernel='rbf')\n",
        "selector = VarianceThreshold(0.05)\n",
        "#pipeline = Pipeline([('selector',algo), ('estimator', clf)])\n",
        "pipeline = Pipeline([('transformer', sc),('selector',selector), ('estimator', clf)])\n"
      ],
      "execution_count": 0,
      "outputs": []
    },
    {
      "cell_type": "code",
      "metadata": {
        "colab_type": "code",
        "id": "zH6sK58CshYp",
        "outputId": "f00305f6-7adf-4c39-f592-32332238aca3",
        "colab": {
          "base_uri": "https://localhost:8080/",
          "height": 753
        }
      },
      "source": [
        "\n",
        "import warnings\n",
        "warnings.simplefilter(action='ignore', category=FutureWarning)\n",
        "\n",
        "accuracy_var=[]\n",
        "std_var=[]\n",
        "f1_scores=[]\n",
        "f1_scores_std=[]\n",
        "for clfs in classifiers:\n",
        "    pipeline.set_params(estimator = clfs)\n",
        "    name = clfs.__class__.__name__\n",
        "    \n",
        "    print(\"=\"*30)\n",
        "    print(name)       \n",
        "    print('****Results****')\n",
        "    scores = cross_val_score(pipeline, X, y, cv=5)\n",
        "    #f1_score = cross_val_score(clf, X_rfe, y, cv=5,scoring='f1')\n",
        "    print(\"Accuracy: {:.4%}\".format(np.array(scores).mean()))\n",
        "    accuracy_var.append(np.array(scores).mean())\n",
        "    std_var.append(np.array(scores).std())\n",
        "    #f1_scores.append(np.array(f1_score).mean())\n",
        "    #f1_scores_std.append(np.array(f1_score).std())\n"
      ],
      "execution_count": 101,
      "outputs": [
        {
          "output_type": "stream",
          "text": [
            "==============================\n",
            "KNeighborsClassifier\n",
            "****Results****\n",
            "Accuracy: 77.5439%\n",
            "==============================\n",
            "SVC\n",
            "****Results****\n",
            "Accuracy: 81.3534%\n",
            "==============================\n",
            "NuSVC\n",
            "****Results****\n",
            "Accuracy: 79.3484%\n",
            "==============================\n",
            "DecisionTreeClassifier\n",
            "****Results****\n",
            "Accuracy: 67.8697%\n",
            "==============================\n",
            "RandomForestClassifier\n",
            "****Results****\n",
            "Accuracy: 71.9799%\n",
            "==============================\n",
            "AdaBoostClassifier\n",
            "****Results****\n",
            "Accuracy: 74.0852%\n",
            "==============================\n",
            "GradientBoostingClassifier\n",
            "****Results****\n",
            "Accuracy: 68.9223%\n",
            "==============================\n",
            "GaussianNB\n",
            "****Results****\n",
            "Accuracy: 65.8647%\n",
            "==============================\n",
            "LinearDiscriminantAnalysis\n",
            "****Results****\n",
            "Accuracy: 70.1754%\n",
            "==============================\n",
            "QuadraticDiscriminantAnalysis\n",
            "****Results****\n",
            "Accuracy: 47.6190%\n",
            "==============================\n",
            "LogisticRegression\n",
            "****Results****\n",
            "Accuracy: 81.4536%\n"
          ],
          "name": "stdout"
        }
      ]
    },
    {
      "cell_type": "markdown",
      "metadata": {
        "id": "utsqZIs_qvKn",
        "colab_type": "text"
      },
      "source": [
        "# Result"
      ]
    },
    {
      "cell_type": "code",
      "metadata": {
        "id": "X9-EzT5grnQp",
        "colab_type": "code",
        "outputId": "c51564ff-1322-43d6-ff93-b3abdccb67e7",
        "colab": {
          "base_uri": "https://localhost:8080/",
          "height": 33
        }
      },
      "source": [
        "len(accuracy),len(accuracy_pca),len(accuracy_rfe),len(accuracy_kbest),len(accuracy_var)"
      ],
      "execution_count": 102,
      "outputs": [
        {
          "output_type": "execute_result",
          "data": {
            "text/plain": [
              "(11, 11, 11, 11, 11)"
            ]
          },
          "metadata": {
            "tags": []
          },
          "execution_count": 102
        }
      ]
    },
    {
      "cell_type": "code",
      "metadata": {
        "id": "mtlBCPBtZjDm",
        "colab_type": "code",
        "colab": {}
      },
      "source": [
        "result=pd.DataFrame([accuracy,accuracy_pca,accuracy_rfe,accuracy_kbest,accuracy_var],\n",
        "                    index=['Accuracy','PCA',\"RFE\",'kbest','VAR'],\n",
        "                    columns=['KNN','SVC','nuSCV','DT','RF','Ada','GB','NB','LDA','QDA','LR'])"
      ],
      "execution_count": 0,
      "outputs": []
    },
    {
      "cell_type": "code",
      "metadata": {
        "id": "oDxtmxamaD9y",
        "colab_type": "code",
        "colab": {}
      },
      "source": [
        "result=result.T"
      ],
      "execution_count": 0,
      "outputs": []
    },
    {
      "cell_type": "code",
      "metadata": {
        "id": "H2iNzVqt8m7j",
        "colab_type": "code",
        "outputId": "cad17c90-9716-4afc-f789-eee588ac369e",
        "colab": {
          "base_uri": "https://localhost:8080/",
          "height": 254
        }
      },
      "source": [
        "\n",
        "def _color_red_or_green(val):\n",
        "    color = 'red' if val < 0.7 else 'green'\n",
        "    return 'color: %s' % color\n",
        "result.style.applymap(_color_red_or_green)"
      ],
      "execution_count": 105,
      "outputs": [
        {
          "output_type": "execute_result",
          "data": {
            "text/html": [
              "<style  type=\"text/css\" >\n",
              "    #T_273fc85e_1c33_11ea_bec5_0242ac1c0002row0_col0 {\n",
              "            color:  green;\n",
              "        }    #T_273fc85e_1c33_11ea_bec5_0242ac1c0002row0_col1 {\n",
              "            color:  green;\n",
              "        }    #T_273fc85e_1c33_11ea_bec5_0242ac1c0002row0_col2 {\n",
              "            color:  red;\n",
              "        }    #T_273fc85e_1c33_11ea_bec5_0242ac1c0002row0_col3 {\n",
              "            color:  red;\n",
              "        }    #T_273fc85e_1c33_11ea_bec5_0242ac1c0002row0_col4 {\n",
              "            color:  green;\n",
              "        }    #T_273fc85e_1c33_11ea_bec5_0242ac1c0002row1_col0 {\n",
              "            color:  green;\n",
              "        }    #T_273fc85e_1c33_11ea_bec5_0242ac1c0002row1_col1 {\n",
              "            color:  green;\n",
              "        }    #T_273fc85e_1c33_11ea_bec5_0242ac1c0002row1_col2 {\n",
              "            color:  red;\n",
              "        }    #T_273fc85e_1c33_11ea_bec5_0242ac1c0002row1_col3 {\n",
              "            color:  red;\n",
              "        }    #T_273fc85e_1c33_11ea_bec5_0242ac1c0002row1_col4 {\n",
              "            color:  green;\n",
              "        }    #T_273fc85e_1c33_11ea_bec5_0242ac1c0002row2_col0 {\n",
              "            color:  green;\n",
              "        }    #T_273fc85e_1c33_11ea_bec5_0242ac1c0002row2_col1 {\n",
              "            color:  green;\n",
              "        }    #T_273fc85e_1c33_11ea_bec5_0242ac1c0002row2_col2 {\n",
              "            color:  green;\n",
              "        }    #T_273fc85e_1c33_11ea_bec5_0242ac1c0002row2_col3 {\n",
              "            color:  green;\n",
              "        }    #T_273fc85e_1c33_11ea_bec5_0242ac1c0002row2_col4 {\n",
              "            color:  green;\n",
              "        }    #T_273fc85e_1c33_11ea_bec5_0242ac1c0002row3_col0 {\n",
              "            color:  red;\n",
              "        }    #T_273fc85e_1c33_11ea_bec5_0242ac1c0002row3_col1 {\n",
              "            color:  green;\n",
              "        }    #T_273fc85e_1c33_11ea_bec5_0242ac1c0002row3_col2 {\n",
              "            color:  red;\n",
              "        }    #T_273fc85e_1c33_11ea_bec5_0242ac1c0002row3_col3 {\n",
              "            color:  red;\n",
              "        }    #T_273fc85e_1c33_11ea_bec5_0242ac1c0002row3_col4 {\n",
              "            color:  red;\n",
              "        }    #T_273fc85e_1c33_11ea_bec5_0242ac1c0002row4_col0 {\n",
              "            color:  green;\n",
              "        }    #T_273fc85e_1c33_11ea_bec5_0242ac1c0002row4_col1 {\n",
              "            color:  red;\n",
              "        }    #T_273fc85e_1c33_11ea_bec5_0242ac1c0002row4_col2 {\n",
              "            color:  red;\n",
              "        }    #T_273fc85e_1c33_11ea_bec5_0242ac1c0002row4_col3 {\n",
              "            color:  green;\n",
              "        }    #T_273fc85e_1c33_11ea_bec5_0242ac1c0002row4_col4 {\n",
              "            color:  green;\n",
              "        }    #T_273fc85e_1c33_11ea_bec5_0242ac1c0002row5_col0 {\n",
              "            color:  green;\n",
              "        }    #T_273fc85e_1c33_11ea_bec5_0242ac1c0002row5_col1 {\n",
              "            color:  green;\n",
              "        }    #T_273fc85e_1c33_11ea_bec5_0242ac1c0002row5_col2 {\n",
              "            color:  red;\n",
              "        }    #T_273fc85e_1c33_11ea_bec5_0242ac1c0002row5_col3 {\n",
              "            color:  red;\n",
              "        }    #T_273fc85e_1c33_11ea_bec5_0242ac1c0002row5_col4 {\n",
              "            color:  green;\n",
              "        }    #T_273fc85e_1c33_11ea_bec5_0242ac1c0002row6_col0 {\n",
              "            color:  green;\n",
              "        }    #T_273fc85e_1c33_11ea_bec5_0242ac1c0002row6_col1 {\n",
              "            color:  green;\n",
              "        }    #T_273fc85e_1c33_11ea_bec5_0242ac1c0002row6_col2 {\n",
              "            color:  green;\n",
              "        }    #T_273fc85e_1c33_11ea_bec5_0242ac1c0002row6_col3 {\n",
              "            color:  green;\n",
              "        }    #T_273fc85e_1c33_11ea_bec5_0242ac1c0002row6_col4 {\n",
              "            color:  red;\n",
              "        }    #T_273fc85e_1c33_11ea_bec5_0242ac1c0002row7_col0 {\n",
              "            color:  red;\n",
              "        }    #T_273fc85e_1c33_11ea_bec5_0242ac1c0002row7_col1 {\n",
              "            color:  green;\n",
              "        }    #T_273fc85e_1c33_11ea_bec5_0242ac1c0002row7_col2 {\n",
              "            color:  red;\n",
              "        }    #T_273fc85e_1c33_11ea_bec5_0242ac1c0002row7_col3 {\n",
              "            color:  red;\n",
              "        }    #T_273fc85e_1c33_11ea_bec5_0242ac1c0002row7_col4 {\n",
              "            color:  red;\n",
              "        }    #T_273fc85e_1c33_11ea_bec5_0242ac1c0002row8_col0 {\n",
              "            color:  green;\n",
              "        }    #T_273fc85e_1c33_11ea_bec5_0242ac1c0002row8_col1 {\n",
              "            color:  green;\n",
              "        }    #T_273fc85e_1c33_11ea_bec5_0242ac1c0002row8_col2 {\n",
              "            color:  green;\n",
              "        }    #T_273fc85e_1c33_11ea_bec5_0242ac1c0002row8_col3 {\n",
              "            color:  green;\n",
              "        }    #T_273fc85e_1c33_11ea_bec5_0242ac1c0002row8_col4 {\n",
              "            color:  green;\n",
              "        }    #T_273fc85e_1c33_11ea_bec5_0242ac1c0002row9_col0 {\n",
              "            color:  red;\n",
              "        }    #T_273fc85e_1c33_11ea_bec5_0242ac1c0002row9_col1 {\n",
              "            color:  green;\n",
              "        }    #T_273fc85e_1c33_11ea_bec5_0242ac1c0002row9_col2 {\n",
              "            color:  red;\n",
              "        }    #T_273fc85e_1c33_11ea_bec5_0242ac1c0002row9_col3 {\n",
              "            color:  red;\n",
              "        }    #T_273fc85e_1c33_11ea_bec5_0242ac1c0002row9_col4 {\n",
              "            color:  red;\n",
              "        }    #T_273fc85e_1c33_11ea_bec5_0242ac1c0002row10_col0 {\n",
              "            color:  green;\n",
              "        }    #T_273fc85e_1c33_11ea_bec5_0242ac1c0002row10_col1 {\n",
              "            color:  green;\n",
              "        }    #T_273fc85e_1c33_11ea_bec5_0242ac1c0002row10_col2 {\n",
              "            color:  green;\n",
              "        }    #T_273fc85e_1c33_11ea_bec5_0242ac1c0002row10_col3 {\n",
              "            color:  green;\n",
              "        }    #T_273fc85e_1c33_11ea_bec5_0242ac1c0002row10_col4 {\n",
              "            color:  green;\n",
              "        }</style><table id=\"T_273fc85e_1c33_11ea_bec5_0242ac1c0002\" ><thead>    <tr>        <th class=\"blank level0\" ></th>        <th class=\"col_heading level0 col0\" >Accuracy</th>        <th class=\"col_heading level0 col1\" >PCA</th>        <th class=\"col_heading level0 col2\" >RFE</th>        <th class=\"col_heading level0 col3\" >kbest</th>        <th class=\"col_heading level0 col4\" >VAR</th>    </tr></thead><tbody>\n",
              "                <tr>\n",
              "                        <th id=\"T_273fc85e_1c33_11ea_bec5_0242ac1c0002level0_row0\" class=\"row_heading level0 row0\" >KNN</th>\n",
              "                        <td id=\"T_273fc85e_1c33_11ea_bec5_0242ac1c0002row0_col0\" class=\"data row0 col0\" >0.775439</td>\n",
              "                        <td id=\"T_273fc85e_1c33_11ea_bec5_0242ac1c0002row0_col1\" class=\"data row0 col1\" >0.721805</td>\n",
              "                        <td id=\"T_273fc85e_1c33_11ea_bec5_0242ac1c0002row0_col2\" class=\"data row0 col2\" >0.640602</td>\n",
              "                        <td id=\"T_273fc85e_1c33_11ea_bec5_0242ac1c0002row0_col3\" class=\"data row0 col3\" >0.640602</td>\n",
              "                        <td id=\"T_273fc85e_1c33_11ea_bec5_0242ac1c0002row0_col4\" class=\"data row0 col4\" >0.775439</td>\n",
              "            </tr>\n",
              "            <tr>\n",
              "                        <th id=\"T_273fc85e_1c33_11ea_bec5_0242ac1c0002level0_row1\" class=\"row_heading level0 row1\" >SVC</th>\n",
              "                        <td id=\"T_273fc85e_1c33_11ea_bec5_0242ac1c0002row1_col0\" class=\"data row1 col0\" >0.813534</td>\n",
              "                        <td id=\"T_273fc85e_1c33_11ea_bec5_0242ac1c0002row1_col1\" class=\"data row1 col1\" >0.80401</td>\n",
              "                        <td id=\"T_273fc85e_1c33_11ea_bec5_0242ac1c0002row1_col2\" class=\"data row1 col2\" >0.545865</td>\n",
              "                        <td id=\"T_273fc85e_1c33_11ea_bec5_0242ac1c0002row1_col3\" class=\"data row1 col3\" >0.545865</td>\n",
              "                        <td id=\"T_273fc85e_1c33_11ea_bec5_0242ac1c0002row1_col4\" class=\"data row1 col4\" >0.813534</td>\n",
              "            </tr>\n",
              "            <tr>\n",
              "                        <th id=\"T_273fc85e_1c33_11ea_bec5_0242ac1c0002level0_row2\" class=\"row_heading level0 row2\" >nuSCV</th>\n",
              "                        <td id=\"T_273fc85e_1c33_11ea_bec5_0242ac1c0002row2_col0\" class=\"data row2 col0\" >0.793484</td>\n",
              "                        <td id=\"T_273fc85e_1c33_11ea_bec5_0242ac1c0002row2_col1\" class=\"data row2 col1\" >0.803008</td>\n",
              "                        <td id=\"T_273fc85e_1c33_11ea_bec5_0242ac1c0002row2_col2\" class=\"data row2 col2\" >0.733333</td>\n",
              "                        <td id=\"T_273fc85e_1c33_11ea_bec5_0242ac1c0002row2_col3\" class=\"data row2 col3\" >0.733333</td>\n",
              "                        <td id=\"T_273fc85e_1c33_11ea_bec5_0242ac1c0002row2_col4\" class=\"data row2 col4\" >0.793484</td>\n",
              "            </tr>\n",
              "            <tr>\n",
              "                        <th id=\"T_273fc85e_1c33_11ea_bec5_0242ac1c0002level0_row3\" class=\"row_heading level0 row3\" >DT</th>\n",
              "                        <td id=\"T_273fc85e_1c33_11ea_bec5_0242ac1c0002row3_col0\" class=\"data row3 col0\" >0.691228</td>\n",
              "                        <td id=\"T_273fc85e_1c33_11ea_bec5_0242ac1c0002row3_col1\" class=\"data row3 col1\" >0.712281</td>\n",
              "                        <td id=\"T_273fc85e_1c33_11ea_bec5_0242ac1c0002row3_col2\" class=\"data row3 col2\" >0.60802</td>\n",
              "                        <td id=\"T_273fc85e_1c33_11ea_bec5_0242ac1c0002row3_col3\" class=\"data row3 col3\" >0.585965</td>\n",
              "                        <td id=\"T_273fc85e_1c33_11ea_bec5_0242ac1c0002row3_col4\" class=\"data row3 col4\" >0.678697</td>\n",
              "            </tr>\n",
              "            <tr>\n",
              "                        <th id=\"T_273fc85e_1c33_11ea_bec5_0242ac1c0002level0_row4\" class=\"row_heading level0 row4\" >RF</th>\n",
              "                        <td id=\"T_273fc85e_1c33_11ea_bec5_0242ac1c0002row4_col0\" class=\"data row4 col0\" >0.718797</td>\n",
              "                        <td id=\"T_273fc85e_1c33_11ea_bec5_0242ac1c0002row4_col1\" class=\"data row4 col1\" >0.660652</td>\n",
              "                        <td id=\"T_273fc85e_1c33_11ea_bec5_0242ac1c0002row4_col2\" class=\"data row4 col2\" >0.66817</td>\n",
              "                        <td id=\"T_273fc85e_1c33_11ea_bec5_0242ac1c0002row4_col3\" class=\"data row4 col3\" >0.742857</td>\n",
              "                        <td id=\"T_273fc85e_1c33_11ea_bec5_0242ac1c0002row4_col4\" class=\"data row4 col4\" >0.719799</td>\n",
              "            </tr>\n",
              "            <tr>\n",
              "                        <th id=\"T_273fc85e_1c33_11ea_bec5_0242ac1c0002level0_row5\" class=\"row_heading level0 row5\" >Ada</th>\n",
              "                        <td id=\"T_273fc85e_1c33_11ea_bec5_0242ac1c0002row5_col0\" class=\"data row5 col0\" >0.740852</td>\n",
              "                        <td id=\"T_273fc85e_1c33_11ea_bec5_0242ac1c0002row5_col1\" class=\"data row5 col1\" >0.742857</td>\n",
              "                        <td id=\"T_273fc85e_1c33_11ea_bec5_0242ac1c0002row5_col2\" class=\"data row5 col2\" >0.694236</td>\n",
              "                        <td id=\"T_273fc85e_1c33_11ea_bec5_0242ac1c0002row5_col3\" class=\"data row5 col3\" >0.694236</td>\n",
              "                        <td id=\"T_273fc85e_1c33_11ea_bec5_0242ac1c0002row5_col4\" class=\"data row5 col4\" >0.740852</td>\n",
              "            </tr>\n",
              "            <tr>\n",
              "                        <th id=\"T_273fc85e_1c33_11ea_bec5_0242ac1c0002level0_row6\" class=\"row_heading level0 row6\" >GB</th>\n",
              "                        <td id=\"T_273fc85e_1c33_11ea_bec5_0242ac1c0002row6_col0\" class=\"data row6 col0\" >0.709273</td>\n",
              "                        <td id=\"T_273fc85e_1c33_11ea_bec5_0242ac1c0002row6_col1\" class=\"data row6 col1\" >0.76391</td>\n",
              "                        <td id=\"T_273fc85e_1c33_11ea_bec5_0242ac1c0002row6_col2\" class=\"data row6 col2\" >0.701754</td>\n",
              "                        <td id=\"T_273fc85e_1c33_11ea_bec5_0242ac1c0002row6_col3\" class=\"data row6 col3\" >0.701754</td>\n",
              "                        <td id=\"T_273fc85e_1c33_11ea_bec5_0242ac1c0002row6_col4\" class=\"data row6 col4\" >0.689223</td>\n",
              "            </tr>\n",
              "            <tr>\n",
              "                        <th id=\"T_273fc85e_1c33_11ea_bec5_0242ac1c0002level0_row7\" class=\"row_heading level0 row7\" >NB</th>\n",
              "                        <td id=\"T_273fc85e_1c33_11ea_bec5_0242ac1c0002row7_col0\" class=\"data row7 col0\" >0.658647</td>\n",
              "                        <td id=\"T_273fc85e_1c33_11ea_bec5_0242ac1c0002row7_col1\" class=\"data row7 col1\" >0.792481</td>\n",
              "                        <td id=\"T_273fc85e_1c33_11ea_bec5_0242ac1c0002row7_col2\" class=\"data row7 col2\" >0.62807</td>\n",
              "                        <td id=\"T_273fc85e_1c33_11ea_bec5_0242ac1c0002row7_col3\" class=\"data row7 col3\" >0.62807</td>\n",
              "                        <td id=\"T_273fc85e_1c33_11ea_bec5_0242ac1c0002row7_col4\" class=\"data row7 col4\" >0.658647</td>\n",
              "            </tr>\n",
              "            <tr>\n",
              "                        <th id=\"T_273fc85e_1c33_11ea_bec5_0242ac1c0002level0_row8\" class=\"row_heading level0 row8\" >LDA</th>\n",
              "                        <td id=\"T_273fc85e_1c33_11ea_bec5_0242ac1c0002row8_col0\" class=\"data row8 col0\" >0.701754</td>\n",
              "                        <td id=\"T_273fc85e_1c33_11ea_bec5_0242ac1c0002row8_col1\" class=\"data row8 col1\" >0.80401</td>\n",
              "                        <td id=\"T_273fc85e_1c33_11ea_bec5_0242ac1c0002row8_col2\" class=\"data row8 col2\" >0.732331</td>\n",
              "                        <td id=\"T_273fc85e_1c33_11ea_bec5_0242ac1c0002row8_col3\" class=\"data row8 col3\" >0.732331</td>\n",
              "                        <td id=\"T_273fc85e_1c33_11ea_bec5_0242ac1c0002row8_col4\" class=\"data row8 col4\" >0.701754</td>\n",
              "            </tr>\n",
              "            <tr>\n",
              "                        <th id=\"T_273fc85e_1c33_11ea_bec5_0242ac1c0002level0_row9\" class=\"row_heading level0 row9\" >QDA</th>\n",
              "                        <td id=\"T_273fc85e_1c33_11ea_bec5_0242ac1c0002row9_col0\" class=\"data row9 col0\" >0.47619</td>\n",
              "                        <td id=\"T_273fc85e_1c33_11ea_bec5_0242ac1c0002row9_col1\" class=\"data row9 col1\" >0.773434</td>\n",
              "                        <td id=\"T_273fc85e_1c33_11ea_bec5_0242ac1c0002row9_col2\" class=\"data row9 col2\" >0.670175</td>\n",
              "                        <td id=\"T_273fc85e_1c33_11ea_bec5_0242ac1c0002row9_col3\" class=\"data row9 col3\" >0.670175</td>\n",
              "                        <td id=\"T_273fc85e_1c33_11ea_bec5_0242ac1c0002row9_col4\" class=\"data row9 col4\" >0.47619</td>\n",
              "            </tr>\n",
              "            <tr>\n",
              "                        <th id=\"T_273fc85e_1c33_11ea_bec5_0242ac1c0002level0_row10\" class=\"row_heading level0 row10\" >LR</th>\n",
              "                        <td id=\"T_273fc85e_1c33_11ea_bec5_0242ac1c0002row10_col0\" class=\"data row10 col0\" >0.814536</td>\n",
              "                        <td id=\"T_273fc85e_1c33_11ea_bec5_0242ac1c0002row10_col1\" class=\"data row10 col1\" >0.814536</td>\n",
              "                        <td id=\"T_273fc85e_1c33_11ea_bec5_0242ac1c0002row10_col2\" class=\"data row10 col2\" >0.742857</td>\n",
              "                        <td id=\"T_273fc85e_1c33_11ea_bec5_0242ac1c0002row10_col3\" class=\"data row10 col3\" >0.742857</td>\n",
              "                        <td id=\"T_273fc85e_1c33_11ea_bec5_0242ac1c0002row10_col4\" class=\"data row10 col4\" >0.814536</td>\n",
              "            </tr>\n",
              "    </tbody></table>"
            ],
            "text/plain": [
              "<pandas.io.formats.style.Styler at 0x7f023c2c3128>"
            ]
          },
          "metadata": {
            "tags": []
          },
          "execution_count": 105
        }
      ]
    },
    {
      "cell_type": "code",
      "metadata": {
        "id": "0-IOzjP1bGBu",
        "colab_type": "code",
        "colab": {}
      },
      "source": [
        "#Higest accuracy 90% check PCA section or following code"
      ],
      "execution_count": 0,
      "outputs": []
    },
    {
      "cell_type": "code",
      "metadata": {
        "id": "8S4U4CGD_WcU",
        "colab_type": "code",
        "colab": {}
      },
      "source": [
        "clf = SVC(kernel='rbf',C=2,gamma=0.3)\n",
        "pca = PCA(n_components=20)\n",
        "pipeline = Pipeline([('transformer', sc),('selector',pca), ('estimator', clf)])\n",
        "scores = cross_val_score(pipeline, X, y, cv=5)"
      ],
      "execution_count": 0,
      "outputs": []
    },
    {
      "cell_type": "code",
      "metadata": {
        "id": "_bOywZFQ_ijh",
        "colab_type": "code",
        "outputId": "009f4b8d-e4fd-40d2-bf64-cb08f7c84b90",
        "colab": {
          "base_uri": "https://localhost:8080/",
          "height": 33
        }
      },
      "source": [
        "scores.mean(),scores.std()"
      ],
      "execution_count": 108,
      "outputs": [
        {
          "output_type": "execute_result",
          "data": {
            "text/plain": [
              "(0.5258145363408521, 0.0010025062656641383)"
            ]
          },
          "metadata": {
            "tags": []
          },
          "execution_count": 108
        }
      ]
    },
    {
      "cell_type": "code",
      "metadata": {
        "id": "l3a10gQQ_kqJ",
        "colab_type": "code",
        "colab": {}
      },
      "source": [
        ""
      ],
      "execution_count": 0,
      "outputs": []
    }
  ]
}